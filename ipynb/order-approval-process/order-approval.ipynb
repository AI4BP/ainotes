{
 "cells": [
  {
   "cell_type": "markdown",
   "source": "# ML-BPMN Getting Started with scikit-learn, PMML and Camunda\n\n*... a tutorial for students in the FHNW MSc module Digitalisation of Business Processes (DigiBP), written by [Andreas Martin, PhD](https://andreasmartin.ch).*\n\n[![deepnote](https://deepnote.com/buttons/launch-in-deepnote-small.svg)](https://deepnote.com/launch?url=https%3A%2F%2Fgithub.com%2FDigiBP%2Fdigibp-camunda-classroom%2Fblob%2Fmaster%2Fmodelling%2Fpmml%2FML_Getting_Started.ipynb) [![Collab](https://colab.research.google.com/assets/colab-badge.svg)](https://colab.research.google.com/github/DigiBP/digibp-camunda-classroom/blob/master/modelling/pmml/ML_Getting_Started.ipynb) [![Gitpod](https://img.shields.io/badge/Gitpod-Run%20in%20VS%20Code-908a85?logo=gitpod)](https://gitpod.io/#https://github.com/.../...) [![GitHub.dev](https://img.shields.io/badge/github.dev-Open%20in%20VS%20Code-908a85?logo=github)](https://github.dev/DigiBP/digibp-camunda-classroom/blob/master/modelling/pmml/ML_Getting_Started.ipynb)\n\nThis short tutorial is intended to provide a straight forward introduction to machine learning using the widely used Python library **scikit-learn** (aka sklearn).\n\n> Trivia: The name *SciKit* is derived from its original intention being a SciPy Toolkit. SciPy is another Python library for scientific computing.\n\nSklearn enjoys huge popularity when it comes to classic machine learning methods; it is well documented, has a large developer community and besides the official documentation there are plenty of other good resources for the ML toolkit available on the web.\n\n> Sklearn is intended for **classical ML** and **not for Deep Learning**, although a Multi-layer Perceptron (MLP), for example, can be trained. Since Sklearn does **not support GPUs**, it is not suitable for large-scale applications.",
   "metadata": {
    "cell_id": "00000-8d6ee9ee-a834-4d43-97b0-290aae0d32e9",
    "id": "07pKC6QDXX0S",
    "deepnote_cell_type": "markdown"
   }
  },
  {
   "cell_type": "markdown",
   "source": "## Data and Use Case\nThis tutorial uses historical data from an expense reporting and audit process — the **order approval process** is depicted in the following Fig a:\n\n![](https://github.com/DigiBP/digibp-camunda-classroom/raw/master/modelling/pmml/order-approval-sklearn.png)\n\n**Fig a**: approval process\n\nThis (possibly synthetic) data was collected by humans, which is approved or not based on the expense **category**, **urgency**, **target price** and actual **price** paid.\n\n> This use case has been inspired by an example/article of Donato Marrazzo (Red Hat, Inc.). He provided data, in a related GitHub repository [[1]](https://github.com/dmarrazzo/rhdm-dmn-pmml-order), of an **expense approval process**, which is used here in this tutorial, along with a series of articles ([[2]](https://developers.redhat.com/blog/2021/01/14/knowledge-meets-machine-learning-for-smarter-decisions-part-1#conclusion) and [[3]](https://developers.redhat.com/blog/2021/01/22/knowledge-meets-machine-learning-for-smarter-decisions-part-2#conclusion)).",
   "metadata": {
    "cell_id": "00001-a237bda6-59e5-4250-a376-11777d2160b6",
    "id": "_YJcShEfbLuq",
    "deepnote_cell_type": "markdown"
   }
  },
  {
   "cell_type": "markdown",
   "source": "### 🚧 Main Task\nThe task in this tutorial is to train an ML model step by step and then generate a PMML file, which then implements the `Approve expense order (PMML)` activity depicted in Fig a.",
   "metadata": {
    "cell_id": "00002-6ab0b364-0beb-405b-89ee-026f04e35f23",
    "id": "bzarPqtIlaii",
    "deepnote_cell_type": "markdown"
   }
  },
  {
   "cell_type": "markdown",
   "source": "## 1. Load the CSV File\nLoad the CSV file from GitHub and feed the data into the *data* variable by using [pandas](https://pandas.pydata.org/pandas-docs/stable/reference/api/pandas.read_csv.html). Pandas is intended to be a data analysis and manipulation tool, which is used here and the following steps until dataset separation.",
   "metadata": {
    "cell_id": "00003-0624d79b-6fea-4881-b7ba-dbceee4c79db",
    "id": "ETuIabj8I47A",
    "deepnote_cell_type": "markdown"
   }
  },
  {
   "cell_type": "code",
   "metadata": {
    "cell_id": "00004-0986ee09-6817-4c5e-bc28-4e610710d45c",
    "deepnote_to_be_reexecuted": false,
    "execution_millis": 187,
    "execution_start": 1637526944003,
    "id": "rVcppWD74FP4",
    "source_hash": "69e08a21",
    "output_cleared": true,
    "deepnote_cell_type": "code"
   },
   "source": "import pandas\n\ngithub_url = \"https://raw.githubusercontent.com/DigiBP/digibp-camunda-classroom/master/modelling/pmml\"\n\ndata = pandas.read_csv(f\"{github_url}/order-approval.csv\", sep = \",\")\n\ndata",
   "outputs": [
    {
     "output_type": "execute_result",
     "execution_count": 1,
     "data": {
      "application/vnd.deepnote.dataframe.v2+json": {
       "row_count": 4000,
       "column_count": 5,
       "columns": [
        {
         "name": "category",
         "dtype": "object",
         "stats": {
          "unique_count": 2,
          "nan_count": 0,
          "categories": [
           {
            "name": "basic",
            "count": 2033
           },
           {
            "name": "optional",
            "count": 1967
           }
          ]
         }
        },
        {
         "name": "urgency",
         "dtype": "object",
         "stats": {
          "unique_count": 3,
          "nan_count": 0,
          "categories": [
           {
            "name": "low",
            "count": 1401
           },
           {
            "name": "medium",
            "count": 1321
           },
           {
            "name": "high",
            "count": 1278
           }
          ]
         }
        },
        {
         "name": "targetPrice",
         "dtype": "int64",
         "stats": {
          "unique_count": 350,
          "nan_count": 0,
          "min": "0",
          "max": "3490",
          "histogram": [
           {
            "bin_start": 0,
            "bin_end": 349,
            "count": 413
           },
           {
            "bin_start": 349,
            "bin_end": 698,
            "count": 428
           },
           {
            "bin_start": 698,
            "bin_end": 1047,
            "count": 379
           },
           {
            "bin_start": 1047,
            "bin_end": 1396,
            "count": 390
           },
           {
            "bin_start": 1396,
            "bin_end": 1745,
            "count": 423
           },
           {
            "bin_start": 1745,
            "bin_end": 2094,
            "count": 399
           },
           {
            "bin_start": 2094,
            "bin_end": 2443,
            "count": 393
           },
           {
            "bin_start": 2443,
            "bin_end": 2792,
            "count": 404
           },
           {
            "bin_start": 2792,
            "bin_end": 3141,
            "count": 385
           },
           {
            "bin_start": 3141,
            "bin_end": 3490,
            "count": 386
           }
          ]
         }
        },
        {
         "name": "price",
         "dtype": "int64",
         "stats": {
          "unique_count": 2474,
          "nan_count": 0,
          "min": "19",
          "max": "3967",
          "histogram": [
           {
            "bin_start": 19,
            "bin_end": 413.8,
            "count": 221
           },
           {
            "bin_start": 413.8,
            "bin_end": 808.6,
            "count": 453
           },
           {
            "bin_start": 808.6,
            "bin_end": 1203.4,
            "count": 470
           },
           {
            "bin_start": 1203.4,
            "bin_end": 1598.2,
            "count": 419
           },
           {
            "bin_start": 1598.2,
            "bin_end": 1993,
            "count": 467
           },
           {
            "bin_start": 1993,
            "bin_end": 2387.8,
            "count": 445
           },
           {
            "bin_start": 2387.8,
            "bin_end": 2782.6,
            "count": 453
           },
           {
            "bin_start": 2782.6,
            "bin_end": 3177.4,
            "count": 452
           },
           {
            "bin_start": 3177.4,
            "bin_end": 3572.2000000000003,
            "count": 425
           },
           {
            "bin_start": 3572.2000000000003,
            "bin_end": 3967,
            "count": 195
           }
          ]
         }
        },
        {
         "name": "approved",
         "dtype": "bool",
         "stats": {
          "unique_count": 2,
          "nan_count": 0,
          "categories": [
           {
            "name": "True",
            "count": 2157
           },
           {
            "name": "False",
            "count": 1843
           }
          ]
         }
        },
        {
         "name": "_deepnote_index_column",
         "dtype": "int64"
        }
       ],
       "rows_top": [
        {
         "category": "basic",
         "urgency": "medium",
         "targetPrice": 790,
         "price": 837,
         "approved": true,
         "_deepnote_index_column": 0
        },
        {
         "category": "basic",
         "urgency": "high",
         "targetPrice": 1250,
         "price": 1734,
         "approved": false,
         "_deepnote_index_column": 1
        },
        {
         "category": "optional",
         "urgency": "low",
         "targetPrice": 670,
         "price": 944,
         "approved": false,
         "_deepnote_index_column": 2
        },
        {
         "category": "basic",
         "urgency": "medium",
         "targetPrice": 1550,
         "price": 1728,
         "approved": true,
         "_deepnote_index_column": 3
        },
        {
         "category": "optional",
         "urgency": "medium",
         "targetPrice": 630,
         "price": 988,
         "approved": false,
         "_deepnote_index_column": 4
        },
        {
         "category": "optional",
         "urgency": "medium",
         "targetPrice": 2650,
         "price": 2789,
         "approved": true,
         "_deepnote_index_column": 5
        },
        {
         "category": "basic",
         "urgency": "medium",
         "targetPrice": 1570,
         "price": 1955,
         "approved": false,
         "_deepnote_index_column": 6
        },
        {
         "category": "basic",
         "urgency": "low",
         "targetPrice": 1630,
         "price": 1725,
         "approved": true,
         "_deepnote_index_column": 7
        },
        {
         "category": "optional",
         "urgency": "medium",
         "targetPrice": 2190,
         "price": 2610,
         "approved": false,
         "_deepnote_index_column": 8
        },
        {
         "category": "optional",
         "urgency": "high",
         "targetPrice": 560,
         "price": 865,
         "approved": false,
         "_deepnote_index_column": 9
        },
        {
         "category": "optional",
         "urgency": "medium",
         "targetPrice": 460,
         "price": 871,
         "approved": false,
         "_deepnote_index_column": 10
        },
        {
         "category": "optional",
         "urgency": "medium",
         "targetPrice": 3130,
         "price": 3372,
         "approved": true,
         "_deepnote_index_column": 11
        },
        {
         "category": "optional",
         "urgency": "high",
         "targetPrice": 2000,
         "price": 2307,
         "approved": true,
         "_deepnote_index_column": 12
        },
        {
         "category": "basic",
         "urgency": "medium",
         "targetPrice": 3310,
         "price": 3607,
         "approved": true,
         "_deepnote_index_column": 13
        },
        {
         "category": "basic",
         "urgency": "low",
         "targetPrice": 910,
         "price": 1193,
         "approved": false,
         "_deepnote_index_column": 14
        },
        {
         "category": "basic",
         "urgency": "medium",
         "targetPrice": 810,
         "price": 1228,
         "approved": false,
         "_deepnote_index_column": 15
        },
        {
         "category": "basic",
         "urgency": "medium",
         "targetPrice": 810,
         "price": 1236,
         "approved": false,
         "_deepnote_index_column": 16
        },
        {
         "category": "basic",
         "urgency": "low",
         "targetPrice": 2950,
         "price": 3131,
         "approved": true,
         "_deepnote_index_column": 17
        },
        {
         "category": "basic",
         "urgency": "medium",
         "targetPrice": 2750,
         "price": 3135,
         "approved": true,
         "_deepnote_index_column": 18
        },
        {
         "category": "basic",
         "urgency": "low",
         "targetPrice": 2060,
         "price": 2076,
         "approved": true,
         "_deepnote_index_column": 19
        },
        {
         "category": "basic",
         "urgency": "high",
         "targetPrice": 1090,
         "price": 1200,
         "approved": true,
         "_deepnote_index_column": 20
        },
        {
         "category": "optional",
         "urgency": "medium",
         "targetPrice": 1940,
         "price": 2262,
         "approved": false,
         "_deepnote_index_column": 21
        },
        {
         "category": "optional",
         "urgency": "medium",
         "targetPrice": 110,
         "price": 410,
         "approved": false,
         "_deepnote_index_column": 22
        },
        {
         "category": "basic",
         "urgency": "medium",
         "targetPrice": 220,
         "price": 403,
         "approved": false,
         "_deepnote_index_column": 23
        },
        {
         "category": "basic",
         "urgency": "high",
         "targetPrice": 890,
         "price": 1375,
         "approved": false,
         "_deepnote_index_column": 24
        },
        {
         "category": "optional",
         "urgency": "medium",
         "targetPrice": 2910,
         "price": 3396,
         "approved": false,
         "_deepnote_index_column": 25
        },
        {
         "category": "optional",
         "urgency": "low",
         "targetPrice": 810,
         "price": 851,
         "approved": true,
         "_deepnote_index_column": 26
        },
        {
         "category": "basic",
         "urgency": "medium",
         "targetPrice": 150,
         "price": 572,
         "approved": false,
         "_deepnote_index_column": 27
        },
        {
         "category": "optional",
         "urgency": "high",
         "targetPrice": 1400,
         "price": 1882,
         "approved": false,
         "_deepnote_index_column": 28
        },
        {
         "category": "optional",
         "urgency": "low",
         "targetPrice": 3020,
         "price": 3376,
         "approved": false,
         "_deepnote_index_column": 29
        },
        {
         "category": "optional",
         "urgency": "low",
         "targetPrice": 1660,
         "price": 1919,
         "approved": false,
         "_deepnote_index_column": 30
        },
        {
         "category": "basic",
         "urgency": "medium",
         "targetPrice": 110,
         "price": 458,
         "approved": false,
         "_deepnote_index_column": 31
        },
        {
         "category": "basic",
         "urgency": "high",
         "targetPrice": 2260,
         "price": 2586,
         "approved": true,
         "_deepnote_index_column": 32
        },
        {
         "category": "basic",
         "urgency": "low",
         "targetPrice": 1570,
         "price": 1862,
         "approved": false,
         "_deepnote_index_column": 33
        },
        {
         "category": "basic",
         "urgency": "high",
         "targetPrice": 420,
         "price": 584,
         "approved": false,
         "_deepnote_index_column": 34
        },
        {
         "category": "optional",
         "urgency": "low",
         "targetPrice": 960,
         "price": 1204,
         "approved": false,
         "_deepnote_index_column": 35
        },
        {
         "category": "basic",
         "urgency": "low",
         "targetPrice": 610,
         "price": 949,
         "approved": false,
         "_deepnote_index_column": 36
        },
        {
         "category": "basic",
         "urgency": "high",
         "targetPrice": 1790,
         "price": 2018,
         "approved": true,
         "_deepnote_index_column": 37
        },
        {
         "category": "basic",
         "urgency": "low",
         "targetPrice": 1720,
         "price": 1731,
         "approved": true,
         "_deepnote_index_column": 38
        },
        {
         "category": "optional",
         "urgency": "medium",
         "targetPrice": 1770,
         "price": 2193,
         "approved": false,
         "_deepnote_index_column": 39
        },
        {
         "category": "optional",
         "urgency": "medium",
         "targetPrice": 1160,
         "price": 1305,
         "approved": false,
         "_deepnote_index_column": 40
        },
        {
         "category": "basic",
         "urgency": "high",
         "targetPrice": 780,
         "price": 1076,
         "approved": false,
         "_deepnote_index_column": 41
        },
        {
         "category": "optional",
         "urgency": "high",
         "targetPrice": 610,
         "price": 692,
         "approved": true,
         "_deepnote_index_column": 42
        },
        {
         "category": "basic",
         "urgency": "low",
         "targetPrice": 310,
         "price": 665,
         "approved": false,
         "_deepnote_index_column": 43
        },
        {
         "category": "optional",
         "urgency": "medium",
         "targetPrice": 750,
         "price": 852,
         "approved": false,
         "_deepnote_index_column": 44
        },
        {
         "category": "basic",
         "urgency": "medium",
         "targetPrice": 1870,
         "price": 2305,
         "approved": false,
         "_deepnote_index_column": 45
        },
        {
         "category": "basic",
         "urgency": "low",
         "targetPrice": 2160,
         "price": 2643,
         "approved": false,
         "_deepnote_index_column": 46
        },
        {
         "category": "optional",
         "urgency": "low",
         "targetPrice": 240,
         "price": 418,
         "approved": false,
         "_deepnote_index_column": 47
        },
        {
         "category": "optional",
         "urgency": "low",
         "targetPrice": 2260,
         "price": 2639,
         "approved": false,
         "_deepnote_index_column": 48
        },
        {
         "category": "basic",
         "urgency": "high",
         "targetPrice": 3140,
         "price": 3239,
         "approved": true,
         "_deepnote_index_column": 49
        },
        {
         "category": "optional",
         "urgency": "low",
         "targetPrice": 1460,
         "price": 1672,
         "approved": false,
         "_deepnote_index_column": 50
        },
        {
         "category": "basic",
         "urgency": "high",
         "targetPrice": 1990,
         "price": 2322,
         "approved": true,
         "_deepnote_index_column": 51
        },
        {
         "category": "optional",
         "urgency": "low",
         "targetPrice": 2590,
         "price": 2992,
         "approved": false,
         "_deepnote_index_column": 52
        },
        {
         "category": "basic",
         "urgency": "medium",
         "targetPrice": 1060,
         "price": 1270,
         "approved": false,
         "_deepnote_index_column": 53
        },
        {
         "category": "basic",
         "urgency": "low",
         "targetPrice": 3180,
         "price": 3647,
         "approved": true,
         "_deepnote_index_column": 54
        },
        {
         "category": "optional",
         "urgency": "low",
         "targetPrice": 1130,
         "price": 1225,
         "approved": true,
         "_deepnote_index_column": 55
        },
        {
         "category": "basic",
         "urgency": "high",
         "targetPrice": 770,
         "price": 803,
         "approved": true,
         "_deepnote_index_column": 56
        },
        {
         "category": "basic",
         "urgency": "low",
         "targetPrice": 2810,
         "price": 3088,
         "approved": true,
         "_deepnote_index_column": 57
        },
        {
         "category": "optional",
         "urgency": "high",
         "targetPrice": 3340,
         "price": 3439,
         "approved": true,
         "_deepnote_index_column": 58
        },
        {
         "category": "basic",
         "urgency": "low",
         "targetPrice": 310,
         "price": 470,
         "approved": false,
         "_deepnote_index_column": 59
        },
        {
         "category": "basic",
         "urgency": "high",
         "targetPrice": 2110,
         "price": 2155,
         "approved": true,
         "_deepnote_index_column": 60
        },
        {
         "category": "optional",
         "urgency": "low",
         "targetPrice": 2410,
         "price": 2806,
         "approved": false,
         "_deepnote_index_column": 61
        },
        {
         "category": "optional",
         "urgency": "medium",
         "targetPrice": 720,
         "price": 1062,
         "approved": false,
         "_deepnote_index_column": 62
        },
        {
         "category": "basic",
         "urgency": "low",
         "targetPrice": 1560,
         "price": 2039,
         "approved": false,
         "_deepnote_index_column": 63
        },
        {
         "category": "basic",
         "urgency": "medium",
         "targetPrice": 150,
         "price": 464,
         "approved": false,
         "_deepnote_index_column": 64
        },
        {
         "category": "optional",
         "urgency": "medium",
         "targetPrice": 330,
         "price": 819,
         "approved": false,
         "_deepnote_index_column": 65
        },
        {
         "category": "optional",
         "urgency": "medium",
         "targetPrice": 2820,
         "price": 3220,
         "approved": false,
         "_deepnote_index_column": 66
        },
        {
         "category": "optional",
         "urgency": "low",
         "targetPrice": 770,
         "price": 1117,
         "approved": false,
         "_deepnote_index_column": 67
        },
        {
         "category": "optional",
         "urgency": "high",
         "targetPrice": 1460,
         "price": 1683,
         "approved": true,
         "_deepnote_index_column": 68
        },
        {
         "category": "optional",
         "urgency": "medium",
         "targetPrice": 1250,
         "price": 1469,
         "approved": false,
         "_deepnote_index_column": 69
        },
        {
         "category": "basic",
         "urgency": "high",
         "targetPrice": 3150,
         "price": 3293,
         "approved": true,
         "_deepnote_index_column": 70
        },
        {
         "category": "optional",
         "urgency": "high",
         "targetPrice": 600,
         "price": 751,
         "approved": false,
         "_deepnote_index_column": 71
        },
        {
         "category": "basic",
         "urgency": "low",
         "targetPrice": 2280,
         "price": 2448,
         "approved": true,
         "_deepnote_index_column": 72
        },
        {
         "category": "basic",
         "urgency": "medium",
         "targetPrice": 2760,
         "price": 2909,
         "approved": true,
         "_deepnote_index_column": 73
        },
        {
         "category": "basic",
         "urgency": "medium",
         "targetPrice": 370,
         "price": 780,
         "approved": false,
         "_deepnote_index_column": 74
        },
        {
         "category": "optional",
         "urgency": "medium",
         "targetPrice": 2510,
         "price": 2571,
         "approved": true,
         "_deepnote_index_column": 75
        },
        {
         "category": "basic",
         "urgency": "high",
         "targetPrice": 870,
         "price": 1305,
         "approved": false,
         "_deepnote_index_column": 76
        },
        {
         "category": "basic",
         "urgency": "medium",
         "targetPrice": 1380,
         "price": 1794,
         "approved": false,
         "_deepnote_index_column": 77
        },
        {
         "category": "basic",
         "urgency": "high",
         "targetPrice": 2110,
         "price": 2544,
         "approved": true,
         "_deepnote_index_column": 78
        },
        {
         "category": "basic",
         "urgency": "high",
         "targetPrice": 3060,
         "price": 3278,
         "approved": true,
         "_deepnote_index_column": 79
        },
        {
         "category": "optional",
         "urgency": "high",
         "targetPrice": 1010,
         "price": 1100,
         "approved": true,
         "_deepnote_index_column": 80
        },
        {
         "category": "basic",
         "urgency": "low",
         "targetPrice": 2050,
         "price": 2367,
         "approved": false,
         "_deepnote_index_column": 81
        },
        {
         "category": "optional",
         "urgency": "high",
         "targetPrice": 1240,
         "price": 1428,
         "approved": true,
         "_deepnote_index_column": 82
        },
        {
         "category": "optional",
         "urgency": "medium",
         "targetPrice": 2520,
         "price": 2541,
         "approved": true,
         "_deepnote_index_column": 83
        },
        {
         "category": "basic",
         "urgency": "high",
         "targetPrice": 2960,
         "price": 3009,
         "approved": true,
         "_deepnote_index_column": 84
        },
        {
         "category": "optional",
         "urgency": "low",
         "targetPrice": 170,
         "price": 200,
         "approved": false,
         "_deepnote_index_column": 85
        },
        {
         "category": "optional",
         "urgency": "low",
         "targetPrice": 1610,
         "price": 1793,
         "approved": false,
         "_deepnote_index_column": 86
        },
        {
         "category": "optional",
         "urgency": "low",
         "targetPrice": 1550,
         "price": 1565,
         "approved": true,
         "_deepnote_index_column": 87
        },
        {
         "category": "optional",
         "urgency": "low",
         "targetPrice": 3340,
         "price": 3672,
         "approved": true,
         "_deepnote_index_column": 88
        },
        {
         "category": "basic",
         "urgency": "medium",
         "targetPrice": 670,
         "price": 684,
         "approved": true,
         "_deepnote_index_column": 89
        },
        {
         "category": "basic",
         "urgency": "medium",
         "targetPrice": 2010,
         "price": 2433,
         "approved": false,
         "_deepnote_index_column": 90
        },
        {
         "category": "optional",
         "urgency": "medium",
         "targetPrice": 2810,
         "price": 2915,
         "approved": true,
         "_deepnote_index_column": 91
        },
        {
         "category": "basic",
         "urgency": "medium",
         "targetPrice": 1940,
         "price": 2039,
         "approved": true,
         "_deepnote_index_column": 92
        },
        {
         "category": "basic",
         "urgency": "medium",
         "targetPrice": 2800,
         "price": 3017,
         "approved": true,
         "_deepnote_index_column": 93
        },
        {
         "category": "basic",
         "urgency": "medium",
         "targetPrice": 3370,
         "price": 3572,
         "approved": true,
         "_deepnote_index_column": 94
        },
        {
         "category": "basic",
         "urgency": "low",
         "targetPrice": 470,
         "price": 759,
         "approved": false,
         "_deepnote_index_column": 95
        },
        {
         "category": "optional",
         "urgency": "high",
         "targetPrice": 180,
         "price": 416,
         "approved": false,
         "_deepnote_index_column": 96
        },
        {
         "category": "optional",
         "urgency": "low",
         "targetPrice": 1400,
         "price": 1551,
         "approved": false,
         "_deepnote_index_column": 97
        },
        {
         "category": "basic",
         "urgency": "low",
         "targetPrice": 2150,
         "price": 2370,
         "approved": true,
         "_deepnote_index_column": 98
        },
        {
         "category": "basic",
         "urgency": "medium",
         "targetPrice": 1370,
         "price": 1840,
         "approved": false,
         "_deepnote_index_column": 99
        }
       ],
       "rows_bottom": [
        {
         "category": "basic",
         "urgency": "low",
         "targetPrice": 2590,
         "price": 2975,
         "approved": true,
         "_deepnote_index_column": 3900
        },
        {
         "category": "optional",
         "urgency": "high",
         "targetPrice": 2410,
         "price": 2850,
         "approved": false,
         "_deepnote_index_column": 3901
        },
        {
         "category": "basic",
         "urgency": "high",
         "targetPrice": 2040,
         "price": 2356,
         "approved": true,
         "_deepnote_index_column": 3902
        },
        {
         "category": "basic",
         "urgency": "low",
         "targetPrice": 1980,
         "price": 2011,
         "approved": true,
         "_deepnote_index_column": 3903
        },
        {
         "category": "optional",
         "urgency": "high",
         "targetPrice": 1480,
         "price": 1815,
         "approved": false,
         "_deepnote_index_column": 3904
        },
        {
         "category": "optional",
         "urgency": "low",
         "targetPrice": 2000,
         "price": 2017,
         "approved": true,
         "_deepnote_index_column": 3905
        },
        {
         "category": "optional",
         "urgency": "medium",
         "targetPrice": 30,
         "price": 289,
         "approved": false,
         "_deepnote_index_column": 3906
        },
        {
         "category": "basic",
         "urgency": "low",
         "targetPrice": 410,
         "price": 727,
         "approved": false,
         "_deepnote_index_column": 3907
        },
        {
         "category": "optional",
         "urgency": "high",
         "targetPrice": 1920,
         "price": 2165,
         "approved": true,
         "_deepnote_index_column": 3908
        },
        {
         "category": "basic",
         "urgency": "high",
         "targetPrice": 2840,
         "price": 3250,
         "approved": true,
         "_deepnote_index_column": 3909
        },
        {
         "category": "basic",
         "urgency": "medium",
         "targetPrice": 2790,
         "price": 2956,
         "approved": true,
         "_deepnote_index_column": 3910
        },
        {
         "category": "optional",
         "urgency": "low",
         "targetPrice": 1390,
         "price": 1780,
         "approved": false,
         "_deepnote_index_column": 3911
        },
        {
         "category": "optional",
         "urgency": "high",
         "targetPrice": 460,
         "price": 656,
         "approved": false,
         "_deepnote_index_column": 3912
        },
        {
         "category": "basic",
         "urgency": "high",
         "targetPrice": 2710,
         "price": 2950,
         "approved": true,
         "_deepnote_index_column": 3913
        },
        {
         "category": "basic",
         "urgency": "high",
         "targetPrice": 2790,
         "price": 3189,
         "approved": true,
         "_deepnote_index_column": 3914
        },
        {
         "category": "optional",
         "urgency": "high",
         "targetPrice": 1420,
         "price": 1880,
         "approved": false,
         "_deepnote_index_column": 3915
        },
        {
         "category": "optional",
         "urgency": "low",
         "targetPrice": 3410,
         "price": 3637,
         "approved": true,
         "_deepnote_index_column": 3916
        },
        {
         "category": "optional",
         "urgency": "medium",
         "targetPrice": 3170,
         "price": 3431,
         "approved": true,
         "_deepnote_index_column": 3917
        },
        {
         "category": "basic",
         "urgency": "medium",
         "targetPrice": 1340,
         "price": 1656,
         "approved": false,
         "_deepnote_index_column": 3918
        },
        {
         "category": "basic",
         "urgency": "high",
         "targetPrice": 3210,
         "price": 3672,
         "approved": true,
         "_deepnote_index_column": 3919
        },
        {
         "category": "basic",
         "urgency": "low",
         "targetPrice": 940,
         "price": 1208,
         "approved": false,
         "_deepnote_index_column": 3920
        },
        {
         "category": "optional",
         "urgency": "low",
         "targetPrice": 20,
         "price": 50,
         "approved": false,
         "_deepnote_index_column": 3921
        },
        {
         "category": "optional",
         "urgency": "high",
         "targetPrice": 2910,
         "price": 3303,
         "approved": true,
         "_deepnote_index_column": 3922
        },
        {
         "category": "optional",
         "urgency": "high",
         "targetPrice": 2980,
         "price": 3099,
         "approved": true,
         "_deepnote_index_column": 3923
        },
        {
         "category": "basic",
         "urgency": "medium",
         "targetPrice": 1710,
         "price": 2104,
         "approved": false,
         "_deepnote_index_column": 3924
        },
        {
         "category": "basic",
         "urgency": "high",
         "targetPrice": 240,
         "price": 286,
         "approved": true,
         "_deepnote_index_column": 3925
        },
        {
         "category": "basic",
         "urgency": "low",
         "targetPrice": 3440,
         "price": 3829,
         "approved": true,
         "_deepnote_index_column": 3926
        },
        {
         "category": "basic",
         "urgency": "low",
         "targetPrice": 2920,
         "price": 3037,
         "approved": true,
         "_deepnote_index_column": 3927
        },
        {
         "category": "basic",
         "urgency": "high",
         "targetPrice": 440,
         "price": 526,
         "approved": true,
         "_deepnote_index_column": 3928
        },
        {
         "category": "optional",
         "urgency": "medium",
         "targetPrice": 940,
         "price": 1154,
         "approved": false,
         "_deepnote_index_column": 3929
        },
        {
         "category": "basic",
         "urgency": "high",
         "targetPrice": 2430,
         "price": 2646,
         "approved": true,
         "_deepnote_index_column": 3930
        },
        {
         "category": "basic",
         "urgency": "medium",
         "targetPrice": 1350,
         "price": 1424,
         "approved": true,
         "_deepnote_index_column": 3931
        },
        {
         "category": "basic",
         "urgency": "high",
         "targetPrice": 1840,
         "price": 1971,
         "approved": true,
         "_deepnote_index_column": 3932
        },
        {
         "category": "optional",
         "urgency": "high",
         "targetPrice": 2290,
         "price": 2453,
         "approved": true,
         "_deepnote_index_column": 3933
        },
        {
         "category": "basic",
         "urgency": "low",
         "targetPrice": 1140,
         "price": 1552,
         "approved": false,
         "_deepnote_index_column": 3934
        },
        {
         "category": "optional",
         "urgency": "high",
         "targetPrice": 1270,
         "price": 1491,
         "approved": true,
         "_deepnote_index_column": 3935
        },
        {
         "category": "basic",
         "urgency": "medium",
         "targetPrice": 1840,
         "price": 2290,
         "approved": false,
         "_deepnote_index_column": 3936
        },
        {
         "category": "basic",
         "urgency": "medium",
         "targetPrice": 1320,
         "price": 1616,
         "approved": false,
         "_deepnote_index_column": 3937
        },
        {
         "category": "basic",
         "urgency": "high",
         "targetPrice": 150,
         "price": 441,
         "approved": false,
         "_deepnote_index_column": 3938
        },
        {
         "category": "basic",
         "urgency": "high",
         "targetPrice": 1410,
         "price": 1624,
         "approved": true,
         "_deepnote_index_column": 3939
        },
        {
         "category": "optional",
         "urgency": "high",
         "targetPrice": 450,
         "price": 589,
         "approved": false,
         "_deepnote_index_column": 3940
        },
        {
         "category": "basic",
         "urgency": "medium",
         "targetPrice": 500,
         "price": 921,
         "approved": false,
         "_deepnote_index_column": 3941
        },
        {
         "category": "optional",
         "urgency": "low",
         "targetPrice": 180,
         "price": 400,
         "approved": false,
         "_deepnote_index_column": 3942
        },
        {
         "category": "basic",
         "urgency": "medium",
         "targetPrice": 2370,
         "price": 2623,
         "approved": true,
         "_deepnote_index_column": 3943
        },
        {
         "category": "basic",
         "urgency": "high",
         "targetPrice": 1530,
         "price": 1582,
         "approved": true,
         "_deepnote_index_column": 3944
        },
        {
         "category": "basic",
         "urgency": "low",
         "targetPrice": 1390,
         "price": 1775,
         "approved": false,
         "_deepnote_index_column": 3945
        },
        {
         "category": "basic",
         "urgency": "low",
         "targetPrice": 680,
         "price": 825,
         "approved": false,
         "_deepnote_index_column": 3946
        },
        {
         "category": "basic",
         "urgency": "high",
         "targetPrice": 2840,
         "price": 3269,
         "approved": true,
         "_deepnote_index_column": 3947
        },
        {
         "category": "optional",
         "urgency": "medium",
         "targetPrice": 1890,
         "price": 2025,
         "approved": true,
         "_deepnote_index_column": 3948
        },
        {
         "category": "basic",
         "urgency": "high",
         "targetPrice": 1840,
         "price": 2073,
         "approved": true,
         "_deepnote_index_column": 3949
        },
        {
         "category": "optional",
         "urgency": "high",
         "targetPrice": 1030,
         "price": 1050,
         "approved": true,
         "_deepnote_index_column": 3950
        },
        {
         "category": "optional",
         "urgency": "high",
         "targetPrice": 540,
         "price": 897,
         "approved": false,
         "_deepnote_index_column": 3951
        },
        {
         "category": "optional",
         "urgency": "low",
         "targetPrice": 2920,
         "price": 3415,
         "approved": false,
         "_deepnote_index_column": 3952
        },
        {
         "category": "optional",
         "urgency": "high",
         "targetPrice": 2360,
         "price": 2630,
         "approved": true,
         "_deepnote_index_column": 3953
        },
        {
         "category": "basic",
         "urgency": "low",
         "targetPrice": 690,
         "price": 892,
         "approved": false,
         "_deepnote_index_column": 3954
        },
        {
         "category": "basic",
         "urgency": "high",
         "targetPrice": 2240,
         "price": 2524,
         "approved": true,
         "_deepnote_index_column": 3955
        },
        {
         "category": "optional",
         "urgency": "high",
         "targetPrice": 2590,
         "price": 3067,
         "approved": false,
         "_deepnote_index_column": 3956
        },
        {
         "category": "basic",
         "urgency": "medium",
         "targetPrice": 3240,
         "price": 3335,
         "approved": true,
         "_deepnote_index_column": 3957
        },
        {
         "category": "basic",
         "urgency": "high",
         "targetPrice": 2850,
         "price": 3167,
         "approved": true,
         "_deepnote_index_column": 3958
        },
        {
         "category": "optional",
         "urgency": "medium",
         "targetPrice": 3260,
         "price": 3625,
         "approved": true,
         "_deepnote_index_column": 3959
        },
        {
         "category": "basic",
         "urgency": "medium",
         "targetPrice": 1450,
         "price": 1509,
         "approved": true,
         "_deepnote_index_column": 3960
        },
        {
         "category": "basic",
         "urgency": "high",
         "targetPrice": 640,
         "price": 1106,
         "approved": false,
         "_deepnote_index_column": 3961
        },
        {
         "category": "optional",
         "urgency": "low",
         "targetPrice": 2970,
         "price": 3162,
         "approved": true,
         "_deepnote_index_column": 3962
        },
        {
         "category": "optional",
         "urgency": "high",
         "targetPrice": 2060,
         "price": 2461,
         "approved": false,
         "_deepnote_index_column": 3963
        },
        {
         "category": "basic",
         "urgency": "high",
         "targetPrice": 2020,
         "price": 2172,
         "approved": true,
         "_deepnote_index_column": 3964
        },
        {
         "category": "optional",
         "urgency": "high",
         "targetPrice": 1010,
         "price": 1158,
         "approved": true,
         "_deepnote_index_column": 3965
        },
        {
         "category": "optional",
         "urgency": "high",
         "targetPrice": 3440,
         "price": 3588,
         "approved": true,
         "_deepnote_index_column": 3966
        },
        {
         "category": "basic",
         "urgency": "medium",
         "targetPrice": 3470,
         "price": 3860,
         "approved": true,
         "_deepnote_index_column": 3967
        },
        {
         "category": "basic",
         "urgency": "high",
         "targetPrice": 1720,
         "price": 1914,
         "approved": true,
         "_deepnote_index_column": 3968
        },
        {
         "category": "basic",
         "urgency": "high",
         "targetPrice": 1090,
         "price": 1330,
         "approved": true,
         "_deepnote_index_column": 3969
        },
        {
         "category": "optional",
         "urgency": "medium",
         "targetPrice": 2060,
         "price": 2521,
         "approved": false,
         "_deepnote_index_column": 3970
        },
        {
         "category": "optional",
         "urgency": "low",
         "targetPrice": 3030,
         "price": 3259,
         "approved": true,
         "_deepnote_index_column": 3971
        },
        {
         "category": "basic",
         "urgency": "low",
         "targetPrice": 90,
         "price": 128,
         "approved": false,
         "_deepnote_index_column": 3972
        },
        {
         "category": "optional",
         "urgency": "high",
         "targetPrice": 2220,
         "price": 2221,
         "approved": true,
         "_deepnote_index_column": 3973
        },
        {
         "category": "basic",
         "urgency": "medium",
         "targetPrice": 800,
         "price": 1065,
         "approved": false,
         "_deepnote_index_column": 3974
        },
        {
         "category": "optional",
         "urgency": "medium",
         "targetPrice": 110,
         "price": 426,
         "approved": false,
         "_deepnote_index_column": 3975
        },
        {
         "category": "basic",
         "urgency": "low",
         "targetPrice": 2850,
         "price": 3252,
         "approved": true,
         "_deepnote_index_column": 3976
        },
        {
         "category": "optional",
         "urgency": "high",
         "targetPrice": 2850,
         "price": 3084,
         "approved": true,
         "_deepnote_index_column": 3977
        },
        {
         "category": "basic",
         "urgency": "medium",
         "targetPrice": 580,
         "price": 810,
         "approved": false,
         "_deepnote_index_column": 3978
        },
        {
         "category": "optional",
         "urgency": "low",
         "targetPrice": 2940,
         "price": 2973,
         "approved": true,
         "_deepnote_index_column": 3979
        },
        {
         "category": "basic",
         "urgency": "low",
         "targetPrice": 1220,
         "price": 1512,
         "approved": false,
         "_deepnote_index_column": 3980
        },
        {
         "category": "optional",
         "urgency": "high",
         "targetPrice": 600,
         "price": 999,
         "approved": false,
         "_deepnote_index_column": 3981
        },
        {
         "category": "optional",
         "urgency": "low",
         "targetPrice": 1450,
         "price": 1466,
         "approved": true,
         "_deepnote_index_column": 3982
        },
        {
         "category": "basic",
         "urgency": "high",
         "targetPrice": 2370,
         "price": 2776,
         "approved": true,
         "_deepnote_index_column": 3983
        },
        {
         "category": "basic",
         "urgency": "high",
         "targetPrice": 3090,
         "price": 3555,
         "approved": true,
         "_deepnote_index_column": 3984
        },
        {
         "category": "optional",
         "urgency": "low",
         "targetPrice": 1560,
         "price": 1698,
         "approved": true,
         "_deepnote_index_column": 3985
        },
        {
         "category": "optional",
         "urgency": "high",
         "targetPrice": 640,
         "price": 694,
         "approved": true,
         "_deepnote_index_column": 3986
        },
        {
         "category": "optional",
         "urgency": "low",
         "targetPrice": 1540,
         "price": 1624,
         "approved": true,
         "_deepnote_index_column": 3987
        },
        {
         "category": "optional",
         "urgency": "low",
         "targetPrice": 1920,
         "price": 2340,
         "approved": false,
         "_deepnote_index_column": 3988
        },
        {
         "category": "basic",
         "urgency": "low",
         "targetPrice": 2010,
         "price": 2112,
         "approved": true,
         "_deepnote_index_column": 3989
        },
        {
         "category": "optional",
         "urgency": "low",
         "targetPrice": 570,
         "price": 974,
         "approved": false,
         "_deepnote_index_column": 3990
        },
        {
         "category": "basic",
         "urgency": "high",
         "targetPrice": 2620,
         "price": 2692,
         "approved": true,
         "_deepnote_index_column": 3991
        },
        {
         "category": "basic",
         "urgency": "medium",
         "targetPrice": 1690,
         "price": 2049,
         "approved": false,
         "_deepnote_index_column": 3992
        },
        {
         "category": "optional",
         "urgency": "high",
         "targetPrice": 1240,
         "price": 1405,
         "approved": true,
         "_deepnote_index_column": 3993
        },
        {
         "category": "basic",
         "urgency": "medium",
         "targetPrice": 1700,
         "price": 2102,
         "approved": false,
         "_deepnote_index_column": 3994
        },
        {
         "category": "basic",
         "urgency": "high",
         "targetPrice": 580,
         "price": 903,
         "approved": false,
         "_deepnote_index_column": 3995
        },
        {
         "category": "basic",
         "urgency": "high",
         "targetPrice": 2950,
         "price": 3063,
         "approved": true,
         "_deepnote_index_column": 3996
        },
        {
         "category": "basic",
         "urgency": "low",
         "targetPrice": 1600,
         "price": 1601,
         "approved": true,
         "_deepnote_index_column": 3997
        },
        {
         "category": "basic",
         "urgency": "high",
         "targetPrice": 1890,
         "price": 1994,
         "approved": true,
         "_deepnote_index_column": 3998
        },
        {
         "category": "basic",
         "urgency": "low",
         "targetPrice": 2540,
         "price": 2921,
         "approved": false,
         "_deepnote_index_column": 3999
        }
       ]
      },
      "text/plain": "      category urgency  targetPrice  price  approved\n0        basic  medium          790    837      True\n1        basic    high         1250   1734     False\n2     optional     low          670    944     False\n3        basic  medium         1550   1728      True\n4     optional  medium          630    988     False\n...        ...     ...          ...    ...       ...\n3995     basic    high          580    903     False\n3996     basic    high         2950   3063      True\n3997     basic     low         1600   1601      True\n3998     basic    high         1890   1994      True\n3999     basic     low         2540   2921     False\n\n[4000 rows x 5 columns]",
      "text/html": "<div>\n<style scoped>\n    .dataframe tbody tr th:only-of-type {\n        vertical-align: middle;\n    }\n\n    .dataframe tbody tr th {\n        vertical-align: top;\n    }\n\n    .dataframe thead th {\n        text-align: right;\n    }\n</style>\n<table border=\"1\" class=\"dataframe\">\n  <thead>\n    <tr style=\"text-align: right;\">\n      <th></th>\n      <th>category</th>\n      <th>urgency</th>\n      <th>targetPrice</th>\n      <th>price</th>\n      <th>approved</th>\n    </tr>\n  </thead>\n  <tbody>\n    <tr>\n      <th>0</th>\n      <td>basic</td>\n      <td>medium</td>\n      <td>790</td>\n      <td>837</td>\n      <td>True</td>\n    </tr>\n    <tr>\n      <th>1</th>\n      <td>basic</td>\n      <td>high</td>\n      <td>1250</td>\n      <td>1734</td>\n      <td>False</td>\n    </tr>\n    <tr>\n      <th>2</th>\n      <td>optional</td>\n      <td>low</td>\n      <td>670</td>\n      <td>944</td>\n      <td>False</td>\n    </tr>\n    <tr>\n      <th>3</th>\n      <td>basic</td>\n      <td>medium</td>\n      <td>1550</td>\n      <td>1728</td>\n      <td>True</td>\n    </tr>\n    <tr>\n      <th>4</th>\n      <td>optional</td>\n      <td>medium</td>\n      <td>630</td>\n      <td>988</td>\n      <td>False</td>\n    </tr>\n    <tr>\n      <th>...</th>\n      <td>...</td>\n      <td>...</td>\n      <td>...</td>\n      <td>...</td>\n      <td>...</td>\n    </tr>\n    <tr>\n      <th>3995</th>\n      <td>basic</td>\n      <td>high</td>\n      <td>580</td>\n      <td>903</td>\n      <td>False</td>\n    </tr>\n    <tr>\n      <th>3996</th>\n      <td>basic</td>\n      <td>high</td>\n      <td>2950</td>\n      <td>3063</td>\n      <td>True</td>\n    </tr>\n    <tr>\n      <th>3997</th>\n      <td>basic</td>\n      <td>low</td>\n      <td>1600</td>\n      <td>1601</td>\n      <td>True</td>\n    </tr>\n    <tr>\n      <th>3998</th>\n      <td>basic</td>\n      <td>high</td>\n      <td>1890</td>\n      <td>1994</td>\n      <td>True</td>\n    </tr>\n    <tr>\n      <th>3999</th>\n      <td>basic</td>\n      <td>low</td>\n      <td>2540</td>\n      <td>2921</td>\n      <td>False</td>\n    </tr>\n  </tbody>\n</table>\n<p>4000 rows × 5 columns</p>\n</div>"
     },
     "metadata": {}
    }
   ],
   "execution_count": null
  },
  {
   "cell_type": "markdown",
   "source": "## 2. Map Categories to Numbers\nIf we investigate the output of the loaded data in the previous step, we see, that **category** and **urgency** are some categorical strings. To feed that data into our ML model, we need to convert and map the categorical strings to numbers. So we map...: \n- category *optional* to 0\n- category *basic* to 1\n- urgency *low* to 0\n- urgency *medium* to 1\n- urgency *high* to 2",
   "metadata": {
    "cell_id": "00005-38715fd4-f6d2-46bc-8070-334953f39c6f",
    "id": "wLYOC5z0KVTW",
    "deepnote_cell_type": "markdown"
   }
  },
  {
   "cell_type": "code",
   "metadata": {
    "cell_id": "00006-d4ad62ab-b1a4-4ba1-a684-31ad1ab15009",
    "deepnote_to_be_reexecuted": false,
    "execution_millis": 58,
    "execution_start": 1637526944185,
    "id": "5n3_Vp9tGrqR",
    "output_cleared": true,
    "source_hash": "2dfb20c8",
    "deepnote_cell_type": "code"
   },
   "source": "category = {'optional': 0,'basic': 1}\ndata.category = [category[item] for item in data.category]\nurgency = {'low': 0,'medium': 1,'high': 2}\ndata.urgency = [urgency[item] for item in data.urgency]\n\ndata",
   "outputs": [
    {
     "output_type": "execute_result",
     "execution_count": 2,
     "data": {
      "application/vnd.deepnote.dataframe.v2+json": {
       "row_count": 4000,
       "column_count": 5,
       "columns": [
        {
         "name": "category",
         "dtype": "int64",
         "stats": {
          "unique_count": 2,
          "nan_count": 0,
          "min": "0",
          "max": "1",
          "histogram": [
           {
            "bin_start": 0,
            "bin_end": 0.1,
            "count": 1967
           },
           {
            "bin_start": 0.1,
            "bin_end": 0.2,
            "count": 0
           },
           {
            "bin_start": 0.2,
            "bin_end": 0.30000000000000004,
            "count": 0
           },
           {
            "bin_start": 0.30000000000000004,
            "bin_end": 0.4,
            "count": 0
           },
           {
            "bin_start": 0.4,
            "bin_end": 0.5,
            "count": 0
           },
           {
            "bin_start": 0.5,
            "bin_end": 0.6000000000000001,
            "count": 0
           },
           {
            "bin_start": 0.6000000000000001,
            "bin_end": 0.7000000000000001,
            "count": 0
           },
           {
            "bin_start": 0.7000000000000001,
            "bin_end": 0.8,
            "count": 0
           },
           {
            "bin_start": 0.8,
            "bin_end": 0.9,
            "count": 0
           },
           {
            "bin_start": 0.9,
            "bin_end": 1,
            "count": 2033
           }
          ]
         }
        },
        {
         "name": "urgency",
         "dtype": "int64",
         "stats": {
          "unique_count": 3,
          "nan_count": 0,
          "min": "0",
          "max": "2",
          "histogram": [
           {
            "bin_start": 0,
            "bin_end": 0.2,
            "count": 1401
           },
           {
            "bin_start": 0.2,
            "bin_end": 0.4,
            "count": 0
           },
           {
            "bin_start": 0.4,
            "bin_end": 0.6000000000000001,
            "count": 0
           },
           {
            "bin_start": 0.6000000000000001,
            "bin_end": 0.8,
            "count": 0
           },
           {
            "bin_start": 0.8,
            "bin_end": 1,
            "count": 0
           },
           {
            "bin_start": 1,
            "bin_end": 1.2000000000000002,
            "count": 1321
           },
           {
            "bin_start": 1.2000000000000002,
            "bin_end": 1.4000000000000001,
            "count": 0
           },
           {
            "bin_start": 1.4000000000000001,
            "bin_end": 1.6,
            "count": 0
           },
           {
            "bin_start": 1.6,
            "bin_end": 1.8,
            "count": 0
           },
           {
            "bin_start": 1.8,
            "bin_end": 2,
            "count": 1278
           }
          ]
         }
        },
        {
         "name": "targetPrice",
         "dtype": "int64",
         "stats": {
          "unique_count": 350,
          "nan_count": 0,
          "min": "0",
          "max": "3490",
          "histogram": [
           {
            "bin_start": 0,
            "bin_end": 349,
            "count": 413
           },
           {
            "bin_start": 349,
            "bin_end": 698,
            "count": 428
           },
           {
            "bin_start": 698,
            "bin_end": 1047,
            "count": 379
           },
           {
            "bin_start": 1047,
            "bin_end": 1396,
            "count": 390
           },
           {
            "bin_start": 1396,
            "bin_end": 1745,
            "count": 423
           },
           {
            "bin_start": 1745,
            "bin_end": 2094,
            "count": 399
           },
           {
            "bin_start": 2094,
            "bin_end": 2443,
            "count": 393
           },
           {
            "bin_start": 2443,
            "bin_end": 2792,
            "count": 404
           },
           {
            "bin_start": 2792,
            "bin_end": 3141,
            "count": 385
           },
           {
            "bin_start": 3141,
            "bin_end": 3490,
            "count": 386
           }
          ]
         }
        },
        {
         "name": "price",
         "dtype": "int64",
         "stats": {
          "unique_count": 2474,
          "nan_count": 0,
          "min": "19",
          "max": "3967",
          "histogram": [
           {
            "bin_start": 19,
            "bin_end": 413.8,
            "count": 221
           },
           {
            "bin_start": 413.8,
            "bin_end": 808.6,
            "count": 453
           },
           {
            "bin_start": 808.6,
            "bin_end": 1203.4,
            "count": 470
           },
           {
            "bin_start": 1203.4,
            "bin_end": 1598.2,
            "count": 419
           },
           {
            "bin_start": 1598.2,
            "bin_end": 1993,
            "count": 467
           },
           {
            "bin_start": 1993,
            "bin_end": 2387.8,
            "count": 445
           },
           {
            "bin_start": 2387.8,
            "bin_end": 2782.6,
            "count": 453
           },
           {
            "bin_start": 2782.6,
            "bin_end": 3177.4,
            "count": 452
           },
           {
            "bin_start": 3177.4,
            "bin_end": 3572.2000000000003,
            "count": 425
           },
           {
            "bin_start": 3572.2000000000003,
            "bin_end": 3967,
            "count": 195
           }
          ]
         }
        },
        {
         "name": "approved",
         "dtype": "bool",
         "stats": {
          "unique_count": 2,
          "nan_count": 0,
          "categories": [
           {
            "name": "True",
            "count": 2157
           },
           {
            "name": "False",
            "count": 1843
           }
          ]
         }
        },
        {
         "name": "_deepnote_index_column",
         "dtype": "int64"
        }
       ],
       "rows_top": [
        {
         "category": 1,
         "urgency": 1,
         "targetPrice": 790,
         "price": 837,
         "approved": true,
         "_deepnote_index_column": 0
        },
        {
         "category": 1,
         "urgency": 2,
         "targetPrice": 1250,
         "price": 1734,
         "approved": false,
         "_deepnote_index_column": 1
        },
        {
         "category": 0,
         "urgency": 0,
         "targetPrice": 670,
         "price": 944,
         "approved": false,
         "_deepnote_index_column": 2
        },
        {
         "category": 1,
         "urgency": 1,
         "targetPrice": 1550,
         "price": 1728,
         "approved": true,
         "_deepnote_index_column": 3
        },
        {
         "category": 0,
         "urgency": 1,
         "targetPrice": 630,
         "price": 988,
         "approved": false,
         "_deepnote_index_column": 4
        },
        {
         "category": 0,
         "urgency": 1,
         "targetPrice": 2650,
         "price": 2789,
         "approved": true,
         "_deepnote_index_column": 5
        },
        {
         "category": 1,
         "urgency": 1,
         "targetPrice": 1570,
         "price": 1955,
         "approved": false,
         "_deepnote_index_column": 6
        },
        {
         "category": 1,
         "urgency": 0,
         "targetPrice": 1630,
         "price": 1725,
         "approved": true,
         "_deepnote_index_column": 7
        },
        {
         "category": 0,
         "urgency": 1,
         "targetPrice": 2190,
         "price": 2610,
         "approved": false,
         "_deepnote_index_column": 8
        },
        {
         "category": 0,
         "urgency": 2,
         "targetPrice": 560,
         "price": 865,
         "approved": false,
         "_deepnote_index_column": 9
        },
        {
         "category": 0,
         "urgency": 1,
         "targetPrice": 460,
         "price": 871,
         "approved": false,
         "_deepnote_index_column": 10
        },
        {
         "category": 0,
         "urgency": 1,
         "targetPrice": 3130,
         "price": 3372,
         "approved": true,
         "_deepnote_index_column": 11
        },
        {
         "category": 0,
         "urgency": 2,
         "targetPrice": 2000,
         "price": 2307,
         "approved": true,
         "_deepnote_index_column": 12
        },
        {
         "category": 1,
         "urgency": 1,
         "targetPrice": 3310,
         "price": 3607,
         "approved": true,
         "_deepnote_index_column": 13
        },
        {
         "category": 1,
         "urgency": 0,
         "targetPrice": 910,
         "price": 1193,
         "approved": false,
         "_deepnote_index_column": 14
        },
        {
         "category": 1,
         "urgency": 1,
         "targetPrice": 810,
         "price": 1228,
         "approved": false,
         "_deepnote_index_column": 15
        },
        {
         "category": 1,
         "urgency": 1,
         "targetPrice": 810,
         "price": 1236,
         "approved": false,
         "_deepnote_index_column": 16
        },
        {
         "category": 1,
         "urgency": 0,
         "targetPrice": 2950,
         "price": 3131,
         "approved": true,
         "_deepnote_index_column": 17
        },
        {
         "category": 1,
         "urgency": 1,
         "targetPrice": 2750,
         "price": 3135,
         "approved": true,
         "_deepnote_index_column": 18
        },
        {
         "category": 1,
         "urgency": 0,
         "targetPrice": 2060,
         "price": 2076,
         "approved": true,
         "_deepnote_index_column": 19
        },
        {
         "category": 1,
         "urgency": 2,
         "targetPrice": 1090,
         "price": 1200,
         "approved": true,
         "_deepnote_index_column": 20
        },
        {
         "category": 0,
         "urgency": 1,
         "targetPrice": 1940,
         "price": 2262,
         "approved": false,
         "_deepnote_index_column": 21
        },
        {
         "category": 0,
         "urgency": 1,
         "targetPrice": 110,
         "price": 410,
         "approved": false,
         "_deepnote_index_column": 22
        },
        {
         "category": 1,
         "urgency": 1,
         "targetPrice": 220,
         "price": 403,
         "approved": false,
         "_deepnote_index_column": 23
        },
        {
         "category": 1,
         "urgency": 2,
         "targetPrice": 890,
         "price": 1375,
         "approved": false,
         "_deepnote_index_column": 24
        },
        {
         "category": 0,
         "urgency": 1,
         "targetPrice": 2910,
         "price": 3396,
         "approved": false,
         "_deepnote_index_column": 25
        },
        {
         "category": 0,
         "urgency": 0,
         "targetPrice": 810,
         "price": 851,
         "approved": true,
         "_deepnote_index_column": 26
        },
        {
         "category": 1,
         "urgency": 1,
         "targetPrice": 150,
         "price": 572,
         "approved": false,
         "_deepnote_index_column": 27
        },
        {
         "category": 0,
         "urgency": 2,
         "targetPrice": 1400,
         "price": 1882,
         "approved": false,
         "_deepnote_index_column": 28
        },
        {
         "category": 0,
         "urgency": 0,
         "targetPrice": 3020,
         "price": 3376,
         "approved": false,
         "_deepnote_index_column": 29
        },
        {
         "category": 0,
         "urgency": 0,
         "targetPrice": 1660,
         "price": 1919,
         "approved": false,
         "_deepnote_index_column": 30
        },
        {
         "category": 1,
         "urgency": 1,
         "targetPrice": 110,
         "price": 458,
         "approved": false,
         "_deepnote_index_column": 31
        },
        {
         "category": 1,
         "urgency": 2,
         "targetPrice": 2260,
         "price": 2586,
         "approved": true,
         "_deepnote_index_column": 32
        },
        {
         "category": 1,
         "urgency": 0,
         "targetPrice": 1570,
         "price": 1862,
         "approved": false,
         "_deepnote_index_column": 33
        },
        {
         "category": 1,
         "urgency": 2,
         "targetPrice": 420,
         "price": 584,
         "approved": false,
         "_deepnote_index_column": 34
        },
        {
         "category": 0,
         "urgency": 0,
         "targetPrice": 960,
         "price": 1204,
         "approved": false,
         "_deepnote_index_column": 35
        },
        {
         "category": 1,
         "urgency": 0,
         "targetPrice": 610,
         "price": 949,
         "approved": false,
         "_deepnote_index_column": 36
        },
        {
         "category": 1,
         "urgency": 2,
         "targetPrice": 1790,
         "price": 2018,
         "approved": true,
         "_deepnote_index_column": 37
        },
        {
         "category": 1,
         "urgency": 0,
         "targetPrice": 1720,
         "price": 1731,
         "approved": true,
         "_deepnote_index_column": 38
        },
        {
         "category": 0,
         "urgency": 1,
         "targetPrice": 1770,
         "price": 2193,
         "approved": false,
         "_deepnote_index_column": 39
        },
        {
         "category": 0,
         "urgency": 1,
         "targetPrice": 1160,
         "price": 1305,
         "approved": false,
         "_deepnote_index_column": 40
        },
        {
         "category": 1,
         "urgency": 2,
         "targetPrice": 780,
         "price": 1076,
         "approved": false,
         "_deepnote_index_column": 41
        },
        {
         "category": 0,
         "urgency": 2,
         "targetPrice": 610,
         "price": 692,
         "approved": true,
         "_deepnote_index_column": 42
        },
        {
         "category": 1,
         "urgency": 0,
         "targetPrice": 310,
         "price": 665,
         "approved": false,
         "_deepnote_index_column": 43
        },
        {
         "category": 0,
         "urgency": 1,
         "targetPrice": 750,
         "price": 852,
         "approved": false,
         "_deepnote_index_column": 44
        },
        {
         "category": 1,
         "urgency": 1,
         "targetPrice": 1870,
         "price": 2305,
         "approved": false,
         "_deepnote_index_column": 45
        },
        {
         "category": 1,
         "urgency": 0,
         "targetPrice": 2160,
         "price": 2643,
         "approved": false,
         "_deepnote_index_column": 46
        },
        {
         "category": 0,
         "urgency": 0,
         "targetPrice": 240,
         "price": 418,
         "approved": false,
         "_deepnote_index_column": 47
        },
        {
         "category": 0,
         "urgency": 0,
         "targetPrice": 2260,
         "price": 2639,
         "approved": false,
         "_deepnote_index_column": 48
        },
        {
         "category": 1,
         "urgency": 2,
         "targetPrice": 3140,
         "price": 3239,
         "approved": true,
         "_deepnote_index_column": 49
        },
        {
         "category": 0,
         "urgency": 0,
         "targetPrice": 1460,
         "price": 1672,
         "approved": false,
         "_deepnote_index_column": 50
        },
        {
         "category": 1,
         "urgency": 2,
         "targetPrice": 1990,
         "price": 2322,
         "approved": true,
         "_deepnote_index_column": 51
        },
        {
         "category": 0,
         "urgency": 0,
         "targetPrice": 2590,
         "price": 2992,
         "approved": false,
         "_deepnote_index_column": 52
        },
        {
         "category": 1,
         "urgency": 1,
         "targetPrice": 1060,
         "price": 1270,
         "approved": false,
         "_deepnote_index_column": 53
        },
        {
         "category": 1,
         "urgency": 0,
         "targetPrice": 3180,
         "price": 3647,
         "approved": true,
         "_deepnote_index_column": 54
        },
        {
         "category": 0,
         "urgency": 0,
         "targetPrice": 1130,
         "price": 1225,
         "approved": true,
         "_deepnote_index_column": 55
        },
        {
         "category": 1,
         "urgency": 2,
         "targetPrice": 770,
         "price": 803,
         "approved": true,
         "_deepnote_index_column": 56
        },
        {
         "category": 1,
         "urgency": 0,
         "targetPrice": 2810,
         "price": 3088,
         "approved": true,
         "_deepnote_index_column": 57
        },
        {
         "category": 0,
         "urgency": 2,
         "targetPrice": 3340,
         "price": 3439,
         "approved": true,
         "_deepnote_index_column": 58
        },
        {
         "category": 1,
         "urgency": 0,
         "targetPrice": 310,
         "price": 470,
         "approved": false,
         "_deepnote_index_column": 59
        },
        {
         "category": 1,
         "urgency": 2,
         "targetPrice": 2110,
         "price": 2155,
         "approved": true,
         "_deepnote_index_column": 60
        },
        {
         "category": 0,
         "urgency": 0,
         "targetPrice": 2410,
         "price": 2806,
         "approved": false,
         "_deepnote_index_column": 61
        },
        {
         "category": 0,
         "urgency": 1,
         "targetPrice": 720,
         "price": 1062,
         "approved": false,
         "_deepnote_index_column": 62
        },
        {
         "category": 1,
         "urgency": 0,
         "targetPrice": 1560,
         "price": 2039,
         "approved": false,
         "_deepnote_index_column": 63
        },
        {
         "category": 1,
         "urgency": 1,
         "targetPrice": 150,
         "price": 464,
         "approved": false,
         "_deepnote_index_column": 64
        },
        {
         "category": 0,
         "urgency": 1,
         "targetPrice": 330,
         "price": 819,
         "approved": false,
         "_deepnote_index_column": 65
        },
        {
         "category": 0,
         "urgency": 1,
         "targetPrice": 2820,
         "price": 3220,
         "approved": false,
         "_deepnote_index_column": 66
        },
        {
         "category": 0,
         "urgency": 0,
         "targetPrice": 770,
         "price": 1117,
         "approved": false,
         "_deepnote_index_column": 67
        },
        {
         "category": 0,
         "urgency": 2,
         "targetPrice": 1460,
         "price": 1683,
         "approved": true,
         "_deepnote_index_column": 68
        },
        {
         "category": 0,
         "urgency": 1,
         "targetPrice": 1250,
         "price": 1469,
         "approved": false,
         "_deepnote_index_column": 69
        },
        {
         "category": 1,
         "urgency": 2,
         "targetPrice": 3150,
         "price": 3293,
         "approved": true,
         "_deepnote_index_column": 70
        },
        {
         "category": 0,
         "urgency": 2,
         "targetPrice": 600,
         "price": 751,
         "approved": false,
         "_deepnote_index_column": 71
        },
        {
         "category": 1,
         "urgency": 0,
         "targetPrice": 2280,
         "price": 2448,
         "approved": true,
         "_deepnote_index_column": 72
        },
        {
         "category": 1,
         "urgency": 1,
         "targetPrice": 2760,
         "price": 2909,
         "approved": true,
         "_deepnote_index_column": 73
        },
        {
         "category": 1,
         "urgency": 1,
         "targetPrice": 370,
         "price": 780,
         "approved": false,
         "_deepnote_index_column": 74
        },
        {
         "category": 0,
         "urgency": 1,
         "targetPrice": 2510,
         "price": 2571,
         "approved": true,
         "_deepnote_index_column": 75
        },
        {
         "category": 1,
         "urgency": 2,
         "targetPrice": 870,
         "price": 1305,
         "approved": false,
         "_deepnote_index_column": 76
        },
        {
         "category": 1,
         "urgency": 1,
         "targetPrice": 1380,
         "price": 1794,
         "approved": false,
         "_deepnote_index_column": 77
        },
        {
         "category": 1,
         "urgency": 2,
         "targetPrice": 2110,
         "price": 2544,
         "approved": true,
         "_deepnote_index_column": 78
        },
        {
         "category": 1,
         "urgency": 2,
         "targetPrice": 3060,
         "price": 3278,
         "approved": true,
         "_deepnote_index_column": 79
        },
        {
         "category": 0,
         "urgency": 2,
         "targetPrice": 1010,
         "price": 1100,
         "approved": true,
         "_deepnote_index_column": 80
        },
        {
         "category": 1,
         "urgency": 0,
         "targetPrice": 2050,
         "price": 2367,
         "approved": false,
         "_deepnote_index_column": 81
        },
        {
         "category": 0,
         "urgency": 2,
         "targetPrice": 1240,
         "price": 1428,
         "approved": true,
         "_deepnote_index_column": 82
        },
        {
         "category": 0,
         "urgency": 1,
         "targetPrice": 2520,
         "price": 2541,
         "approved": true,
         "_deepnote_index_column": 83
        },
        {
         "category": 1,
         "urgency": 2,
         "targetPrice": 2960,
         "price": 3009,
         "approved": true,
         "_deepnote_index_column": 84
        },
        {
         "category": 0,
         "urgency": 0,
         "targetPrice": 170,
         "price": 200,
         "approved": false,
         "_deepnote_index_column": 85
        },
        {
         "category": 0,
         "urgency": 0,
         "targetPrice": 1610,
         "price": 1793,
         "approved": false,
         "_deepnote_index_column": 86
        },
        {
         "category": 0,
         "urgency": 0,
         "targetPrice": 1550,
         "price": 1565,
         "approved": true,
         "_deepnote_index_column": 87
        },
        {
         "category": 0,
         "urgency": 0,
         "targetPrice": 3340,
         "price": 3672,
         "approved": true,
         "_deepnote_index_column": 88
        },
        {
         "category": 1,
         "urgency": 1,
         "targetPrice": 670,
         "price": 684,
         "approved": true,
         "_deepnote_index_column": 89
        },
        {
         "category": 1,
         "urgency": 1,
         "targetPrice": 2010,
         "price": 2433,
         "approved": false,
         "_deepnote_index_column": 90
        },
        {
         "category": 0,
         "urgency": 1,
         "targetPrice": 2810,
         "price": 2915,
         "approved": true,
         "_deepnote_index_column": 91
        },
        {
         "category": 1,
         "urgency": 1,
         "targetPrice": 1940,
         "price": 2039,
         "approved": true,
         "_deepnote_index_column": 92
        },
        {
         "category": 1,
         "urgency": 1,
         "targetPrice": 2800,
         "price": 3017,
         "approved": true,
         "_deepnote_index_column": 93
        },
        {
         "category": 1,
         "urgency": 1,
         "targetPrice": 3370,
         "price": 3572,
         "approved": true,
         "_deepnote_index_column": 94
        },
        {
         "category": 1,
         "urgency": 0,
         "targetPrice": 470,
         "price": 759,
         "approved": false,
         "_deepnote_index_column": 95
        },
        {
         "category": 0,
         "urgency": 2,
         "targetPrice": 180,
         "price": 416,
         "approved": false,
         "_deepnote_index_column": 96
        },
        {
         "category": 0,
         "urgency": 0,
         "targetPrice": 1400,
         "price": 1551,
         "approved": false,
         "_deepnote_index_column": 97
        },
        {
         "category": 1,
         "urgency": 0,
         "targetPrice": 2150,
         "price": 2370,
         "approved": true,
         "_deepnote_index_column": 98
        },
        {
         "category": 1,
         "urgency": 1,
         "targetPrice": 1370,
         "price": 1840,
         "approved": false,
         "_deepnote_index_column": 99
        }
       ],
       "rows_bottom": [
        {
         "category": 1,
         "urgency": 0,
         "targetPrice": 2590,
         "price": 2975,
         "approved": true,
         "_deepnote_index_column": 3900
        },
        {
         "category": 0,
         "urgency": 2,
         "targetPrice": 2410,
         "price": 2850,
         "approved": false,
         "_deepnote_index_column": 3901
        },
        {
         "category": 1,
         "urgency": 2,
         "targetPrice": 2040,
         "price": 2356,
         "approved": true,
         "_deepnote_index_column": 3902
        },
        {
         "category": 1,
         "urgency": 0,
         "targetPrice": 1980,
         "price": 2011,
         "approved": true,
         "_deepnote_index_column": 3903
        },
        {
         "category": 0,
         "urgency": 2,
         "targetPrice": 1480,
         "price": 1815,
         "approved": false,
         "_deepnote_index_column": 3904
        },
        {
         "category": 0,
         "urgency": 0,
         "targetPrice": 2000,
         "price": 2017,
         "approved": true,
         "_deepnote_index_column": 3905
        },
        {
         "category": 0,
         "urgency": 1,
         "targetPrice": 30,
         "price": 289,
         "approved": false,
         "_deepnote_index_column": 3906
        },
        {
         "category": 1,
         "urgency": 0,
         "targetPrice": 410,
         "price": 727,
         "approved": false,
         "_deepnote_index_column": 3907
        },
        {
         "category": 0,
         "urgency": 2,
         "targetPrice": 1920,
         "price": 2165,
         "approved": true,
         "_deepnote_index_column": 3908
        },
        {
         "category": 1,
         "urgency": 2,
         "targetPrice": 2840,
         "price": 3250,
         "approved": true,
         "_deepnote_index_column": 3909
        },
        {
         "category": 1,
         "urgency": 1,
         "targetPrice": 2790,
         "price": 2956,
         "approved": true,
         "_deepnote_index_column": 3910
        },
        {
         "category": 0,
         "urgency": 0,
         "targetPrice": 1390,
         "price": 1780,
         "approved": false,
         "_deepnote_index_column": 3911
        },
        {
         "category": 0,
         "urgency": 2,
         "targetPrice": 460,
         "price": 656,
         "approved": false,
         "_deepnote_index_column": 3912
        },
        {
         "category": 1,
         "urgency": 2,
         "targetPrice": 2710,
         "price": 2950,
         "approved": true,
         "_deepnote_index_column": 3913
        },
        {
         "category": 1,
         "urgency": 2,
         "targetPrice": 2790,
         "price": 3189,
         "approved": true,
         "_deepnote_index_column": 3914
        },
        {
         "category": 0,
         "urgency": 2,
         "targetPrice": 1420,
         "price": 1880,
         "approved": false,
         "_deepnote_index_column": 3915
        },
        {
         "category": 0,
         "urgency": 0,
         "targetPrice": 3410,
         "price": 3637,
         "approved": true,
         "_deepnote_index_column": 3916
        },
        {
         "category": 0,
         "urgency": 1,
         "targetPrice": 3170,
         "price": 3431,
         "approved": true,
         "_deepnote_index_column": 3917
        },
        {
         "category": 1,
         "urgency": 1,
         "targetPrice": 1340,
         "price": 1656,
         "approved": false,
         "_deepnote_index_column": 3918
        },
        {
         "category": 1,
         "urgency": 2,
         "targetPrice": 3210,
         "price": 3672,
         "approved": true,
         "_deepnote_index_column": 3919
        },
        {
         "category": 1,
         "urgency": 0,
         "targetPrice": 940,
         "price": 1208,
         "approved": false,
         "_deepnote_index_column": 3920
        },
        {
         "category": 0,
         "urgency": 0,
         "targetPrice": 20,
         "price": 50,
         "approved": false,
         "_deepnote_index_column": 3921
        },
        {
         "category": 0,
         "urgency": 2,
         "targetPrice": 2910,
         "price": 3303,
         "approved": true,
         "_deepnote_index_column": 3922
        },
        {
         "category": 0,
         "urgency": 2,
         "targetPrice": 2980,
         "price": 3099,
         "approved": true,
         "_deepnote_index_column": 3923
        },
        {
         "category": 1,
         "urgency": 1,
         "targetPrice": 1710,
         "price": 2104,
         "approved": false,
         "_deepnote_index_column": 3924
        },
        {
         "category": 1,
         "urgency": 2,
         "targetPrice": 240,
         "price": 286,
         "approved": true,
         "_deepnote_index_column": 3925
        },
        {
         "category": 1,
         "urgency": 0,
         "targetPrice": 3440,
         "price": 3829,
         "approved": true,
         "_deepnote_index_column": 3926
        },
        {
         "category": 1,
         "urgency": 0,
         "targetPrice": 2920,
         "price": 3037,
         "approved": true,
         "_deepnote_index_column": 3927
        },
        {
         "category": 1,
         "urgency": 2,
         "targetPrice": 440,
         "price": 526,
         "approved": true,
         "_deepnote_index_column": 3928
        },
        {
         "category": 0,
         "urgency": 1,
         "targetPrice": 940,
         "price": 1154,
         "approved": false,
         "_deepnote_index_column": 3929
        },
        {
         "category": 1,
         "urgency": 2,
         "targetPrice": 2430,
         "price": 2646,
         "approved": true,
         "_deepnote_index_column": 3930
        },
        {
         "category": 1,
         "urgency": 1,
         "targetPrice": 1350,
         "price": 1424,
         "approved": true,
         "_deepnote_index_column": 3931
        },
        {
         "category": 1,
         "urgency": 2,
         "targetPrice": 1840,
         "price": 1971,
         "approved": true,
         "_deepnote_index_column": 3932
        },
        {
         "category": 0,
         "urgency": 2,
         "targetPrice": 2290,
         "price": 2453,
         "approved": true,
         "_deepnote_index_column": 3933
        },
        {
         "category": 1,
         "urgency": 0,
         "targetPrice": 1140,
         "price": 1552,
         "approved": false,
         "_deepnote_index_column": 3934
        },
        {
         "category": 0,
         "urgency": 2,
         "targetPrice": 1270,
         "price": 1491,
         "approved": true,
         "_deepnote_index_column": 3935
        },
        {
         "category": 1,
         "urgency": 1,
         "targetPrice": 1840,
         "price": 2290,
         "approved": false,
         "_deepnote_index_column": 3936
        },
        {
         "category": 1,
         "urgency": 1,
         "targetPrice": 1320,
         "price": 1616,
         "approved": false,
         "_deepnote_index_column": 3937
        },
        {
         "category": 1,
         "urgency": 2,
         "targetPrice": 150,
         "price": 441,
         "approved": false,
         "_deepnote_index_column": 3938
        },
        {
         "category": 1,
         "urgency": 2,
         "targetPrice": 1410,
         "price": 1624,
         "approved": true,
         "_deepnote_index_column": 3939
        },
        {
         "category": 0,
         "urgency": 2,
         "targetPrice": 450,
         "price": 589,
         "approved": false,
         "_deepnote_index_column": 3940
        },
        {
         "category": 1,
         "urgency": 1,
         "targetPrice": 500,
         "price": 921,
         "approved": false,
         "_deepnote_index_column": 3941
        },
        {
         "category": 0,
         "urgency": 0,
         "targetPrice": 180,
         "price": 400,
         "approved": false,
         "_deepnote_index_column": 3942
        },
        {
         "category": 1,
         "urgency": 1,
         "targetPrice": 2370,
         "price": 2623,
         "approved": true,
         "_deepnote_index_column": 3943
        },
        {
         "category": 1,
         "urgency": 2,
         "targetPrice": 1530,
         "price": 1582,
         "approved": true,
         "_deepnote_index_column": 3944
        },
        {
         "category": 1,
         "urgency": 0,
         "targetPrice": 1390,
         "price": 1775,
         "approved": false,
         "_deepnote_index_column": 3945
        },
        {
         "category": 1,
         "urgency": 0,
         "targetPrice": 680,
         "price": 825,
         "approved": false,
         "_deepnote_index_column": 3946
        },
        {
         "category": 1,
         "urgency": 2,
         "targetPrice": 2840,
         "price": 3269,
         "approved": true,
         "_deepnote_index_column": 3947
        },
        {
         "category": 0,
         "urgency": 1,
         "targetPrice": 1890,
         "price": 2025,
         "approved": true,
         "_deepnote_index_column": 3948
        },
        {
         "category": 1,
         "urgency": 2,
         "targetPrice": 1840,
         "price": 2073,
         "approved": true,
         "_deepnote_index_column": 3949
        },
        {
         "category": 0,
         "urgency": 2,
         "targetPrice": 1030,
         "price": 1050,
         "approved": true,
         "_deepnote_index_column": 3950
        },
        {
         "category": 0,
         "urgency": 2,
         "targetPrice": 540,
         "price": 897,
         "approved": false,
         "_deepnote_index_column": 3951
        },
        {
         "category": 0,
         "urgency": 0,
         "targetPrice": 2920,
         "price": 3415,
         "approved": false,
         "_deepnote_index_column": 3952
        },
        {
         "category": 0,
         "urgency": 2,
         "targetPrice": 2360,
         "price": 2630,
         "approved": true,
         "_deepnote_index_column": 3953
        },
        {
         "category": 1,
         "urgency": 0,
         "targetPrice": 690,
         "price": 892,
         "approved": false,
         "_deepnote_index_column": 3954
        },
        {
         "category": 1,
         "urgency": 2,
         "targetPrice": 2240,
         "price": 2524,
         "approved": true,
         "_deepnote_index_column": 3955
        },
        {
         "category": 0,
         "urgency": 2,
         "targetPrice": 2590,
         "price": 3067,
         "approved": false,
         "_deepnote_index_column": 3956
        },
        {
         "category": 1,
         "urgency": 1,
         "targetPrice": 3240,
         "price": 3335,
         "approved": true,
         "_deepnote_index_column": 3957
        },
        {
         "category": 1,
         "urgency": 2,
         "targetPrice": 2850,
         "price": 3167,
         "approved": true,
         "_deepnote_index_column": 3958
        },
        {
         "category": 0,
         "urgency": 1,
         "targetPrice": 3260,
         "price": 3625,
         "approved": true,
         "_deepnote_index_column": 3959
        },
        {
         "category": 1,
         "urgency": 1,
         "targetPrice": 1450,
         "price": 1509,
         "approved": true,
         "_deepnote_index_column": 3960
        },
        {
         "category": 1,
         "urgency": 2,
         "targetPrice": 640,
         "price": 1106,
         "approved": false,
         "_deepnote_index_column": 3961
        },
        {
         "category": 0,
         "urgency": 0,
         "targetPrice": 2970,
         "price": 3162,
         "approved": true,
         "_deepnote_index_column": 3962
        },
        {
         "category": 0,
         "urgency": 2,
         "targetPrice": 2060,
         "price": 2461,
         "approved": false,
         "_deepnote_index_column": 3963
        },
        {
         "category": 1,
         "urgency": 2,
         "targetPrice": 2020,
         "price": 2172,
         "approved": true,
         "_deepnote_index_column": 3964
        },
        {
         "category": 0,
         "urgency": 2,
         "targetPrice": 1010,
         "price": 1158,
         "approved": true,
         "_deepnote_index_column": 3965
        },
        {
         "category": 0,
         "urgency": 2,
         "targetPrice": 3440,
         "price": 3588,
         "approved": true,
         "_deepnote_index_column": 3966
        },
        {
         "category": 1,
         "urgency": 1,
         "targetPrice": 3470,
         "price": 3860,
         "approved": true,
         "_deepnote_index_column": 3967
        },
        {
         "category": 1,
         "urgency": 2,
         "targetPrice": 1720,
         "price": 1914,
         "approved": true,
         "_deepnote_index_column": 3968
        },
        {
         "category": 1,
         "urgency": 2,
         "targetPrice": 1090,
         "price": 1330,
         "approved": true,
         "_deepnote_index_column": 3969
        },
        {
         "category": 0,
         "urgency": 1,
         "targetPrice": 2060,
         "price": 2521,
         "approved": false,
         "_deepnote_index_column": 3970
        },
        {
         "category": 0,
         "urgency": 0,
         "targetPrice": 3030,
         "price": 3259,
         "approved": true,
         "_deepnote_index_column": 3971
        },
        {
         "category": 1,
         "urgency": 0,
         "targetPrice": 90,
         "price": 128,
         "approved": false,
         "_deepnote_index_column": 3972
        },
        {
         "category": 0,
         "urgency": 2,
         "targetPrice": 2220,
         "price": 2221,
         "approved": true,
         "_deepnote_index_column": 3973
        },
        {
         "category": 1,
         "urgency": 1,
         "targetPrice": 800,
         "price": 1065,
         "approved": false,
         "_deepnote_index_column": 3974
        },
        {
         "category": 0,
         "urgency": 1,
         "targetPrice": 110,
         "price": 426,
         "approved": false,
         "_deepnote_index_column": 3975
        },
        {
         "category": 1,
         "urgency": 0,
         "targetPrice": 2850,
         "price": 3252,
         "approved": true,
         "_deepnote_index_column": 3976
        },
        {
         "category": 0,
         "urgency": 2,
         "targetPrice": 2850,
         "price": 3084,
         "approved": true,
         "_deepnote_index_column": 3977
        },
        {
         "category": 1,
         "urgency": 1,
         "targetPrice": 580,
         "price": 810,
         "approved": false,
         "_deepnote_index_column": 3978
        },
        {
         "category": 0,
         "urgency": 0,
         "targetPrice": 2940,
         "price": 2973,
         "approved": true,
         "_deepnote_index_column": 3979
        },
        {
         "category": 1,
         "urgency": 0,
         "targetPrice": 1220,
         "price": 1512,
         "approved": false,
         "_deepnote_index_column": 3980
        },
        {
         "category": 0,
         "urgency": 2,
         "targetPrice": 600,
         "price": 999,
         "approved": false,
         "_deepnote_index_column": 3981
        },
        {
         "category": 0,
         "urgency": 0,
         "targetPrice": 1450,
         "price": 1466,
         "approved": true,
         "_deepnote_index_column": 3982
        },
        {
         "category": 1,
         "urgency": 2,
         "targetPrice": 2370,
         "price": 2776,
         "approved": true,
         "_deepnote_index_column": 3983
        },
        {
         "category": 1,
         "urgency": 2,
         "targetPrice": 3090,
         "price": 3555,
         "approved": true,
         "_deepnote_index_column": 3984
        },
        {
         "category": 0,
         "urgency": 0,
         "targetPrice": 1560,
         "price": 1698,
         "approved": true,
         "_deepnote_index_column": 3985
        },
        {
         "category": 0,
         "urgency": 2,
         "targetPrice": 640,
         "price": 694,
         "approved": true,
         "_deepnote_index_column": 3986
        },
        {
         "category": 0,
         "urgency": 0,
         "targetPrice": 1540,
         "price": 1624,
         "approved": true,
         "_deepnote_index_column": 3987
        },
        {
         "category": 0,
         "urgency": 0,
         "targetPrice": 1920,
         "price": 2340,
         "approved": false,
         "_deepnote_index_column": 3988
        },
        {
         "category": 1,
         "urgency": 0,
         "targetPrice": 2010,
         "price": 2112,
         "approved": true,
         "_deepnote_index_column": 3989
        },
        {
         "category": 0,
         "urgency": 0,
         "targetPrice": 570,
         "price": 974,
         "approved": false,
         "_deepnote_index_column": 3990
        },
        {
         "category": 1,
         "urgency": 2,
         "targetPrice": 2620,
         "price": 2692,
         "approved": true,
         "_deepnote_index_column": 3991
        },
        {
         "category": 1,
         "urgency": 1,
         "targetPrice": 1690,
         "price": 2049,
         "approved": false,
         "_deepnote_index_column": 3992
        },
        {
         "category": 0,
         "urgency": 2,
         "targetPrice": 1240,
         "price": 1405,
         "approved": true,
         "_deepnote_index_column": 3993
        },
        {
         "category": 1,
         "urgency": 1,
         "targetPrice": 1700,
         "price": 2102,
         "approved": false,
         "_deepnote_index_column": 3994
        },
        {
         "category": 1,
         "urgency": 2,
         "targetPrice": 580,
         "price": 903,
         "approved": false,
         "_deepnote_index_column": 3995
        },
        {
         "category": 1,
         "urgency": 2,
         "targetPrice": 2950,
         "price": 3063,
         "approved": true,
         "_deepnote_index_column": 3996
        },
        {
         "category": 1,
         "urgency": 0,
         "targetPrice": 1600,
         "price": 1601,
         "approved": true,
         "_deepnote_index_column": 3997
        },
        {
         "category": 1,
         "urgency": 2,
         "targetPrice": 1890,
         "price": 1994,
         "approved": true,
         "_deepnote_index_column": 3998
        },
        {
         "category": 1,
         "urgency": 0,
         "targetPrice": 2540,
         "price": 2921,
         "approved": false,
         "_deepnote_index_column": 3999
        }
       ]
      },
      "text/plain": "      category  urgency  targetPrice  price  approved\n0            1        1          790    837      True\n1            1        2         1250   1734     False\n2            0        0          670    944     False\n3            1        1         1550   1728      True\n4            0        1          630    988     False\n...        ...      ...          ...    ...       ...\n3995         1        2          580    903     False\n3996         1        2         2950   3063      True\n3997         1        0         1600   1601      True\n3998         1        2         1890   1994      True\n3999         1        0         2540   2921     False\n\n[4000 rows x 5 columns]",
      "text/html": "<div>\n<style scoped>\n    .dataframe tbody tr th:only-of-type {\n        vertical-align: middle;\n    }\n\n    .dataframe tbody tr th {\n        vertical-align: top;\n    }\n\n    .dataframe thead th {\n        text-align: right;\n    }\n</style>\n<table border=\"1\" class=\"dataframe\">\n  <thead>\n    <tr style=\"text-align: right;\">\n      <th></th>\n      <th>category</th>\n      <th>urgency</th>\n      <th>targetPrice</th>\n      <th>price</th>\n      <th>approved</th>\n    </tr>\n  </thead>\n  <tbody>\n    <tr>\n      <th>0</th>\n      <td>1</td>\n      <td>1</td>\n      <td>790</td>\n      <td>837</td>\n      <td>True</td>\n    </tr>\n    <tr>\n      <th>1</th>\n      <td>1</td>\n      <td>2</td>\n      <td>1250</td>\n      <td>1734</td>\n      <td>False</td>\n    </tr>\n    <tr>\n      <th>2</th>\n      <td>0</td>\n      <td>0</td>\n      <td>670</td>\n      <td>944</td>\n      <td>False</td>\n    </tr>\n    <tr>\n      <th>3</th>\n      <td>1</td>\n      <td>1</td>\n      <td>1550</td>\n      <td>1728</td>\n      <td>True</td>\n    </tr>\n    <tr>\n      <th>4</th>\n      <td>0</td>\n      <td>1</td>\n      <td>630</td>\n      <td>988</td>\n      <td>False</td>\n    </tr>\n    <tr>\n      <th>...</th>\n      <td>...</td>\n      <td>...</td>\n      <td>...</td>\n      <td>...</td>\n      <td>...</td>\n    </tr>\n    <tr>\n      <th>3995</th>\n      <td>1</td>\n      <td>2</td>\n      <td>580</td>\n      <td>903</td>\n      <td>False</td>\n    </tr>\n    <tr>\n      <th>3996</th>\n      <td>1</td>\n      <td>2</td>\n      <td>2950</td>\n      <td>3063</td>\n      <td>True</td>\n    </tr>\n    <tr>\n      <th>3997</th>\n      <td>1</td>\n      <td>0</td>\n      <td>1600</td>\n      <td>1601</td>\n      <td>True</td>\n    </tr>\n    <tr>\n      <th>3998</th>\n      <td>1</td>\n      <td>2</td>\n      <td>1890</td>\n      <td>1994</td>\n      <td>True</td>\n    </tr>\n    <tr>\n      <th>3999</th>\n      <td>1</td>\n      <td>0</td>\n      <td>2540</td>\n      <td>2921</td>\n      <td>False</td>\n    </tr>\n  </tbody>\n</table>\n<p>4000 rows × 5 columns</p>\n</div>"
     },
     "metadata": {}
    }
   ],
   "execution_count": null
  },
  {
   "cell_type": "markdown",
   "source": "## 3. Data Segregation and Feature Selection\nIf we investigate the output of the mapped data in the previous step, we see, that we have **category**, **urgency**, **target price** and actual **price** features with \"input\" data, or in ML terminology **samples/design matrix** usually denoted as **X**.\n\nThe **approved** column is the \"output or decision\" data, or in ML terminology the **target values** denoted as **y**.\n\nFor further processing, we need to segregate **X** and **y** as follows.",
   "metadata": {
    "cell_id": "00007-33cbe1f5-ad27-47d6-b921-9280dda507f1",
    "id": "AXzXRqOQtU-5",
    "deepnote_cell_type": "markdown"
   }
  },
  {
   "cell_type": "code",
   "metadata": {
    "cell_id": "00008-8e379154-b4d4-4e42-bda0-1c3965448363",
    "deepnote_to_be_reexecuted": false,
    "execution_millis": 9,
    "execution_start": 1637526944241,
    "id": "UHCtfFvAss1d",
    "output_cleared": true,
    "source_hash": "5a26a46d",
    "deepnote_cell_type": "code"
   },
   "source": "X_data = data.drop('approved',axis=1)\ny_data = data.approved\n\nprint(\"X Data:\\n\", X_data)\nprint(\"y Data:\\n\", y_data)",
   "outputs": [
    {
     "name": "stdout",
     "text": "X Data:\n       category  urgency  targetPrice  price\n0            1        1          790    837\n1            1        2         1250   1734\n2            0        0          670    944\n3            1        1         1550   1728\n4            0        1          630    988\n...        ...      ...          ...    ...\n3995         1        2          580    903\n3996         1        2         2950   3063\n3997         1        0         1600   1601\n3998         1        2         1890   1994\n3999         1        0         2540   2921\n\n[4000 rows x 4 columns]\ny Data:\n 0        True\n1       False\n2       False\n3        True\n4       False\n        ...  \n3995    False\n3996     True\n3997     True\n3998     True\n3999    False\nName: approved, Length: 4000, dtype: bool\n",
     "output_type": "stream"
    }
   ],
   "execution_count": null
  },
  {
   "cell_type": "markdown",
   "source": "## 4. Data Partitioning\nTraining or, in ML terminology, fitting a model to data, does not mean that it will produce acceptable predictions on new data. Therefore, we split / partition the data set into a training and a testing set to be able to evaluate the performance. To accomplish this, the function [`train_test_split`](https://scikit-learn.org/stable/modules/generated/sklearn.model_selection.train_test_split.html) of scikit-learn can be used.\n- In the following, we slit the X and y data sets by 60% training and 40% testing sets defined by the `test_size=0.40` parameter.\n- The `random_state=` parameter can be adjusted from `none` to an *int* value for a reproducible output across multiple executions.",
   "metadata": {
    "cell_id": "00009-7b5f407a-7422-4a22-87a9-41ed4da08e1b",
    "id": "trBM0nGkKhsn",
    "deepnote_cell_type": "markdown"
   }
  },
  {
   "cell_type": "code",
   "metadata": {
    "cell_id": "00010-21793625-af33-43e5-ad73-8e45552df563",
    "deepnote_to_be_reexecuted": false,
    "execution_millis": 722,
    "execution_start": 1637526944258,
    "id": "4XvJsAxZGu2y",
    "output_cleared": true,
    "source_hash": "1a30b79",
    "deepnote_cell_type": "code"
   },
   "source": "from sklearn.model_selection import train_test_split\n\nX_train, X_test, y_train, y_test = train_test_split(X_data, y_data, test_size=0.40, random_state=None)\n\nprint(\"X_train:\\n\", X_train)\nprint(\"y_train:\\n\", y_train)\nprint(\"X_test:\\n\", X_test)\nprint(\"y_test:\\n\", y_test)",
   "outputs": [
    {
     "name": "stdout",
     "text": "X_train:\n       category  urgency  targetPrice  price\n1280         1        0         3120   3224\n3821         1        1          650   1001\n3969         1        2         1090   1330\n1767         0        1          910   1295\n3620         1        1          930   1118\n...        ...      ...          ...    ...\n1286         0        2          860   1129\n1004         0        0         1880   2084\n3708         0        0         2820   3186\n1437         0        2           40    498\n2310         1        1         2360   2395\n\n[2400 rows x 4 columns]\ny_train:\n 1280     True\n3821    False\n3969     True\n1767    False\n3620    False\n        ...  \n1286    False\n1004    False\n3708    False\n1437    False\n2310     True\nName: approved, Length: 2400, dtype: bool\nX_test:\n       category  urgency  targetPrice  price\n3415         1        1         2250   2267\n871          0        0         2050   2531\n3113         1        0         2120   2433\n1102         1        2         3100   3299\n206          0        0         1360   1595\n...        ...      ...          ...    ...\n150          1        1         2280   2727\n2560         1        2         3470   3794\n2298         1        1          690   1189\n2            0        0          670    944\n874          1        1         2210   2379\n\n[1600 rows x 4 columns]\ny_test:\n 3415     True\n871     False\n3113     True\n1102     True\n206     False\n        ...  \n150     False\n2560     True\n2298    False\n2       False\n874      True\nName: approved, Length: 1600, dtype: bool\n",
     "output_type": "stream"
    }
   ],
   "execution_count": null
  },
  {
   "cell_type": "markdown",
   "source": "### 🚧 Supplementary Tasks\n1. Try to adjust the split parameter `test_size=`, e.g., 80/20, 70/30, 75/25 or even 50/50.\n2. Investigate what happens when the `random_state=` parameter is, e.g., `0`.",
   "metadata": {
    "cell_id": "00011-ae75f184-bf37-4bf7-b58a-b6ecc31bfb24",
    "id": "egxy546KQMCA",
    "deepnote_cell_type": "markdown"
   }
  },
  {
   "cell_type": "markdown",
   "source": "## 5. Initialize Learner\nNow we are going to initialize the learner for our classification problem. Sklearn provides a vide range of models for supervised and unsupervised learning. Andre Ye (2021) has provided on [Medium, towards data science,](https://towardsdatascience.com/your-ultimate-data-mining-machine-learning-cheat-sheet-9fce3fa16) a nice cheat-sheet for sklearn which can be recommended for further reading. From him, the following Fig 5a has been taken, showcasing a subset of the most important classifiers in sklearn.\n\n![](https://raw.githubusercontent.com/DigiBP/digibp-camunda-classroom/master/modelling/pmml/sklearn%20classifier%20models%20Ye%2C%202021.png)\n\n**Fig 5a**: sklearn classifier models ([Ye, 2021](https://towardsdatascience.com/your-ultimate-data-mining-machine-learning-cheat-sheet-9fce3fa16))",
   "metadata": {
    "cell_id": "00012-ccf7f719-f703-4d94-9639-0fa06b1d0f19",
    "id": "3MisMN8DPARA",
    "deepnote_cell_type": "markdown"
   }
  },
  {
   "cell_type": "markdown",
   "source": "### Logistic Regression\n\nOur default model in this tutorial will be a linear model called `LogisticRegression`. Even if the name suggests otherwise, this is a linear model for classification rather than regression.\n\n> Classification vs. regression: **classification** is about predicting an assignment to a **class**, whereas **regression** is about predicting a certain **score**. \n\nSo we are going to initialize a logistic regression (logit) model from scikit-learn by importing and using [`LogisticRegression`](https://scikit-learn.org/stable/modules/generated/sklearn.linear_model.LogisticRegression.html) with the following parameters:\n- `max_iter=1000` defines the maximum number of iterations taken for the solvers to converge.\n- `multi_class='auto'` is automatically selecting an appropriate approach; in binary situations, it uses the one-vs-rest (OvR) approach.\n",
   "metadata": {
    "cell_id": "00013-cf2aa635-ba5b-44fb-bebc-ecc4ed954d03",
    "id": "WDwdMVOFLKXC",
    "deepnote_cell_type": "markdown"
   }
  },
  {
   "cell_type": "code",
   "metadata": {
    "cell_id": "00014-12e31467-d22d-4c17-83b3-9ae3f028979b",
    "deepnote_to_be_reexecuted": false,
    "execution_millis": 52,
    "execution_start": 1637526945020,
    "id": "h8pt4Rk5G1Bq",
    "output_cleared": true,
    "source_hash": "51684b9b",
    "deepnote_cell_type": "code"
   },
   "source": "from sklearn.linear_model import LogisticRegression\n\nmodel = LogisticRegression(max_iter=1000, multi_class='auto')\n\nprint(\"Model: \", model)",
   "outputs": [
    {
     "name": "stdout",
     "text": "Model:  LogisticRegression(max_iter=1000)\n",
     "output_type": "stream"
    }
   ],
   "execution_count": null
  },
  {
   "cell_type": "markdown",
   "source": "### 🚧 Supplementary Tasks\nTry to experiment with other classification models from sklearn as well (you have to uncomment it):",
   "metadata": {
    "cell_id": "00015-cb50809d-b115-44e7-ab3f-592f4eb18875",
    "id": "xGw7HiJwQtB4",
    "deepnote_cell_type": "markdown"
   }
  },
  {
   "cell_type": "code",
   "metadata": {
    "cell_id": "00016-8e681d7e-12be-408c-a494-5d747e084c9a",
    "id": "U9c5Mx57G9Ph",
    "deepnote_to_be_reexecuted": false,
    "source_hash": "32eb425d",
    "execution_start": 1637526945065,
    "execution_millis": 22,
    "output_cleared": true,
    "deepnote_cell_type": "code"
   },
   "source": "# from sklearn.tree import DecisionTreeClassifier\n# model = DecisionTreeClassifier()",
   "outputs": [],
   "execution_count": null
  },
  {
   "cell_type": "code",
   "metadata": {
    "cell_id": "00017-adeb3c02-6dd2-4009-826f-3c6a10fcd794",
    "id": "CBVxmGdajsw-",
    "deepnote_to_be_reexecuted": false,
    "source_hash": "5dffd04",
    "execution_start": 1637526945087,
    "execution_millis": 0,
    "output_cleared": true,
    "deepnote_cell_type": "code"
   },
   "source": "# from sklearn.svm import SVC\n# model = SVC()",
   "outputs": [],
   "execution_count": null
  },
  {
   "cell_type": "code",
   "metadata": {
    "cell_id": "00018-7a6c6e96-f8d0-47e3-8d47-ddb89b26e761",
    "id": "BKHwN0nsjwPi",
    "deepnote_to_be_reexecuted": false,
    "source_hash": "56171fdd",
    "execution_start": 1637526945088,
    "execution_millis": 0,
    "output_cleared": true,
    "deepnote_cell_type": "code"
   },
   "source": "# from sklearn.naive_bayes import GaussianNB\n# model = GaussianNB()",
   "outputs": [],
   "execution_count": null
  },
  {
   "cell_type": "code",
   "metadata": {
    "cell_id": "00019-243c5d48-7e03-42bf-b80d-2c7bbb2836de",
    "id": "qCIPSciUjyGQ",
    "deepnote_to_be_reexecuted": false,
    "source_hash": "84c0426c",
    "execution_start": 1637526945088,
    "execution_millis": 1,
    "output_cleared": true,
    "deepnote_cell_type": "code"
   },
   "source": "# from sklearn.neighbors import KNeighborsClassifier\n# model = KNeighborsClassifier()",
   "outputs": [],
   "execution_count": null
  },
  {
   "cell_type": "markdown",
   "source": "> ‼️ You can only initialize one model per run of the pipeline.",
   "metadata": {
    "cell_id": "00020-c34906d6-fb79-435a-8f27-9b9b6de33fdc",
    "id": "M1WtEuqWkU0Z",
    "deepnote_cell_type": "markdown"
   }
  },
  {
   "cell_type": "markdown",
   "source": "## 6. Tune Class Weights\nThe author, Donato Marrazzo (Red Hat, Inc.), of the article ([[2]](https://developers.redhat.com/blog/2021/01/14/knowledge-meets-machine-learning-for-smarter-decisions-part-1#conclusion)) from which this dataset is from had an interesting idea. It maybe would be better to reject a correct expense claim than to accept an incorrect one, as rejected expense claims can be re-verified by humans. Therefore, one could try to reduce the weight of accepted expense claims.\n\nTherefore, it might be worth considering setting the weight of rejected (`False`) claims to 1 (`False : 1`) and that of accepted (`True`) cases to about 0.6 (`True : 0.6`).\n",
   "metadata": {
    "cell_id": "00021-1a1ed712-d448-40ed-990a-847c4d3997c4",
    "id": "Qz6qiXWAj8wY",
    "deepnote_cell_type": "markdown"
   }
  },
  {
   "cell_type": "code",
   "metadata": {
    "cell_id": "00022-ef03212e-e2fe-4e6c-b22f-ba6465d34b79",
    "deepnote_to_be_reexecuted": false,
    "execution_millis": 12,
    "execution_start": 1637526945094,
    "id": "3AdUg58NHN2J",
    "output_cleared": true,
    "source_hash": "1cb62d1",
    "deepnote_cell_type": "code"
   },
   "source": "model.class_weight ={\n    False : 1,\n    True : 0.6\n}\n\nprint(\"Model: \", model)",
   "outputs": [
    {
     "name": "stdout",
     "text": "Model:  LogisticRegression(class_weight={False: 1, True: 0.6}, max_iter=1000)\n",
     "output_type": "stream"
    }
   ],
   "execution_count": null
  },
  {
   "cell_type": "markdown",
   "source": "### 🚧 Supplementary Tasks\n\nTry experimenting with other weight values as well.",
   "metadata": {
    "cell_id": "00023-cd3b3f64-6645-4985-a722-04dc96afa679",
    "id": "_nlWoofZ1Sxi",
    "deepnote_cell_type": "markdown"
   }
  },
  {
   "cell_type": "markdown",
   "source": "## 7. Train Model\nNow we can train the configured model on the training set by using the sklearn `fit` method.",
   "metadata": {
    "cell_id": "00024-a1adc119-dacf-4b03-b384-5e8b0bd3b2d6",
    "id": "dfQUl4mx1ggh",
    "deepnote_cell_type": "markdown"
   }
  },
  {
   "cell_type": "code",
   "metadata": {
    "cell_id": "00025-bd91a2de-2fcb-44f1-a887-3d813548567f",
    "deepnote_to_be_reexecuted": false,
    "execution_millis": 405,
    "execution_start": 1637526945095,
    "id": "rjDLhNHsHVlz",
    "output_cleared": true,
    "source_hash": "69d3b53d",
    "deepnote_output_heights": [
     21.199996948242188
    ],
    "deepnote_cell_type": "code"
   },
   "source": "model.fit(X_train, y_train)",
   "outputs": [
    {
     "output_type": "execute_result",
     "execution_count": 11,
     "data": {
      "text/plain": "LogisticRegression(class_weight={False: 1, True: 0.6}, max_iter=1000)"
     },
     "metadata": {}
    }
   ],
   "execution_count": null
  },
  {
   "cell_type": "markdown",
   "source": "## 8. Make Predictions\n\nAfter training, we can use our testing set to make predictions by using the `predict` method sklearn. With the prediction, we can now retrieve and calculate performance metrics.",
   "metadata": {
    "cell_id": "00026-6e8a25fa-bb30-4cff-bfa4-f02cc2ff28ce",
    "id": "DSWa4xZU17qN",
    "deepnote_cell_type": "markdown"
   }
  },
  {
   "cell_type": "code",
   "metadata": {
    "cell_id": "00027-3bace296-17fc-4a98-a65d-9711edacc715",
    "deepnote_to_be_reexecuted": false,
    "execution_millis": 139,
    "execution_start": 1637526945511,
    "id": "rcu9urPpHYRz",
    "output_cleared": true,
    "source_hash": "f7bd19fe",
    "deepnote_cell_type": "code"
   },
   "source": "y_pred = model.predict(X_test)\n\nprint(\"Predictions (y): \", y_pred)",
   "outputs": [
    {
     "name": "stdout",
     "text": "Predictions (y):  [ True False False ... False False  True]\n",
     "output_type": "stream"
    }
   ],
   "execution_count": null
  },
  {
   "cell_type": "markdown",
   "source": "## 9. Scoring\nUsing various scoring metrics, we can examine how well the trained model performs on the test set.",
   "metadata": {
    "cell_id": "00028-73d4325a-0f2b-44bc-a811-458b975ff80a",
    "id": "4gWLPieRliOL",
    "deepnote_cell_type": "markdown"
   }
  },
  {
   "cell_type": "markdown",
   "source": "### 9.1 Precision, Recall, F1 and Accuracy\nIn the following, multiple methods of sklearn are used to get overall precision, recall, F1 and overall accuracy.\n\n\n> In a binary classification, the precision indicates the ratio of correctly predicted positive results (TP) in relation to the total of all results predicted as positive (TP + FP). The recall indicates the ratio of results correctly classified as positive (TP) in relation to the total of actually positive results (TP + FN).\n\n\n> In general, the F1 score is the mean of precision and recall. The accuracy score assesses the accuracy of the correct predictions.",
   "metadata": {
    "cell_id": "00029-97357db6-74cb-473b-a8e3-9bdd6ce1d518",
    "id": "vf8hL2NoMiqT",
    "deepnote_cell_type": "markdown"
   }
  },
  {
   "cell_type": "code",
   "metadata": {
    "cell_id": "00030-0537b439-a5f5-49ac-afca-cfdc20cf1619",
    "deepnote_to_be_reexecuted": false,
    "execution_millis": 123,
    "execution_start": 1637526945527,
    "id": "XwoHVCa4HbMy",
    "output_cleared": true,
    "source_hash": "cc84366",
    "deepnote_cell_type": "code"
   },
   "source": "from sklearn.metrics import recall_score, precision_score, f1_score, accuracy_score\n\nRS = recall_score(y_test, y_pred)\nprint(f\"Recall Score (RS): {100 * RS:.2f}%\")\n\nPS = precision_score(y_test, y_pred)\nprint(f\"Precision Score (PS): {100 * PS:.2f}%\")\n\nF1 = f1_score(y_test, y_pred)\nprint(f\"F1: {100 * F1:.2f}%\")\n\nAS = accuracy_score(y_test, y_pred)\nprint(f\"Accuracy Score (AS): {100 * AS:.2f}%\")",
   "outputs": [
    {
     "name": "stdout",
     "text": "Recall Score (RS): 91.87%\nPrecision Score (PS): 96.56%\nF1: 94.16%\nAccuracy Score (AS): 93.69%\n",
     "output_type": "stream"
    }
   ],
   "execution_count": null
  },
  {
   "cell_type": "markdown",
   "source": "In the following, a classification report can be generated by using the `classification_report` method of sklearn to get precision, recall and F1 on each class or label.",
   "metadata": {
    "cell_id": "00031-e37ea229-bae0-468b-871e-c285cfd15d1c",
    "id": "ksM79E-Tzfco",
    "deepnote_cell_type": "markdown"
   }
  },
  {
   "cell_type": "code",
   "metadata": {
    "cell_id": "00032-cfb58762-ca7a-4636-865d-f3720e8e8a1e",
    "deepnote_to_be_reexecuted": false,
    "execution_millis": 104,
    "execution_start": 1637526945546,
    "id": "gJmYhVCFK7fe",
    "output_cleared": true,
    "source_hash": "276f56dd",
    "deepnote_cell_type": "code"
   },
   "source": "from sklearn.metrics import classification_report\n\nCR = classification_report(y_test, y_pred)\n\nprint(\"Classification Report (CR):\\n\", CR)",
   "outputs": [
    {
     "name": "stdout",
     "text": "Classification Report (CR):\n               precision    recall  f1-score   support\n\n       False       0.90      0.96      0.93       714\n        True       0.97      0.92      0.94       886\n\n    accuracy                           0.94      1600\n   macro avg       0.94      0.94      0.94      1600\nweighted avg       0.94      0.94      0.94      1600\n\n",
     "output_type": "stream"
    }
   ],
   "execution_count": null
  },
  {
   "cell_type": "markdown",
   "source": "### 9.2 Confusion Matrix\nIn the following, a confusion matrix can be generated by using the `confusion_matrix` method of sklearn.\n\n> In binary classification problems, the confusion matrix consists of the number of true positive (TP), true negative (TN), false positive (FP) and false negative (FN) predictions.",
   "metadata": {
    "cell_id": "00033-9fa32cd9-7c26-4d34-b575-777337be5fca",
    "id": "GCHNmuuo6HaU",
    "deepnote_cell_type": "markdown"
   }
  },
  {
   "cell_type": "code",
   "metadata": {
    "cell_id": "00034-911a841e-c1ed-473a-81a9-fc012086c113",
    "deepnote_to_be_reexecuted": false,
    "execution_millis": 54,
    "execution_start": 1637526945596,
    "id": "KhfWmimb6N3V",
    "output_cleared": true,
    "source_hash": "dc46b947",
    "deepnote_cell_type": "code"
   },
   "source": "from sklearn.metrics import confusion_matrix\n\nCM = confusion_matrix(y_test, y_pred)\n\nprint(\"Confusion Matrix (CM):\\n\", CM)",
   "outputs": [
    {
     "name": "stdout",
     "text": "Confusion Matrix (CM):\n [[685  29]\n [ 72 814]]\n",
     "output_type": "stream"
    }
   ],
   "execution_count": null
  },
  {
   "cell_type": "markdown",
   "source": "The generated confusion matrix can be plotted with `ConfusionMatrixDisplay` of sklearn.",
   "metadata": {
    "cell_id": "00035-03838af6-ab9e-413d-bf41-298e5a110ead",
    "id": "DJyoUg3xRg0O",
    "deepnote_cell_type": "markdown"
   }
  },
  {
   "cell_type": "code",
   "metadata": {
    "cell_id": "00036-1f25031c-e661-43ae-ad8d-c3ed71236c7a",
    "colab": {
     "base_uri": "https://localhost:8080/",
     "height": 297
    },
    "deepnote_to_be_reexecuted": false,
    "execution_millis": 1126,
    "execution_start": 1637526945602,
    "id": "F4KieqbA6dCX",
    "outputId": "906af494-f8bb-4e9c-a08e-35b9deb56856",
    "source_hash": "b5d274d",
    "deepnote_output_heights": [
     21.199996948242188,
     264
    ],
    "output_cleared": true,
    "deepnote_cell_type": "code"
   },
   "source": "from sklearn.metrics import ConfusionMatrixDisplay\n\ndisp = ConfusionMatrixDisplay(confusion_matrix=CM, display_labels=model.classes_)\ndisp.plot(values_format='')",
   "outputs": [
    {
     "output_type": "execute_result",
     "execution_count": 16,
     "data": {
      "text/plain": "<sklearn.metrics._plot.confusion_matrix.ConfusionMatrixDisplay at 0x7fbfbce25090>"
     },
     "metadata": {}
    },
    {
     "data": {
      "text/plain": "<Figure size 432x288 with 2 Axes>",
      "image/png": "[encoded data removed]"
     },
     "metadata": {
      "needs_background": "light",
      "image/png": {
       "width": 331,
       "height": 262
      }
     },
     "output_type": "display_data"
    }
   ],
   "execution_count": null
  },
  {
   "cell_type": "markdown",
   "source": "#### Interpreting the Confusion Matrix\nIn a binary classification problem (as it is the case in this application scenario), one can interpret the plot as follows:\n- Top-right: Number of cases where they actually not have a true label and the true label was predicted. So it is (**FP**) **F**alse that it is true (**P**ositive). In our case, we must minimize this!\n- Bottom-left: Number of cases where they actually have a true label and the true label was not predicted. So it is (**FN**) **F**alse that it is false (**N**egative). In our case, we maybe can minimize this.\n- Top-left: Number of cases where they actually not have a true label and the true label was not predicted. So it is (**TN**) **T**rue that it is false (**N**egative).\n- Bottom-right: Number of cases where they actually have the true label and the true label was predicted. So it is (**TP**) **T**rue that it is true (**P**ositive).",
   "metadata": {
    "cell_id": "00037-8839a812-b4b6-4a8a-905b-6f84ced8cb4d",
    "id": "-E3zQl_zAGkF",
    "deepnote_cell_type": "markdown"
   }
  },
  {
   "cell_type": "markdown",
   "source": "## 10. PMML Export\nFinally, the trained model can now be exported with the library [sklearn2pmml](https://github.com/jpmml/sklearn2pmml) to PMML.\n\n> If necessary, the `sklearn2pmml` must be organised in advance via pip. Since `sklearn2pmml` requires the JRE (Java Runtime Environment), JRE may have to be installed beforehand, depending on the Jupyter environment.\n\nAfterwards, a pipeline can be initialised and a PMML file can be written.",
   "metadata": {
    "cell_id": "00038-b06af6be-6908-4839-9225-d7e9d03e7afd",
    "id": "87LVknNFM_kt",
    "deepnote_cell_type": "markdown"
   }
  },
  {
   "cell_type": "code",
   "metadata": {
    "tags": [],
    "cell_id": "00039-e75f949b-f016-48fb-8c38-ef18f40d8737",
    "deepnote_to_be_reexecuted": false,
    "source_hash": "54f383b2",
    "execution_start": 1637577544801,
    "execution_millis": 48783,
    "output_cleared": true,
    "deepnote_cell_type": "code"
   },
   "source": "try:\n    import sklearn2pmml\nexcept:\n    !pip -q install sklearn2pmml\n\nfrom sklearn2pmml import _java_version\n\nif _java_version(\"UTF-8\") is None:\n    !sudo apt -qq update\n    !sudo apt -qq install -y default-jre",
   "outputs": [
    {
     "name": "stdout",
     "text": "\u001b[33mWARNING: You are using pip version 20.1.1; however, version 21.3.1 is available.\nYou should consider upgrading via the '/root/venv/bin/python -m pip install --upgrade pip' command.\u001b[0m\n2 packages can be upgraded. Run 'apt list --upgradable' to see them.\nThe following additional packages will be installed:\n  at-spi2-core ca-certificates-java dbus dbus-user-session\n  dconf-gsettings-backend dconf-service default-jre-headless dmsetup\n  fonts-dejavu-extra glib-networking glib-networking-common\n  glib-networking-services gsettings-desktop-schemas java-common libapparmor1\n  libargon2-1 libasound2 libasound2-data libatk-bridge2.0-0\n  libatk-wrapper-java libatk-wrapper-java-jni libatspi2.0-0 libcap2 libcolord2\n  libcryptsetup12 libdconf1 libdevmapper1.02.1 libdrm-amdgpu1 libdrm-common\n  libdrm-intel1 libdrm-nouveau2 libdrm-radeon1 libdrm2 libepoxy0 libfontenc1\n  libgif7 libgl1 libgl1-mesa-dri libglapi-mesa libglvnd0 libglx-mesa0 libglx0\n  libgtk-3-0 libgtk-3-bin libgtk-3-common libidn11 libip4tc0 libjson-c3\n  libjson-glib-1.0-0 libjson-glib-1.0-common libkmod2 liblcms2-2 libllvm7\n  libnspr4 libnss-systemd libnss3 libpam-systemd libpciaccess0 libpcsclite1\n  libproxy1v5 librest-0.7-0 libsensors-config libsensors5 libsoup-gnome2.4-1\n  libsoup2.4-1 libwayland-client0 libwayland-cursor0 libwayland-egl1\n  libx11-xcb1 libxcb-dri2-0 libxcb-dri3-0 libxcb-glx0 libxcb-present0\n  libxcb-shape0 libxcb-sync1 libxkbcommon0 libxmuu1 libxshmfence1 libxtst6\n  libxv1 libxxf86dga1 libxxf86vm1 openjdk-11-jre openjdk-11-jre-headless\n  systemd systemd-sysv x11-utils xkb-data\nSuggested packages:\n  libasound2-plugins alsa-utils colord gvfs liblcms2-utils pciutils pcscd\n  lm-sensors libnss-mdns fonts-ipafont-gothic fonts-ipafont-mincho\n  fonts-wqy-microhei | fonts-wqy-zenhei fonts-indic systemd-container\n  policykit-1 mesa-utils\nThe following NEW packages will be installed:\n  at-spi2-core ca-certificates-java dbus dbus-user-session\n  dconf-gsettings-backend dconf-service default-jre default-jre-headless\n  dmsetup fonts-dejavu-extra glib-networking glib-networking-common\n  glib-networking-services gsettings-desktop-schemas java-common libapparmor1\n  libargon2-1 libasound2 libasound2-data libatk-bridge2.0-0\n  libatk-wrapper-java libatk-wrapper-java-jni libatspi2.0-0 libcap2 libcolord2\n  libcryptsetup12 libdconf1 libdevmapper1.02.1 libdrm-amdgpu1 libdrm-common\n  libdrm-intel1 libdrm-nouveau2 libdrm-radeon1 libdrm2 libepoxy0 libfontenc1\n  libgif7 libgl1 libgl1-mesa-dri libglapi-mesa libglvnd0 libglx-mesa0 libglx0\n  libgtk-3-0 libgtk-3-bin libgtk-3-common libidn11 libip4tc0 libjson-c3\n  libjson-glib-1.0-0 libjson-glib-1.0-common libkmod2 liblcms2-2 libllvm7\n  libnspr4 libnss-systemd libnss3 libpam-systemd libpciaccess0 libpcsclite1\n  libproxy1v5 librest-0.7-0 libsensors-config libsensors5 libsoup-gnome2.4-1\n  libsoup2.4-1 libwayland-client0 libwayland-cursor0 libwayland-egl1\n  libx11-xcb1 libxcb-dri2-0 libxcb-dri3-0 libxcb-glx0 libxcb-present0\n  libxcb-shape0 libxcb-sync1 libxkbcommon0 libxmuu1 libxshmfence1 libxtst6\n  libxv1 libxxf86dga1 libxxf86vm1 openjdk-11-jre openjdk-11-jre-headless\n  systemd systemd-sysv x11-utils xkb-data\n0 upgraded, 89 newly installed, 0 to remove and 2 not upgraded.\nNeed to get 77.2 MB of archives.\nAfter this operation, 470 MB of additional disk space will be used.\ndebconf: delaying package configuration, since apt-utils is not installed\n\n\u001b7\u001b[0;23r\u001b8\u001b[1ASelecting previously unselected package libapparmor1:amd64.\n(Reading database ... 31086 files and directories currently installed.)\nPreparing to unpack .../00-libapparmor1_2.13.2-10_amd64.deb ...\n\u001b7\u001b[24;0f\u001b[42m\u001b[30mProgress: [  0%]\u001b[49m\u001b[39m [..........................................................] \u001b8Unpacking libapparmor1:amd64 (2.13.2-10) ...\nSelecting previously unselected package libcap2:amd64.\nPreparing to unpack .../01-libcap2_1%3a2.25-2_amd64.deb ...\nUnpacking libcap2:amd64 (1:2.25-2) ...\n\u001b7\u001b[24;0f\u001b[42m\u001b[30mProgress: [  1%]\u001b[49m\u001b[39m [..........................................................] \u001b8Selecting previously unselected package libargon2-1:amd64.\nPreparing to unpack .../02-libargon2-1_0~20171227-0.2_amd64.deb ...\nUnpacking libargon2-1:amd64 (0~20171227-0.2) ...\nSelecting previously unselected package dmsetup.\nPreparing to unpack .../03-dmsetup_2%3a1.02.155-3_amd64.deb ...\nUnpacking dmsetup (2:1.02.155-3) ...\n\u001b7\u001b[24;0f\u001b[42m\u001b[30mProgress: [  2%]\u001b[49m\u001b[39m [#.........................................................] \u001b8Selecting previously unselected package libdevmapper1.02.1:amd64.\nPreparing to unpack .../04-libdevmapper1.02.1_2%3a1.02.155-3_amd64.deb ...\nUnpacking libdevmapper1.02.1:amd64 (2:1.02.155-3) ...\nSelecting previously unselected package libjson-c3:amd64.\nPreparing to unpack .../05-libjson-c3_0.12.1+ds-2+deb10u1_amd64.deb ...\n\u001b7\u001b[24;0f\u001b[42m\u001b[30mProgress: [  3%]\u001b[49m\u001b[39m [#.........................................................] \u001b8Unpacking libjson-c3:amd64 (0.12.1+ds-2+deb10u1) ...\nSelecting previously unselected package libcryptsetup12:amd64.\nPreparing to unpack .../06-libcryptsetup12_2%3a2.1.0-5+deb10u2_amd64.deb ...\nUnpacking libcryptsetup12:amd64 (2:2.1.0-5+deb10u2) ...\nSelecting previously unselected package libidn11:amd64.\nPreparing to unpack .../07-libidn11_1.33-2.2_amd64.deb ...\n\u001b7\u001b[24;0f\u001b[42m\u001b[30mProgress: [  4%]\u001b[49m\u001b[39m [##........................................................] \u001b8Unpacking libidn11:amd64 (1.33-2.2) ...\nSelecting previously unselected package libip4tc0:amd64.\nPreparing to unpack .../08-libip4tc0_1.8.2-4_amd64.deb ...\nUnpacking libip4tc0:amd64 (1.8.2-4) ...\n\u001b7\u001b[24;0f\u001b[42m\u001b[30mProgress: [  5%]\u001b[49m\u001b[39m [##........................................................] \u001b8Selecting previously unselected package libkmod2:amd64.\nPreparing to unpack .../09-libkmod2_26-1_amd64.deb ...\nUnpacking libkmod2:amd64 (26-1) ...\nSelecting previously unselected package systemd.\nPreparing to unpack .../10-systemd_241-7~deb10u8_amd64.deb ...\nUnpacking systemd (241-7~deb10u8) ...\n\u001b7\u001b[24;0f\u001b[42m\u001b[30mProgress: [  6%]\u001b[49m\u001b[39m [###.......................................................] \u001b8Setting up libapparmor1:amd64 (2.13.2-10) ...\nSetting up libcap2:amd64 (1:2.25-2) ...\n\u001b7\u001b[24;0f\u001b[42m\u001b[30mProgress: [  7%]\u001b[49m\u001b[39m [####......................................................] \u001b8Setting up libargon2-1:amd64 (0~20171227-0.2) ...\nSetting up libjson-c3:amd64 (0.12.1+ds-2+deb10u1) ...\n\u001b7\u001b[24;0f\u001b[42m\u001b[30mProgress: [  8%]\u001b[49m\u001b[39m [####......................................................] \u001b8Setting up libidn11:amd64 (1.33-2.2) ...\nSetting up libip4tc0:amd64 (1.8.2-4) ...\n\u001b7\u001b[24;0f\u001b[42m\u001b[30mProgress: [  9%]\u001b[49m\u001b[39m [#####.....................................................] \u001b8Setting up libkmod2:amd64 (26-1) ...\n\u001b7\u001b[24;0f\u001b[42m\u001b[30mProgress: [ 10%]\u001b[49m\u001b[39m [#####.....................................................] \u001b8Setting up libdevmapper1.02.1:amd64 (2:1.02.155-3) ...\nSetting up libcryptsetup12:amd64 (2:2.1.0-5+deb10u2) ...\n\u001b7\u001b[24;0f\u001b[42m\u001b[30mProgress: [ 11%]\u001b[49m\u001b[39m [######....................................................] \u001b8Setting up systemd (241-7~deb10u8) ...\nCreated symlink /etc/systemd/system/getty.target.wants/getty@tty1.service → /lib/systemd/system/getty@.service.\nCreated symlink /etc/systemd/system/multi-user.target.wants/remote-fs.target → /lib/systemd/system/remote-fs.target.\nCreated symlink /etc/systemd/system/dbus-org.freedesktop.timesync1.service → /lib/systemd/system/systemd-timesyncd.service.\nCreated symlink /etc/systemd/system/sysinit.target.wants/systemd-timesyncd.service → /lib/systemd/system/systemd-timesyncd.service.\nSetting up dmsetup (2:1.02.155-3) ...\n\u001b7\u001b[24;0f\u001b[42m\u001b[30mProgress: [ 12%]\u001b[49m\u001b[39m [######....................................................] \u001b8Selecting previously unselected package systemd-sysv.\n(Reading database ... 31921 files and directories currently installed.)\nPreparing to unpack .../00-systemd-sysv_241-7~deb10u8_amd64.deb ...\nUnpacking systemd-sysv (241-7~deb10u8) ...\nSelecting previously unselected package dbus.\nPreparing to unpack .../01-dbus_1.12.20-0+deb10u1_amd64.deb ...\n\u001b7\u001b[24;0f\u001b[42m\u001b[30mProgress: [ 13%]\u001b[49m\u001b[39m [#######...................................................] \u001b8Unpacking dbus (1.12.20-0+deb10u1) ...\nSelecting previously unselected package libnss-systemd:amd64.\nPreparing to unpack .../02-libnss-systemd_241-7~deb10u8_amd64.deb ...\nUnpacking libnss-systemd:amd64 (241-7~deb10u8) ...\nSelecting previously unselected package libpam-systemd:amd64.\nPreparing to unpack .../03-libpam-systemd_241-7~deb10u8_amd64.deb ...\n\u001b7\u001b[24;0f\u001b[42m\u001b[30mProgress: [ 14%]\u001b[49m\u001b[39m [########..................................................] \u001b8Unpacking libpam-systemd:amd64 (241-7~deb10u8) ...\nSelecting previously unselected package libatspi2.0-0:amd64.\nPreparing to unpack .../04-libatspi2.0-0_2.30.0-7_amd64.deb ...\nUnpacking libatspi2.0-0:amd64 (2.30.0-7) ...\n\u001b7\u001b[24;0f\u001b[42m\u001b[30mProgress: [ 15%]\u001b[49m\u001b[39m [########..................................................] \u001b8Selecting previously unselected package libxtst6:amd64.\nPreparing to unpack .../05-libxtst6_2%3a1.2.3-1_amd64.deb ...\nUnpacking libxtst6:amd64 (2:1.2.3-1) ...\nSelecting previously unselected package at-spi2-core.\nPreparing to unpack .../06-at-spi2-core_2.30.0-7_amd64.deb ...\nUnpacking at-spi2-core (2.30.0-7) ...\n\u001b7\u001b[24;0f\u001b[42m\u001b[30mProgress: [ 16%]\u001b[49m\u001b[39m [#########.................................................] \u001b8Selecting previously unselected package java-common.\nPreparing to unpack .../07-java-common_0.71_all.deb ...\nUnpacking java-common (0.71) ...\nSelecting previously unselected package liblcms2-2:amd64.\nPreparing to unpack .../08-liblcms2-2_2.9-3_amd64.deb ...\nUnpacking liblcms2-2:amd64 (2.9-3) ...\n\u001b7\u001b[24;0f\u001b[42m\u001b[30mProgress: [ 17%]\u001b[49m\u001b[39m [##########................................................] \u001b8Selecting previously unselected package libnspr4:amd64.\nPreparing to unpack .../09-libnspr4_2%3a4.20-1_amd64.deb ...\nUnpacking libnspr4:amd64 (2:4.20-1) ...\nSelecting previously unselected package libnss3:amd64.\nPreparing to unpack .../10-libnss3_2%3a3.42.1-1+deb10u3_amd64.deb ...\n\u001b7\u001b[24;0f\u001b[42m\u001b[30mProgress: [ 18%]\u001b[49m\u001b[39m [##########................................................] \u001b8Unpacking libnss3:amd64 (2:3.42.1-1+deb10u3) ...\nSelecting previously unselected package libasound2-data.\nPreparing to unpack .../11-libasound2-data_1.1.8-1_all.deb ...\nUnpacking libasound2-data (1.1.8-1) ...\nSelecting previously unselected package libasound2:amd64.\nPreparing to unpack .../12-libasound2_1.1.8-1_amd64.deb ...\n\u001b7\u001b[24;0f\u001b[42m\u001b[30mProgress: [ 19%]\u001b[49m\u001b[39m [###########...............................................] \u001b8Unpacking libasound2:amd64 (1.1.8-1) ...\nSelecting previously unselected package libpcsclite1:amd64.\nPreparing to unpack .../13-libpcsclite1_1.8.24-1_amd64.deb ...\nUnpacking libpcsclite1:amd64 (1.8.24-1) ...\n\u001b7\u001b[24;0f\u001b[42m\u001b[30mProgress: [ 20%]\u001b[49m\u001b[39m [###########...............................................] \u001b8Selecting previously unselected package openjdk-11-jre-headless:amd64.\nPreparing to unpack .../14-openjdk-11-jre-headless_11.0.12+7-2~deb10u1_amd64.deb ...\nUnpacking openjdk-11-jre-headless:amd64 (11.0.12+7-2~deb10u1) ...\nSelecting previously unselected package default-jre-headless.\nPreparing to unpack .../15-default-jre-headless_2%3a1.11-71_amd64.deb ...\nUnpacking default-jre-headless (2:1.11-71) ...\n\u001b7\u001b[24;0f\u001b[42m\u001b[30mProgress: [ 21%]\u001b[49m\u001b[39m [############..............................................] \u001b8Selecting previously unselected package ca-certificates-java.\nPreparing to unpack .../16-ca-certificates-java_20190405_all.deb ...\nUnpacking ca-certificates-java (20190405) ...\nSelecting previously unselected package dbus-user-session.\nPreparing to unpack .../17-dbus-user-session_1.12.20-0+deb10u1_amd64.deb ...\n\u001b7\u001b[24;0f\u001b[42m\u001b[30mProgress: [ 22%]\u001b[49m\u001b[39m [############..............................................] \u001b8Unpacking dbus-user-session (1.12.20-0+deb10u1) ...\nSelecting previously unselected package libdconf1:amd64.\nPreparing to unpack .../18-libdconf1_0.30.1-2_amd64.deb ...\nUnpacking libdconf1:amd64 (0.30.1-2) ...\nSelecting previously unselected package dconf-service.\nPreparing to unpack .../19-dconf-service_0.30.1-2_amd64.deb ...\n\u001b7\u001b[24;0f\u001b[42m\u001b[30mProgress: [ 23%]\u001b[49m\u001b[39m [#############.............................................] \u001b8Unpacking dconf-service (0.30.1-2) ...\nSelecting previously unselected package dconf-gsettings-backend:amd64.\nPreparing to unpack .../20-dconf-gsettings-backend_0.30.1-2_amd64.deb ...\nUnpacking dconf-gsettings-backend:amd64 (0.30.1-2) ...\nSelecting previously unselected package libglvnd0:amd64.\nPreparing to unpack .../21-libglvnd0_1.1.0-1_amd64.deb ...\n\u001b7\u001b[24;0f\u001b[42m\u001b[30mProgress: [ 24%]\u001b[49m\u001b[39m [#############.............................................] \u001b8Unpacking libglvnd0:amd64 (1.1.0-1) ...\nSelecting previously unselected package libdrm-common.\nPreparing to unpack .../22-libdrm-common_2.4.97-1_all.deb ...\nUnpacking libdrm-common (2.4.97-1) ...\nSelecting previously unselected package libdrm2:amd64.\nPreparing to unpack .../23-libdrm2_2.4.97-1_amd64.deb ...\n\u001b7\u001b[24;0f\u001b[42m\u001b[30mProgress: [ 25%]\u001b[49m\u001b[39m [##############............................................] \u001b8Unpacking libdrm2:amd64 (2.4.97-1) ...\nSelecting previously unselected package libglapi-mesa:amd64.\nPreparing to unpack .../24-libglapi-mesa_18.3.6-2+deb10u1_amd64.deb ...\nUnpacking libglapi-mesa:amd64 (18.3.6-2+deb10u1) ...\n\u001b7\u001b[24;0f\u001b[42m\u001b[30mProgress: [ 26%]\u001b[49m\u001b[39m [###############...........................................] \u001b8Selecting previously unselected package libx11-xcb1:amd64.\nPreparing to unpack .../25-libx11-xcb1_2%3a1.6.7-1+deb10u2_amd64.deb ...\nUnpacking libx11-xcb1:amd64 (2:1.6.7-1+deb10u2) ...\nSelecting previously unselected package libxcb-dri2-0:amd64.\nPreparing to unpack .../26-libxcb-dri2-0_1.13.1-2_amd64.deb ...\nUnpacking libxcb-dri2-0:amd64 (1.13.1-2) ...\n\u001b7\u001b[24;0f\u001b[42m\u001b[30mProgress: [ 27%]\u001b[49m\u001b[39m [###############...........................................] \u001b8Selecting previously unselected package libxcb-dri3-0:amd64.\nPreparing to unpack .../27-libxcb-dri3-0_1.13.1-2_amd64.deb ...\nUnpacking libxcb-dri3-0:amd64 (1.13.1-2) ...\nSelecting previously unselected package libxcb-glx0:amd64.\nPreparing to unpack .../28-libxcb-glx0_1.13.1-2_amd64.deb ...\nUnpacking libxcb-glx0:amd64 (1.13.1-2) ...\n\u001b7\u001b[24;0f\u001b[42m\u001b[30mProgress: [ 28%]\u001b[49m\u001b[39m [################..........................................] \u001b8Selecting previously unselected package libxcb-present0:amd64.\nPreparing to unpack .../29-libxcb-present0_1.13.1-2_amd64.deb ...\nUnpacking libxcb-present0:amd64 (1.13.1-2) ...\nSelecting previously unselected package libxcb-sync1:amd64.\nPreparing to unpack .../30-libxcb-sync1_1.13.1-2_amd64.deb ...\n\u001b7\u001b[24;0f\u001b[42m\u001b[30mProgress: [ 29%]\u001b[49m\u001b[39m [################..........................................] \u001b8Unpacking libxcb-sync1:amd64 (1.13.1-2) ...\nSelecting previously unselected package libxshmfence1:amd64.\nPreparing to unpack .../31-libxshmfence1_1.3-1_amd64.deb ...\nUnpacking libxshmfence1:amd64 (1.3-1) ...\nSelecting previously unselected package libxxf86vm1:amd64.\nPreparing to unpack .../32-libxxf86vm1_1%3a1.1.4-1+b2_amd64.deb ...\n\u001b7\u001b[24;0f\u001b[42m\u001b[30mProgress: [ 30%]\u001b[49m\u001b[39m [#################.........................................] \u001b8Unpacking libxxf86vm1:amd64 (1:1.1.4-1+b2) ...\nSelecting previously unselected package libdrm-amdgpu1:amd64.\nPreparing to unpack .../33-libdrm-amdgpu1_2.4.97-1_amd64.deb ...\nUnpacking libdrm-amdgpu1:amd64 (2.4.97-1) ...\n\u001b7\u001b[24;0f\u001b[42m\u001b[30mProgress: [ 31%]\u001b[49m\u001b[39m [#################.........................................] \u001b8Selecting previously unselected package libpciaccess0:amd64.\nPreparing to unpack .../34-libpciaccess0_0.14-1_amd64.deb ...\nUnpacking libpciaccess0:amd64 (0.14-1) ...\nSelecting previously unselected package libdrm-intel1:amd64.\nPreparing to unpack .../35-libdrm-intel1_2.4.97-1_amd64.deb ...\nUnpacking libdrm-intel1:amd64 (2.4.97-1) ...\n\u001b7\u001b[24;0f\u001b[42m\u001b[30mProgress: [ 32%]\u001b[49m\u001b[39m [##################........................................] \u001b8Selecting previously unselected package libdrm-nouveau2:amd64.\nPreparing to unpack .../36-libdrm-nouveau2_2.4.97-1_amd64.deb ...\nUnpacking libdrm-nouveau2:amd64 (2.4.97-1) ...\nSelecting previously unselected package libdrm-radeon1:amd64.\nPreparing to unpack .../37-libdrm-radeon1_2.4.97-1_amd64.deb ...\nUnpacking libdrm-radeon1:amd64 (2.4.97-1) ...\n\u001b7\u001b[24;0f\u001b[42m\u001b[30mProgress: [ 33%]\u001b[49m\u001b[39m [###################.......................................] \u001b8Selecting previously unselected package libllvm7:amd64.\nPreparing to unpack .../38-libllvm7_1%3a7.0.1-8+deb10u2_amd64.deb ...\nUnpacking libllvm7:amd64 (1:7.0.1-8+deb10u2) ...\nSelecting previously unselected package libsensors-config.\nPreparing to unpack .../39-libsensors-config_1%3a3.5.0-3_all.deb ...\n\u001b7\u001b[24;0f\u001b[42m\u001b[30mProgress: [ 34%]\u001b[49m\u001b[39m [###################.......................................] \u001b8Unpacking libsensors-config (1:3.5.0-3) ...\nSelecting previously unselected package libsensors5:amd64.\nPreparing to unpack .../40-libsensors5_1%3a3.5.0-3_amd64.deb ...\nUnpacking libsensors5:amd64 (1:3.5.0-3) ...\nSelecting previously unselected package libgl1-mesa-dri:amd64.\nPreparing to unpack .../41-libgl1-mesa-dri_18.3.6-2+deb10u1_amd64.deb ...\n\u001b7\u001b[24;0f\u001b[42m\u001b[30mProgress: [ 35%]\u001b[49m\u001b[39m [####################......................................] \u001b8Unpacking libgl1-mesa-dri:amd64 (18.3.6-2+deb10u1) ...\nSelecting previously unselected package libglx-mesa0:amd64.\nPreparing to unpack .../42-libglx-mesa0_18.3.6-2+deb10u1_amd64.deb ...\nUnpacking libglx-mesa0:amd64 (18.3.6-2+deb10u1) ...\n\u001b7\u001b[24;0f\u001b[42m\u001b[30mProgress: [ 36%]\u001b[49m\u001b[39m [####################......................................] \u001b8Selecting previously unselected package libglx0:amd64.\nPreparing to unpack .../43-libglx0_1.1.0-1_amd64.deb ...\nUnpacking libglx0:amd64 (1.1.0-1) ...\nSelecting previously unselected package libgl1:amd64.\nPreparing to unpack .../44-libgl1_1.1.0-1_amd64.deb ...\nUnpacking libgl1:amd64 (1.1.0-1) ...\n\u001b7\u001b[24;0f\u001b[42m\u001b[30mProgress: [ 37%]\u001b[49m\u001b[39m [#####################.....................................] \u001b8Selecting previously unselected package libgif7:amd64.\nPreparing to unpack .../45-libgif7_5.1.4-3_amd64.deb ...\nUnpacking libgif7:amd64 (5.1.4-3) ...\nSelecting previously unselected package openjdk-11-jre:amd64.\nPreparing to unpack .../46-openjdk-11-jre_11.0.12+7-2~deb10u1_amd64.deb ...\nUnpacking openjdk-11-jre:amd64 (11.0.12+7-2~deb10u1) ...\n\u001b7\u001b[24;0f\u001b[42m\u001b[30mProgress: [ 38%]\u001b[49m\u001b[39m [######################....................................] \u001b8Selecting previously unselected package default-jre.\nPreparing to unpack .../47-default-jre_2%3a1.11-71_amd64.deb ...\nUnpacking default-jre (2:1.11-71) ...\nSelecting previously unselected package fonts-dejavu-extra.\nPreparing to unpack .../48-fonts-dejavu-extra_2.37-1_all.deb ...\n\u001b7\u001b[24;0f\u001b[42m\u001b[30mProgress: [ 39%]\u001b[49m\u001b[39m [######################....................................] \u001b8Unpacking fonts-dejavu-extra (2.37-1) ...\nSelecting previously unselected package libproxy1v5:amd64.\nPreparing to unpack .../49-libproxy1v5_0.4.15-5+deb10u1_amd64.deb ...\nUnpacking libproxy1v5:amd64 (0.4.15-5+deb10u1) ...\nSelecting previously unselected package glib-networking-common.\nPreparing to unpack .../50-glib-networking-common_2.58.0-2+deb10u2_all.deb ...\nUnpacking glib-networking-common (2.58.0-2+deb10u2) ...\n\u001b7\u001b[24;0f\u001b[42m\u001b[30mProgress: [ 40%]\u001b[49m\u001b[39m [#######################...................................] \u001b8Selecting previously unselected package glib-networking-services.\nPreparing to unpack .../51-glib-networking-services_2.58.0-2+deb10u2_amd64.deb ...\nUnpacking glib-networking-services (2.58.0-2+deb10u2) ...\nSelecting previously unselected package gsettings-desktop-schemas.\nPreparing to unpack .../52-gsettings-desktop-schemas_3.28.1-1_all.deb ...\n\u001b7\u001b[24;0f\u001b[42m\u001b[30mProgress: [ 41%]\u001b[49m\u001b[39m [#######################...................................] \u001b8Unpacking gsettings-desktop-schemas (3.28.1-1) ...\nSelecting previously unselected package glib-networking:amd64.\nPreparing to unpack .../53-glib-networking_2.58.0-2+deb10u2_amd64.deb ...\nUnpacking glib-networking:amd64 (2.58.0-2+deb10u2) ...\n\u001b7\u001b[24;0f\u001b[42m\u001b[30mProgress: [ 42%]\u001b[49m\u001b[39m [########################..................................] \u001b8Selecting previously unselected package libatk-bridge2.0-0:amd64.\nPreparing to unpack .../54-libatk-bridge2.0-0_2.30.0-5_amd64.deb ...\nUnpacking libatk-bridge2.0-0:amd64 (2.30.0-5) ...\nSelecting previously unselected package libfontenc1:amd64.\nPreparing to unpack .../55-libfontenc1_1%3a1.1.3-1+b2_amd64.deb ...\nUnpacking libfontenc1:amd64 (1:1.1.3-1+b2) ...\n\u001b7\u001b[24;0f\u001b[42m\u001b[30mProgress: [ 43%]\u001b[49m\u001b[39m [#########################.................................] \u001b8Selecting previously unselected package libxcb-shape0:amd64.\nPreparing to unpack .../56-libxcb-shape0_1.13.1-2_amd64.deb ...\nUnpacking libxcb-shape0:amd64 (1.13.1-2) ...\nSelecting previously unselected package libxmuu1:amd64.\nPreparing to unpack .../57-libxmuu1_2%3a1.1.2-2+b3_amd64.deb ...\n\u001b7\u001b[24;0f\u001b[42m\u001b[30mProgress: [ 44%]\u001b[49m\u001b[39m [#########################.................................] \u001b8Unpacking libxmuu1:amd64 (2:1.1.2-2+b3) ...\nSelecting previously unselected package libxv1:amd64.\nPreparing to unpack .../58-libxv1_2%3a1.0.11-1_amd64.deb ...\nUnpacking libxv1:amd64 (2:1.0.11-1) ...\nSelecting previously unselected package libxxf86dga1:amd64.\nPreparing to unpack .../59-libxxf86dga1_2%3a1.1.4-1+b3_amd64.deb ...\n\u001b7\u001b[24;0f\u001b[42m\u001b[30mProgress: [ 45%]\u001b[49m\u001b[39m [##########################................................] \u001b8Unpacking libxxf86dga1:amd64 (2:1.1.4-1+b3) ...\nSelecting previously unselected package x11-utils.\nPreparing to unpack .../60-x11-utils_7.7+4_amd64.deb ...\nUnpacking x11-utils (7.7+4) ...\nSelecting previously unselected package libatk-wrapper-java.\nPreparing to unpack .../61-libatk-wrapper-java_0.33.3-22+deb10u1_all.deb ...\n\u001b7\u001b[24;0f\u001b[42m\u001b[30mProgress: [ 46%]\u001b[49m\u001b[39m [##########################................................] \u001b8Unpacking libatk-wrapper-java (0.33.3-22+deb10u1) ...\nSelecting previously unselected package libcolord2:amd64.\nPreparing to unpack .../62-libcolord2_1.4.3-4_amd64.deb ...\nUnpacking libcolord2:amd64 (1.4.3-4) ...\n\u001b7\u001b[24;0f\u001b[42m\u001b[30mProgress: [ 47%]\u001b[49m\u001b[39m [###########################...............................] \u001b8Selecting previously unselected package libepoxy0:amd64.\nPreparing to unpack .../63-libepoxy0_1.5.3-0.1_amd64.deb ...\nUnpacking libepoxy0:amd64 (1.5.3-0.1) ...\nSelecting previously unselected package libjson-glib-1.0-common.\nPreparing to unpack .../64-libjson-glib-1.0-common_1.4.4-2_all.deb ...\nUnpacking libjson-glib-1.0-common (1.4.4-2) ...\n\u001b7\u001b[24;0f\u001b[42m\u001b[30mProgress: [ 48%]\u001b[49m\u001b[39m [###########################...............................] \u001b8Selecting previously unselected package libjson-glib-1.0-0:amd64.\nPreparing to unpack .../65-libjson-glib-1.0-0_1.4.4-2_amd64.deb ...\nUnpacking libjson-glib-1.0-0:amd64 (1.4.4-2) ...\nSelecting previously unselected package libsoup2.4-1:amd64.\nPreparing to unpack .../66-libsoup2.4-1_2.64.2-2_amd64.deb ...\n\u001b7\u001b[24;0f\u001b[42m\u001b[30mProgress: [ 49%]\u001b[49m\u001b[39m [############################..............................] \u001b8Unpacking libsoup2.4-1:amd64 (2.64.2-2) ...\nSelecting previously unselected package libsoup-gnome2.4-1:amd64.\nPreparing to unpack .../67-libsoup-gnome2.4-1_2.64.2-2_amd64.deb ...\nUnpacking libsoup-gnome2.4-1:amd64 (2.64.2-2) ...\nSelecting previously unselected package librest-0.7-0:amd64.\nPreparing to unpack .../68-librest-0.7-0_0.8.1-1_amd64.deb ...\n\u001b7\u001b[24;0f\u001b[42m\u001b[30mProgress: [ 50%]\u001b[49m\u001b[39m [#############################.............................] \u001b8Unpacking librest-0.7-0:amd64 (0.8.1-1) ...\nSelecting previously unselected package libwayland-client0:amd64.\nPreparing to unpack .../69-libwayland-client0_1.16.0-1_amd64.deb ...\nUnpacking libwayland-client0:amd64 (1.16.0-1) ...\nSelecting previously unselected package libwayland-cursor0:amd64.\nPreparing to unpack .../70-libwayland-cursor0_1.16.0-1_amd64.deb ...\n\u001b7\u001b[24;0f\u001b[42m\u001b[30mProgress: [ 51%]\u001b[49m\u001b[39m [#############################.............................] \u001b8Unpacking libwayland-cursor0:amd64 (1.16.0-1) ...\nSelecting previously unselected package libwayland-egl1:amd64.\nPreparing to unpack .../71-libwayland-egl1_1.16.0-1_amd64.deb ...\nUnpacking libwayland-egl1:amd64 (1.16.0-1) ...\n\u001b7\u001b[24;0f\u001b[42m\u001b[30mProgress: [ 52%]\u001b[49m\u001b[39m [##############################............................] \u001b8Selecting previously unselected package xkb-data.\nPreparing to unpack .../72-xkb-data_2.26-2_all.deb ...\nUnpacking xkb-data (2.26-2) ...\nSelecting previously unselected package libxkbcommon0:amd64.\nPreparing to unpack .../73-libxkbcommon0_0.8.2-1_amd64.deb ...\nUnpacking libxkbcommon0:amd64 (0.8.2-1) ...\n\u001b7\u001b[24;0f\u001b[42m\u001b[30mProgress: [ 53%]\u001b[49m\u001b[39m [##############################............................] \u001b8Selecting previously unselected package libgtk-3-common.\nPreparing to unpack .../74-libgtk-3-common_3.24.5-1_all.deb ...\nUnpacking libgtk-3-common (3.24.5-1) ...\nSelecting previously unselected package libgtk-3-0:amd64.\nPreparing to unpack .../75-libgtk-3-0_3.24.5-1_amd64.deb ...\n\u001b7\u001b[24;0f\u001b[42m\u001b[30mProgress: [ 54%]\u001b[49m\u001b[39m [###############################...........................] \u001b8Unpacking libgtk-3-0:amd64 (3.24.5-1) ...\nSelecting previously unselected package libatk-wrapper-java-jni:amd64.\nPreparing to unpack .../76-libatk-wrapper-java-jni_0.33.3-22+deb10u1_amd64.deb ...\nUnpacking libatk-wrapper-java-jni:amd64 (0.33.3-22+deb10u1) ...\nSelecting previously unselected package libgtk-3-bin.\nPreparing to unpack .../77-libgtk-3-bin_3.24.5-1_amd64.deb ...\n\u001b7\u001b[24;0f\u001b[42m\u001b[30mProgress: [ 55%]\u001b[49m\u001b[39m [###############################...........................] \u001b8Unpacking libgtk-3-bin (3.24.5-1) ...\nSetting up libxcb-dri3-0:amd64 (1.13.1-2) ...\nSetting up liblcms2-2:amd64 (2.9-3) ...\n\u001b7\u001b[24;0f\u001b[42m\u001b[30mProgress: [ 56%]\u001b[49m\u001b[39m [################################..........................] \u001b8Setting up libx11-xcb1:amd64 (2:1.6.7-1+deb10u2) ...\n\u001b7\u001b[24;0f\u001b[42m\u001b[30mProgress: [ 57%]\u001b[49m\u001b[39m [#################################.........................] \u001b8Setting up libpciaccess0:amd64 (0.14-1) ...\nSetting up systemd-sysv (241-7~deb10u8) ...\n\u001b7\u001b[24;0f\u001b[42m\u001b[30mProgress: [ 58%]\u001b[49m\u001b[39m [#################################.........................] \u001b8Setting up libproxy1v5:amd64 (0.4.15-5+deb10u1) ...\nSetting up java-common (0.71) ...\n\u001b7\u001b[24;0f\u001b[42m\u001b[30mProgress: [ 59%]\u001b[49m\u001b[39m [##################################........................] \u001b8Setting up libglvnd0:amd64 (1.1.0-1) ...\nSetting up libxtst6:amd64 (2:1.2.3-1) ...\n\u001b7\u001b[24;0f\u001b[42m\u001b[30mProgress: [ 60%]\u001b[49m\u001b[39m [##################################........................] \u001b8Setting up libxcb-glx0:amd64 (1.13.1-2) ...\nSetting up libxcb-shape0:amd64 (1.13.1-2) ...\n\u001b7\u001b[24;0f\u001b[42m\u001b[30mProgress: [ 61%]\u001b[49m\u001b[39m [###################################.......................] \u001b8Setting up libsensors-config (1:3.5.0-3) ...\n\u001b7\u001b[24;0f\u001b[42m\u001b[30mProgress: [ 62%]\u001b[49m\u001b[39m [###################################.......................] \u001b8Setting up libxxf86dga1:amd64 (2:1.1.4-1+b3) ...\nSetting up libnss-systemd:amd64 (241-7~deb10u8) ...\nFirst installation detected...\nChecking NSS setup...\n\u001b7\u001b[24;0f\u001b[42m\u001b[30mProgress: [ 63%]\u001b[49m\u001b[39m [####################################......................] \u001b8Setting up xkb-data (2.26-2) ...\nSetting up libatspi2.0-0:amd64 (2.30.0-7) ...\n\u001b7\u001b[24;0f\u001b[42m\u001b[30mProgress: [ 64%]\u001b[49m\u001b[39m [#####################################.....................] \u001b8Setting up libcolord2:amd64 (1.4.3-4) ...\nSetting up libxxf86vm1:amd64 (1:1.1.4-1+b2) ...\n\u001b7\u001b[24;0f\u001b[42m\u001b[30mProgress: [ 65%]\u001b[49m\u001b[39m [#####################################.....................] \u001b8Setting up libxcb-present0:amd64 (1.13.1-2) ...\nSetting up libdconf1:amd64 (0.30.1-2) ...\n\u001b7\u001b[24;0f\u001b[42m\u001b[30mProgress: [ 66%]\u001b[49m\u001b[39m [######################################....................] \u001b8Setting up libasound2-data (1.1.8-1) ...\n\u001b7\u001b[24;0f\u001b[42m\u001b[30mProgress: [ 67%]\u001b[49m\u001b[39m [######################################....................] \u001b8Setting up libatk-bridge2.0-0:amd64 (2.30.0-5) ...\nSetting up libfontenc1:amd64 (1:1.1.3-1+b2) ...\n\u001b7\u001b[24;0f\u001b[42m\u001b[30mProgress: [ 68%]\u001b[49m\u001b[39m [#######################################...................] \u001b8Setting up libepoxy0:amd64 (1.5.3-0.1) ...\nSetting up libnspr4:amd64 (2:4.20-1) ...\n\u001b7\u001b[24;0f\u001b[42m\u001b[30mProgress: [ 69%]\u001b[49m\u001b[39m [########################################..................] \u001b8Setting up libxcb-sync1:amd64 (1.13.1-2) ...\nSetting up dbus (1.12.20-0+deb10u1) ...\n\u001b7\u001b[24;0f\u001b[42m\u001b[30mProgress: [ 70%]\u001b[49m\u001b[39m [########################################..................] \u001b8invoke-rc.d: could not determine current runlevel\ninvoke-rc.d: policy-rc.d denied execution of start.\nSetting up libxv1:amd64 (2:1.0.11-1) ...\nSetting up libpcsclite1:amd64 (1.8.24-1) ...\n\u001b7\u001b[24;0f\u001b[42m\u001b[30mProgress: [ 71%]\u001b[49m\u001b[39m [#########################################.................] \u001b8Setting up libsensors5:amd64 (1:3.5.0-3) ...\n\u001b7\u001b[24;0f\u001b[42m\u001b[30mProgress: [ 72%]\u001b[49m\u001b[39m [#########################################.................] \u001b8Setting up libglapi-mesa:amd64 (18.3.6-2+deb10u1) ...\nSetting up libxcb-dri2-0:amd64 (1.13.1-2) ...\n\u001b7\u001b[24;0f\u001b[42m\u001b[30mProgress: [ 73%]\u001b[49m\u001b[39m [##########################################................] \u001b8Setting up libgif7:amd64 (5.1.4-3) ...\nSetting up fonts-dejavu-extra (2.37-1) ...\n\u001b7\u001b[24;0f\u001b[42m\u001b[30mProgress: [ 74%]\u001b[49m\u001b[39m [###########################################...............] \u001b8Setting up at-spi2-core (2.30.0-7) ...\nSetting up libxshmfence1:amd64 (1.3-1) ...\n\u001b7\u001b[24;0f\u001b[42m\u001b[30mProgress: [ 75%]\u001b[49m\u001b[39m [###########################################...............] \u001b8Setting up libasound2:amd64 (1.1.8-1) ...\nSetting up libpam-systemd:amd64 (241-7~deb10u8) ...\n\u001b7\u001b[24;0f\u001b[42m\u001b[30mProgress: [ 76%]\u001b[49m\u001b[39m [############################################..............] \u001b8debconf: unable to initialize frontend: Dialog\ndebconf: (No usable dialog-like program is installed, so the dialog based frontend cannot be used. at /usr/share/perl5/Debconf/FrontEnd/Dialog.pm line 78.)\ndebconf: falling back to frontend: Readline\nSetting up libllvm7:amd64 (1:7.0.1-8+deb10u2) ...\n\u001b7\u001b[24;0f\u001b[42m\u001b[30mProgress: [ 77%]\u001b[49m\u001b[39m [############################################..............] \u001b8Setting up libjson-glib-1.0-common (1.4.4-2) ...\nSetting up libwayland-egl1:amd64 (1.16.0-1) ...\n\u001b7\u001b[24;0f\u001b[42m\u001b[30mProgress: [ 78%]\u001b[49m\u001b[39m [#############################################.............] \u001b8Setting up glib-networking-common (2.58.0-2+deb10u2) ...\nSetting up libdrm-common (2.4.97-1) ...\n\u001b7\u001b[24;0f\u001b[42m\u001b[30mProgress: [ 79%]\u001b[49m\u001b[39m [#############################################.............] \u001b8Setting up libxmuu1:amd64 (2:1.1.2-2+b3) ...\nSetting up libxkbcommon0:amd64 (0.8.2-1) ...\n\u001b7\u001b[24;0f\u001b[42m\u001b[30mProgress: [ 80%]\u001b[49m\u001b[39m [##############################################............] \u001b8Setting up libwayland-client0:amd64 (1.16.0-1) ...\nSetting up glib-networking-services (2.58.0-2+deb10u2) ...\n\u001b7\u001b[24;0f\u001b[42m\u001b[30mProgress: [ 81%]\u001b[49m\u001b[39m [###############################################...........] \u001b8Setting up libnss3:amd64 (2:3.42.1-1+deb10u3) ...\nSetting up libjson-glib-1.0-0:amd64 (1.4.4-2) ...\n\u001b7\u001b[24;0f\u001b[42m\u001b[30mProgress: [ 82%]\u001b[49m\u001b[39m [###############################################...........] \u001b8Setting up dbus-user-session (1.12.20-0+deb10u1) ...\n\u001b7\u001b[24;0f\u001b[42m\u001b[30mProgress: [ 83%]\u001b[49m\u001b[39m [################################################..........] \u001b8Setting up libdrm2:amd64 (2.4.97-1) ...\nSetting up libwayland-cursor0:amd64 (1.16.0-1) ...\n\u001b7\u001b[24;0f\u001b[42m\u001b[30mProgress: [ 84%]\u001b[49m\u001b[39m [################################################..........] \u001b8Setting up libdrm-amdgpu1:amd64 (2.4.97-1) ...\nSetting up libdrm-nouveau2:amd64 (2.4.97-1) ...\n\u001b7\u001b[24;0f\u001b[42m\u001b[30mProgress: [ 85%]\u001b[49m\u001b[39m [#################################################.........] \u001b8Setting up libdrm-radeon1:amd64 (2.4.97-1) ...\nSetting up libdrm-intel1:amd64 (2.4.97-1) ...\n\u001b7\u001b[24;0f\u001b[42m\u001b[30mProgress: [ 86%]\u001b[49m\u001b[39m [#################################################.........] \u001b8Setting up libgl1-mesa-dri:amd64 (18.3.6-2+deb10u1) ...\nSetting up dconf-service (0.30.1-2) ...\n\u001b7\u001b[24;0f\u001b[42m\u001b[30mProgress: [ 87%]\u001b[49m\u001b[39m [##################################################........] \u001b8Setting up libglx-mesa0:amd64 (18.3.6-2+deb10u1) ...\n\u001b7\u001b[24;0f\u001b[42m\u001b[30mProgress: [ 88%]\u001b[49m\u001b[39m [###################################################.......] \u001b8Setting up libglx0:amd64 (1.1.0-1) ...\nSetting up dconf-gsettings-backend:amd64 (0.30.1-2) ...\n\u001b7\u001b[24;0f\u001b[42m\u001b[30mProgress: [ 89%]\u001b[49m\u001b[39m [###################################################.......] \u001b8Setting up libgl1:amd64 (1.1.0-1) ...\nSetting up x11-utils (7.7+4) ...\n\u001b7\u001b[24;0f\u001b[42m\u001b[30mProgress: [ 90%]\u001b[49m\u001b[39m [####################################################......] \u001b8Setting up libatk-wrapper-java (0.33.3-22+deb10u1) ...\nSetting up libgtk-3-common (3.24.5-1) ...\n\u001b7\u001b[24;0f\u001b[42m\u001b[30mProgress: [ 91%]\u001b[49m\u001b[39m [####################################################......] \u001b8Setting up gsettings-desktop-schemas (3.28.1-1) ...\nSetting up default-jre-headless (2:1.11-71) ...\nSetting up openjdk-11-jre-headless:amd64 (11.0.12+7-2~deb10u1) ...\n\u001b7\u001b[24;0f\u001b[42m\u001b[30mProgress: [ 92%]\u001b[49m\u001b[39m [#####################################################.....] \u001b8update-alternatives: using /usr/lib/jvm/java-11-openjdk-amd64/bin/java to provide /usr/bin/java (java) in auto mode\nupdate-alternatives: using /usr/lib/jvm/java-11-openjdk-amd64/bin/jjs to provide /usr/bin/jjs (jjs) in auto mode\nupdate-alternatives: using /usr/lib/jvm/java-11-openjdk-amd64/bin/keytool to provide /usr/bin/keytool (keytool) in auto mode\nupdate-alternatives: using /usr/lib/jvm/java-11-openjdk-amd64/bin/rmid to provide /usr/bin/rmid (rmid) in auto mode\nupdate-alternatives: using /usr/lib/jvm/java-11-openjdk-amd64/bin/rmiregistry to provide /usr/bin/rmiregistry (rmiregistry) in auto mode\nupdate-alternatives: using /usr/lib/jvm/java-11-openjdk-amd64/bin/pack200 to provide /usr/bin/pack200 (pack200) in auto mode\nupdate-alternatives: using /usr/lib/jvm/java-11-openjdk-amd64/bin/unpack200 to provide /usr/bin/unpack200 (unpack200) in auto mode\nupdate-alternatives: using /usr/lib/jvm/java-11-openjdk-amd64/lib/jexec to provide /usr/bin/jexec (jexec) in auto mode\nSetting up openjdk-11-jre:amd64 (11.0.12+7-2~deb10u1) ...\n\u001b7\u001b[24;0f\u001b[42m\u001b[30mProgress: [ 93%]\u001b[49m\u001b[39m [#####################################################.....] \u001b8Setting up default-jre (2:1.11-71) ...\nSetting up ca-certificates-java (20190405) ...\nhead: cannot open '/etc/ssl/certs/java/cacerts' for reading: No such file or directory\nAdding debian:ACCVRAIZ1.pem\nAdding debian:AC_RAIZ_FNMT-RCM.pem\nAdding debian:Actalis_Authentication_Root_CA.pem\nAdding debian:AffirmTrust_Commercial.pem\nAdding debian:AffirmTrust_Networking.pem\nAdding debian:AffirmTrust_Premium.pem\nAdding debian:AffirmTrust_Premium_ECC.pem\nAdding debian:Amazon_Root_CA_1.pem\nAdding debian:Amazon_Root_CA_2.pem\nAdding debian:Amazon_Root_CA_3.pem\nAdding debian:Amazon_Root_CA_4.pem\nAdding debian:Atos_TrustedRoot_2011.pem\nAdding debian:Autoridad_de_Certificacion_Firmaprofesional_CIF_A62634068.pem\nAdding debian:Baltimore_CyberTrust_Root.pem\nAdding debian:Buypass_Class_2_Root_CA.pem\nAdding debian:Buypass_Class_3_Root_CA.pem\nAdding debian:CA_Disig_Root_R2.pem\nAdding debian:CFCA_EV_ROOT.pem\nAdding debian:COMODO_Certification_Authority.pem\nAdding debian:COMODO_ECC_Certification_Authority.pem\nAdding debian:COMODO_RSA_Certification_Authority.pem\nAdding debian:Certigna.pem\nAdding debian:Certigna_Root_CA.pem\nAdding debian:Certum_Trusted_Network_CA.pem\nAdding debian:Certum_Trusted_Network_CA_2.pem\nAdding debian:Chambers_of_Commerce_Root_-_2008.pem\nAdding debian:Comodo_AAA_Services_root.pem\nAdding debian:Cybertrust_Global_Root.pem\nAdding debian:D-TRUST_Root_Class_3_CA_2_2009.pem\nAdding debian:D-TRUST_Root_Class_3_CA_2_EV_2009.pem\nAdding debian:DST_Root_CA_X3.pem\nAdding debian:DigiCert_Assured_ID_Root_CA.pem\nAdding debian:DigiCert_Assured_ID_Root_G2.pem\nAdding debian:DigiCert_Assured_ID_Root_G3.pem\nAdding debian:DigiCert_Global_Root_CA.pem\nAdding debian:DigiCert_Global_Root_G2.pem\nAdding debian:DigiCert_Global_Root_G3.pem\nAdding debian:DigiCert_High_Assurance_EV_Root_CA.pem\nAdding debian:DigiCert_Trusted_Root_G4.pem\nAdding debian:E-Tugra_Certification_Authority.pem\nAdding debian:EC-ACC.pem\nAdding debian:EE_Certification_Centre_Root_CA.pem\nAdding debian:Entrust.net_Premium_2048_Secure_Server_CA.pem\nAdding debian:Entrust_Root_Certification_Authority.pem\nAdding debian:GDCA_TrustAUTH_R5_ROOT.pem\nAdding debian:Entrust_Root_Certification_Authority_-_EC1.pem\nAdding debian:Entrust_Root_Certification_Authority_-_G2.pem\nAdding debian:Entrust_Root_Certification_Authority_-_G4.pem\nAdding debian:GTS_Root_R1.pem\nAdding debian:GTS_Root_R2.pem\nAdding debian:GTS_Root_R3.pem\nAdding debian:GTS_Root_R4.pem\nAdding debian:GeoTrust_Global_CA.pem\nAdding debian:GeoTrust_Primary_Certification_Authority.pem\nAdding debian:GeoTrust_Primary_Certification_Authority_-_G2.pem\nAdding debian:GeoTrust_Primary_Certification_Authority_-_G3.pem\nAdding debian:GeoTrust_Universal_CA.pem\nAdding debian:GeoTrust_Universal_CA_2.pem\nAdding debian:GlobalSign_ECC_Root_CA_-_R4.pem\nAdding debian:GlobalSign_ECC_Root_CA_-_R5.pem\nAdding debian:GlobalSign_Root_CA.pem\nAdding debian:GlobalSign_Root_CA_-_R2.pem\nAdding debian:GlobalSign_Root_CA_-_R3.pem\nAdding debian:GlobalSign_Root_CA_-_R6.pem\nAdding debian:Global_Chambersign_Root_-_2008.pem\nAdding debian:Go_Daddy_Class_2_CA.pem\nAdding debian:Go_Daddy_Root_Certificate_Authority_-_G2.pem\nAdding debian:Hellenic_Academic_and_Research_Institutions_ECC_RootCA_2015.pem\nAdding debian:Hellenic_Academic_and_Research_Institutions_RootCA_2011.pem\nAdding debian:Hellenic_Academic_and_Research_Institutions_RootCA_2015.pem\nAdding debian:Hongkong_Post_Root_CA_1.pem\nAdding debian:Hongkong_Post_Root_CA_3.pem\nAdding debian:ISRG_Root_X1.pem\nAdding debian:IdenTrust_Commercial_Root_CA_1.pem\nAdding debian:IdenTrust_Public_Sector_Root_CA_1.pem\nAdding debian:Izenpe.com.pem\nAdding debian:LuxTrust_Global_Root_2.pem\nAdding debian:Microsec_e-Szigno_Root_CA_2009.pem\nAdding debian:NetLock_Arany_=Class_Gold=_Főtanúsítvány.pem\nAdding debian:Network_Solutions_Certificate_Authority.pem\nAdding debian:OISTE_WISeKey_Global_Root_GA_CA.pem\nAdding debian:OISTE_WISeKey_Global_Root_GB_CA.pem\nAdding debian:OISTE_WISeKey_Global_Root_GC_CA.pem\nAdding debian:QuoVadis_Root_CA.pem\nAdding debian:QuoVadis_Root_CA_1_G3.pem\nAdding debian:QuoVadis_Root_CA_2.pem\nAdding debian:QuoVadis_Root_CA_2_G3.pem\nAdding debian:QuoVadis_Root_CA_3.pem\nAdding debian:QuoVadis_Root_CA_3_G3.pem\nAdding debian:SSL.com_EV_Root_Certification_Authority_ECC.pem\nAdding debian:SSL.com_EV_Root_Certification_Authority_RSA_R2.pem\nAdding debian:SSL.com_Root_Certification_Authority_ECC.pem\nAdding debian:SSL.com_Root_Certification_Authority_RSA.pem\nAdding debian:SZAFIR_ROOT_CA2.pem\nAdding debian:SecureSign_RootCA11.pem\nAdding debian:SecureTrust_CA.pem\nAdding debian:Secure_Global_CA.pem\nAdding debian:Security_Communication_RootCA2.pem\nAdding debian:Security_Communication_Root_CA.pem\nAdding debian:Sonera_Class_2_Root_CA.pem\nAdding debian:Staat_der_Nederlanden_EV_Root_CA.pem\nAdding debian:Staat_der_Nederlanden_Root_CA_-_G2.pem\nAdding debian:Staat_der_Nederlanden_Root_CA_-_G3.pem\nAdding debian:Starfield_Class_2_CA.pem\nAdding debian:Starfield_Root_Certificate_Authority_-_G2.pem\nAdding debian:Starfield_Services_Root_Certificate_Authority_-_G2.pem\nAdding debian:SwissSign_Gold_CA_-_G2.pem\nAdding debian:SwissSign_Silver_CA_-_G2.pem\nAdding debian:T-TeleSec_GlobalRoot_Class_2.pem\nAdding debian:T-TeleSec_GlobalRoot_Class_3.pem\nAdding debian:TUBITAK_Kamu_SM_SSL_Kok_Sertifikasi_-_Surum_1.pem\nAdding debian:TWCA_Global_Root_CA.pem\nAdding debian:TWCA_Root_Certification_Authority.pem\nAdding debian:Taiwan_GRCA.pem\nAdding debian:TeliaSonera_Root_CA_v1.pem\nAdding debian:TrustCor_ECA-1.pem\nAdding debian:TrustCor_RootCert_CA-1.pem\nAdding debian:TrustCor_RootCert_CA-2.pem\nAdding debian:Trustis_FPS_Root_CA.pem\nAdding debian:UCA_Extended_Validation_Root.pem\nAdding debian:UCA_Global_G2_Root.pem\nAdding debian:USERTrust_ECC_Certification_Authority.pem\nAdding debian:USERTrust_RSA_Certification_Authority.pem\nAdding debian:VeriSign_Class_3_Public_Primary_Certification_Authority_-_G4.pem\nAdding debian:VeriSign_Class_3_Public_Primary_Certification_Authority_-_G5.pem\nAdding debian:VeriSign_Universal_Root_Certification_Authority.pem\nAdding debian:Verisign_Class_3_Public_Primary_Certification_Authority_-_G3.pem\nAdding debian:XRamp_Global_CA_Root.pem\nAdding debian:certSIGN_ROOT_CA.pem\nAdding debian:ePKI_Root_Certification_Authority.pem\nAdding debian:emSign_ECC_Root_CA_-_C3.pem\nAdding debian:emSign_ECC_Root_CA_-_G3.pem\nAdding debian:emSign_Root_CA_-_C1.pem\nAdding debian:emSign_Root_CA_-_G1.pem\nAdding debian:thawte_Primary_Root_CA.pem\nAdding debian:thawte_Primary_Root_CA_-_G2.pem\nAdding debian:thawte_Primary_Root_CA_-_G3.pem\ndone.\nProcessing triggers for fontconfig (2.13.1-2) ...\nProcessing triggers for mime-support (3.62) ...\nProcessing triggers for hicolor-icon-theme (0.17-2) ...\nProcessing triggers for libglib2.0-0:amd64 (2.58.3-2+deb10u3) ...\n\u001b7\u001b[24;0f\u001b[42m\u001b[30mProgress: [ 94%]\u001b[49m\u001b[39m [######################################################....] \u001b8\u001b7\u001b[24;0f\u001b[42m\u001b[30mProgress: [ 95%]\u001b[49m\u001b[39m [#######################################################...] \u001b8Processing triggers for libc-bin (2.28-10) ...\nProcessing triggers for systemd (241-7~deb10u8) ...\nProcessing triggers for ca-certificates (20200601~deb10u2) ...\nUpdating certificates in /etc/ssl/certs...\n0 added, 0 removed; done.\nRunning hooks in /etc/ca-certificates/update.d...\n\ndone.\ndone.\nSetting up glib-networking:amd64 (2.58.0-2+deb10u2) ...\n\u001b7\u001b[24;0f\u001b[42m\u001b[30mProgress: [ 96%]\u001b[49m\u001b[39m [#######################################################...] \u001b8Setting up libsoup2.4-1:amd64 (2.64.2-2) ...\nSetting up libsoup-gnome2.4-1:amd64 (2.64.2-2) ...\n\u001b7\u001b[24;0f\u001b[42m\u001b[30mProgress: [ 97%]\u001b[49m\u001b[39m [########################################################..] \u001b8Setting up librest-0.7-0:amd64 (0.8.1-1) ...\n\u001b7\u001b[24;0f\u001b[42m\u001b[30mProgress: [ 98%]\u001b[49m\u001b[39m [########################################################..] \u001b8Setting up libgtk-3-0:amd64 (3.24.5-1) ...\nSetting up libgtk-3-bin (3.24.5-1) ...\n\u001b7\u001b[24;0f\u001b[42m\u001b[30mProgress: [ 99%]\u001b[49m\u001b[39m [#########################################################.] \u001b8Setting up libatk-wrapper-java-jni:amd64 (0.33.3-22+deb10u1) ...\nProcessing triggers for libc-bin (2.28-10) ...\n\n\u001b7\u001b[0;24r\u001b8\u001b[1A\u001b[J",
     "output_type": "stream"
    }
   ],
   "execution_count": 2
  },
  {
   "cell_type": "code",
   "metadata": {
    "cell_id": "00041-1a03cd9a-bede-443e-867e-f97c37908f47",
    "deepnote_to_be_reexecuted": false,
    "execution_millis": 39950,
    "execution_start": 1637526946736,
    "id": "DKrwTdECHurK",
    "source_hash": "ed886aba",
    "output_cleared": true,
    "deepnote_cell_type": "code"
   },
   "source": "import sklearn2pmml\n\npmml_file_name = \"order-approval-sklearn.pmml\"\n\nfrom sklearn2pmml import make_pmml_pipeline, sklearn2pmml\n\npipeline = make_pmml_pipeline(\n    model,\n    active_fields= [\"category\", \"urgency\", \"targetPrice\", \"price\"],\n    target_fields= [\"approved\"]\n)\nsklearn2pmml(pipeline, pmml_file_name)",
   "outputs": [
    {
     "name": "stdout",
     "text": "Collecting sklearn2pmml\n  Downloading sklearn2pmml-0.76.1.tar.gz (6.0 MB)\nRequirement already satisfied: joblib>=0.13.0 in /shared-libs/python3.7/py/lib/python3.7/site-packages (from sklearn2pmml->-r ./requirements.txt (line 1)) (1.1.0)\nRequirement already satisfied: scikit-learn>=0.18.0 in /shared-libs/python3.7/py/lib/python3.7/site-packages (from sklearn2pmml->-r ./requirements.txt (line 1)) (1.0.1)\nCollecting sklearn-pandas>=0.0.10\n  Downloading sklearn_pandas-2.2.0-py2.py3-none-any.whl (10 kB)\nRequirement already satisfied: threadpoolctl>=2.0.0 in /shared-libs/python3.7/py/lib/python3.7/site-packages (from scikit-learn>=0.18.0->sklearn2pmml->-r ./requirements.txt (line 1)) (3.0.0)\nRequirement already satisfied: numpy>=1.14.6 in /shared-libs/python3.7/py/lib/python3.7/site-packages (from scikit-learn>=0.18.0->sklearn2pmml->-r ./requirements.txt (line 1)) (1.19.5)\nRequirement already satisfied: scipy>=1.1.0 in /shared-libs/python3.7/py/lib/python3.7/site-packages (from scikit-learn>=0.18.0->sklearn2pmml->-r ./requirements.txt (line 1)) (1.7.2)\nRequirement already satisfied: pandas>=1.1.4 in /shared-libs/python3.7/py/lib/python3.7/site-packages (from sklearn-pandas>=0.0.10->sklearn2pmml->-r ./requirements.txt (line 1)) (1.2.5)\nRequirement already satisfied: pytz>=2017.3 in /shared-libs/python3.7/py/lib/python3.7/site-packages (from pandas>=1.1.4->sklearn-pandas>=0.0.10->sklearn2pmml->-r ./requirements.txt (line 1)) (2021.3)\nRequirement already satisfied: python-dateutil>=2.7.3 in /shared-libs/python3.7/py-core/lib/python3.7/site-packages (from pandas>=1.1.4->sklearn-pandas>=0.0.10->sklearn2pmml->-r ./requirements.txt (line 1)) (2.8.2)\nRequirement already satisfied: six>=1.5 in /shared-libs/python3.7/py-core/lib/python3.7/site-packages (from python-dateutil>=2.7.3->pandas>=1.1.4->sklearn-pandas>=0.0.10->sklearn2pmml->-r ./requirements.txt (line 1)) (1.16.0)\nBuilding wheels for collected packages: sklearn2pmml\n  Building wheel for sklearn2pmml (setup.py): started\n  Building wheel for sklearn2pmml (setup.py): finished with status 'done'\n  Created wheel for sklearn2pmml: filename=sklearn2pmml-0.76.1-py3-none-any.whl size=5985303 sha256=63c3b4bb3b5e34562afbbfb986867a2924d1ff5e3145187c5c0db92e6b4cd6f7\n  Stored in directory: /root/.cache/pip/wheels/56/e3/4a/84bc2cf69826abbd14368ed4d287d71891614891bb87fde2d4\nSuccessfully built sklearn2pmml\nInstalling collected packages: sklearn-pandas, sklearn2pmml\nSuccessfully installed sklearn-pandas-2.2.0 sklearn2pmml-0.76.1\nWARNING: You are using pip version 20.1.1; however, version 21.3.1 is available.\nYou should consider upgrading via the '/root/venv/bin/python -m pip install --upgrade pip' command.\n2 packages can be upgraded. Run 'apt list --upgradable' to see them.\nThe following additional packages will be installed:\n  at-spi2-core ca-certificates-java dbus dbus-user-session\n  dconf-gsettings-backend dconf-service default-jre-headless dmsetup\n  fonts-dejavu-extra glib-networking glib-networking-common\n  glib-networking-services gsettings-desktop-schemas java-common libapparmor1\n  libargon2-1 libasound2 libasound2-data libatk-bridge2.0-0\n  libatk-wrapper-java libatk-wrapper-java-jni libatspi2.0-0 libcap2 libcolord2\n  libcryptsetup12 libdconf1 libdevmapper1.02.1 libdrm-amdgpu1 libdrm-common\n  libdrm-intel1 libdrm-nouveau2 libdrm-radeon1 libdrm2 libepoxy0 libfontenc1\n  libgif7 libgl1 libgl1-mesa-dri libglapi-mesa libglvnd0 libglx-mesa0 libglx0\n  libgtk-3-0 libgtk-3-bin libgtk-3-common libidn11 libip4tc0 libjson-c3\n  libjson-glib-1.0-0 libjson-glib-1.0-common libkmod2 liblcms2-2 libllvm7\n  libnspr4 libnss-systemd libnss3 libpam-systemd libpciaccess0 libpcsclite1\n  libproxy1v5 librest-0.7-0 libsensors-config libsensors5 libsoup-gnome2.4-1\n  libsoup2.4-1 libwayland-client0 libwayland-cursor0 libwayland-egl1\n  libx11-xcb1 libxcb-dri2-0 libxcb-dri3-0 libxcb-glx0 libxcb-present0\n  libxcb-shape0 libxcb-sync1 libxkbcommon0 libxmuu1 libxshmfence1 libxtst6\n  libxv1 libxxf86dga1 libxxf86vm1 openjdk-11-jre openjdk-11-jre-headless\n  systemd systemd-sysv x11-utils xkb-data\nSuggested packages:\n  libasound2-plugins alsa-utils colord gvfs liblcms2-utils pciutils pcscd\n  lm-sensors libnss-mdns fonts-ipafont-gothic fonts-ipafont-mincho\n  fonts-wqy-microhei | fonts-wqy-zenhei fonts-indic systemd-container\n  policykit-1 mesa-utils\nThe following NEW packages will be installed:\n  at-spi2-core ca-certificates-java dbus dbus-user-session\n  dconf-gsettings-backend dconf-service default-jre default-jre-headless\n  dmsetup fonts-dejavu-extra glib-networking glib-networking-common\n  glib-networking-services gsettings-desktop-schemas java-common libapparmor1\n  libargon2-1 libasound2 libasound2-data libatk-bridge2.0-0\n  libatk-wrapper-java libatk-wrapper-java-jni libatspi2.0-0 libcap2 libcolord2\n  libcryptsetup12 libdconf1 libdevmapper1.02.1 libdrm-amdgpu1 libdrm-common\n  libdrm-intel1 libdrm-nouveau2 libdrm-radeon1 libdrm2 libepoxy0 libfontenc1\n  libgif7 libgl1 libgl1-mesa-dri libglapi-mesa libglvnd0 libglx-mesa0 libglx0\n  libgtk-3-0 libgtk-3-bin libgtk-3-common libidn11 libip4tc0 libjson-c3\n  libjson-glib-1.0-0 libjson-glib-1.0-common libkmod2 liblcms2-2 libllvm7\n  libnspr4 libnss-systemd libnss3 libpam-systemd libpciaccess0 libpcsclite1\n  libproxy1v5 librest-0.7-0 libsensors-config libsensors5 libsoup-gnome2.4-1\n  libsoup2.4-1 libwayland-client0 libwayland-cursor0 libwayland-egl1\n  libx11-xcb1 libxcb-dri2-0 libxcb-dri3-0 libxcb-glx0 libxcb-present0\n  libxcb-shape0 libxcb-sync1 libxkbcommon0 libxmuu1 libxshmfence1 libxtst6\n  libxv1 libxxf86dga1 libxxf86vm1 openjdk-11-jre openjdk-11-jre-headless\n  systemd systemd-sysv x11-utils xkb-data\n0 upgraded, 89 newly installed, 0 to remove and 2 not upgraded.\nNeed to get 77.2 MB of archives.\nAfter this operation, 470 MB of additional disk space will be used.\ndebconf: delaying package configuration, since apt-utils is not installed\n\n\u001b7\u001b[0;23r\u001b8\u001b[1ASelecting previously unselected package libapparmor1:amd64.\n(Reading database ... 31086 files and directories currently installed.)\nPreparing to unpack .../00-libapparmor1_2.13.2-10_amd64.deb ...\n\u001b7\u001b[24;0f\u001b[42m\u001b[30mProgress: [  0%]\u001b[49m\u001b[39m [..........................................................] \u001b8Unpacking libapparmor1:amd64 (2.13.2-10) ...\nSelecting previously unselected package libcap2:amd64.\nPreparing to unpack .../01-libcap2_1%3a2.25-2_amd64.deb ...\nUnpacking libcap2:amd64 (1:2.25-2) ...\n\u001b7\u001b[24;0f\u001b[42m\u001b[30mProgress: [  1%]\u001b[49m\u001b[39m [..........................................................] \u001b8Selecting previously unselected package libargon2-1:amd64.\nPreparing to unpack .../02-libargon2-1_0~20171227-0.2_amd64.deb ...\nUnpacking libargon2-1:amd64 (0~20171227-0.2) ...\nSelecting previously unselected package dmsetup.\nPreparing to unpack .../03-dmsetup_2%3a1.02.155-3_amd64.deb ...\nUnpacking dmsetup (2:1.02.155-3) ...\n\u001b7\u001b[24;0f\u001b[42m\u001b[30mProgress: [  2%]\u001b[49m\u001b[39m [#.........................................................] \u001b8Selecting previously unselected package libdevmapper1.02.1:amd64.\nPreparing to unpack .../04-libdevmapper1.02.1_2%3a1.02.155-3_amd64.deb ...\nUnpacking libdevmapper1.02.1:amd64 (2:1.02.155-3) ...\nSelecting previously unselected package libjson-c3:amd64.\nPreparing to unpack .../05-libjson-c3_0.12.1+ds-2+deb10u1_amd64.deb ...\n\u001b7\u001b[24;0f\u001b[42m\u001b[30mProgress: [  3%]\u001b[49m\u001b[39m [#.........................................................] \u001b8Unpacking libjson-c3:amd64 (0.12.1+ds-2+deb10u1) ...\nSelecting previously unselected package libcryptsetup12:amd64.\nPreparing to unpack .../06-libcryptsetup12_2%3a2.1.0-5+deb10u2_amd64.deb ...\nUnpacking libcryptsetup12:amd64 (2:2.1.0-5+deb10u2) ...\nSelecting previously unselected package libidn11:amd64.\nPreparing to unpack .../07-libidn11_1.33-2.2_amd64.deb ...\nUnpacking libidn11:amd64 (1.33-2.2) ...\n\u001b7\u001b[24;0f\u001b[42m\u001b[30mProgress: [  4%]\u001b[49m\u001b[39m [##........................................................] \u001b8Selecting previously unselected package libip4tc0:amd64.\nPreparing to unpack .../08-libip4tc0_1.8.2-4_amd64.deb ...\nUnpacking libip4tc0:amd64 (1.8.2-4) ...\n\u001b7\u001b[24;0f\u001b[42m\u001b[30mProgress: [  5%]\u001b[49m\u001b[39m [##........................................................] \u001b8Selecting previously unselected package libkmod2:amd64.\nPreparing to unpack .../09-libkmod2_26-1_amd64.deb ...\nUnpacking libkmod2:amd64 (26-1) ...\nSelecting previously unselected package systemd.\nPreparing to unpack .../10-systemd_241-7~deb10u8_amd64.deb ...\nUnpacking systemd (241-7~deb10u8) ...\n\u001b7\u001b[24;0f\u001b[42m\u001b[30mProgress: [  6%]\u001b[49m\u001b[39m [###.......................................................] \u001b8Setting up libapparmor1:amd64 (2.13.2-10) ...\nSetting up libcap2:amd64 (1:2.25-2) ...\n\u001b7\u001b[24;0f\u001b[42m\u001b[30mProgress: [  7%]\u001b[49m\u001b[39m [####......................................................] \u001b8Setting up libargon2-1:amd64 (0~20171227-0.2) ...\nSetting up libjson-c3:amd64 (0.12.1+ds-2+deb10u1) ...\n\u001b7\u001b[24;0f\u001b[42m\u001b[30mProgress: [  8%]\u001b[49m\u001b[39m [####......................................................] \u001b8Setting up libidn11:amd64 (1.33-2.2) ...\nSetting up libip4tc0:amd64 (1.8.2-4) ...\n\u001b7\u001b[24;0f\u001b[42m\u001b[30mProgress: [  9%]\u001b[49m\u001b[39m [#####.....................................................] \u001b8Setting up libkmod2:amd64 (26-1) ...\n\u001b7\u001b[24;0f\u001b[42m\u001b[30mProgress: [ 10%]\u001b[49m\u001b[39m [#####.....................................................] \u001b8Setting up libdevmapper1.02.1:amd64 (2:1.02.155-3) ...\nSetting up libcryptsetup12:amd64 (2:2.1.0-5+deb10u2) ...\n\u001b7\u001b[24;0f\u001b[42m\u001b[30mProgress: [ 11%]\u001b[49m\u001b[39m [######....................................................] \u001b8Setting up systemd (241-7~deb10u8) ...\nCreated symlink /etc/systemd/system/getty.target.wants/getty@tty1.service → /lib/systemd/system/getty@.service.\nCreated symlink /etc/systemd/system/multi-user.target.wants/remote-fs.target → /lib/systemd/system/remote-fs.target.\nCreated symlink /etc/systemd/system/dbus-org.freedesktop.timesync1.service → /lib/systemd/system/systemd-timesyncd.service.\nCreated symlink /etc/systemd/system/sysinit.target.wants/systemd-timesyncd.service → /lib/systemd/system/systemd-timesyncd.service.\nSetting up dmsetup (2:1.02.155-3) ...\n\u001b7\u001b[24;0f\u001b[42m\u001b[30mProgress: [ 12%]\u001b[49m\u001b[39m [######....................................................] \u001b8Selecting previously unselected package systemd-sysv.\n(Reading database ... 31921 files and directories currently installed.)\nPreparing to unpack .../00-systemd-sysv_241-7~deb10u8_amd64.deb ...\nUnpacking systemd-sysv (241-7~deb10u8) ...\nSelecting previously unselected package dbus.\nPreparing to unpack .../01-dbus_1.12.20-0+deb10u1_amd64.deb ...\n\u001b7\u001b[24;0f\u001b[42m\u001b[30mProgress: [ 13%]\u001b[49m\u001b[39m [#######...................................................] \u001b8Unpacking dbus (1.12.20-0+deb10u1) ...\nSelecting previously unselected package libnss-systemd:amd64.\nPreparing to unpack .../02-libnss-systemd_241-7~deb10u8_amd64.deb ...\nUnpacking libnss-systemd:amd64 (241-7~deb10u8) ...\nSelecting previously unselected package libpam-systemd:amd64.\nPreparing to unpack .../03-libpam-systemd_241-7~deb10u8_amd64.deb ...\n\u001b7\u001b[24;0f\u001b[42m\u001b[30mProgress: [ 14%]\u001b[49m\u001b[39m [########..................................................] \u001b8Unpacking libpam-systemd:amd64 (241-7~deb10u8) ...\nSelecting previously unselected package libatspi2.0-0:amd64.\nPreparing to unpack .../04-libatspi2.0-0_2.30.0-7_amd64.deb ...\nUnpacking libatspi2.0-0:amd64 (2.30.0-7) ...\n\u001b7\u001b[24;0f\u001b[42m\u001b[30mProgress: [ 15%]\u001b[49m\u001b[39m [########..................................................] \u001b8Selecting previously unselected package libxtst6:amd64.\nPreparing to unpack .../05-libxtst6_2%3a1.2.3-1_amd64.deb ...\nUnpacking libxtst6:amd64 (2:1.2.3-1) ...\nSelecting previously unselected package at-spi2-core.\nPreparing to unpack .../06-at-spi2-core_2.30.0-7_amd64.deb ...\nUnpacking at-spi2-core (2.30.0-7) ...\n\u001b7\u001b[24;0f\u001b[42m\u001b[30mProgress: [ 16%]\u001b[49m\u001b[39m [#########.................................................] \u001b8Selecting previously unselected package java-common.\nPreparing to unpack .../07-java-common_0.71_all.deb ...\nUnpacking java-common (0.71) ...\nSelecting previously unselected package liblcms2-2:amd64.\nPreparing to unpack .../08-liblcms2-2_2.9-3_amd64.deb ...\nUnpacking liblcms2-2:amd64 (2.9-3) ...\n\u001b7\u001b[24;0f\u001b[42m\u001b[30mProgress: [ 17%]\u001b[49m\u001b[39m [##########................................................] \u001b8Selecting previously unselected package libnspr4:amd64.\nPreparing to unpack .../09-libnspr4_2%3a4.20-1_amd64.deb ...\nUnpacking libnspr4:amd64 (2:4.20-1) ...\nSelecting previously unselected package libnss3:amd64.\nPreparing to unpack .../10-libnss3_2%3a3.42.1-1+deb10u3_amd64.deb ...\n\u001b7\u001b[24;0f\u001b[42m\u001b[30mProgress: [ 18%]\u001b[49m\u001b[39m [##########................................................] \u001b8Unpacking libnss3:amd64 (2:3.42.1-1+deb10u3) ...\nSelecting previously unselected package libasound2-data.\nPreparing to unpack .../11-libasound2-data_1.1.8-1_all.deb ...\nUnpacking libasound2-data (1.1.8-1) ...\nSelecting previously unselected package libasound2:amd64.\nPreparing to unpack .../12-libasound2_1.1.8-1_amd64.deb ...\n\u001b7\u001b[24;0f\u001b[42m\u001b[30mProgress: [ 19%]\u001b[49m\u001b[39m [###########...............................................] \u001b8Unpacking libasound2:amd64 (1.1.8-1) ...\nSelecting previously unselected package libpcsclite1:amd64.\nPreparing to unpack .../13-libpcsclite1_1.8.24-1_amd64.deb ...\nUnpacking libpcsclite1:amd64 (1.8.24-1) ...\n\u001b7\u001b[24;0f\u001b[42m\u001b[30mProgress: [ 20%]\u001b[49m\u001b[39m [###########...............................................] \u001b8Selecting previously unselected package openjdk-11-jre-headless:amd64.\nPreparing to unpack .../14-openjdk-11-jre-headless_11.0.12+7-2~deb10u1_amd64.deb ...\nUnpacking openjdk-11-jre-headless:amd64 (11.0.12+7-2~deb10u1) ...\nSelecting previously unselected package default-jre-headless.\nPreparing to unpack .../15-default-jre-headless_2%3a1.11-71_amd64.deb ...\nUnpacking default-jre-headless (2:1.11-71) ...\n\u001b7\u001b[24;0f\u001b[42m\u001b[30mProgress: [ 21%]\u001b[49m\u001b[39m [############..............................................] \u001b8Selecting previously unselected package ca-certificates-java.\nPreparing to unpack .../16-ca-certificates-java_20190405_all.deb ...\nUnpacking ca-certificates-java (20190405) ...\nSelecting previously unselected package dbus-user-session.\nPreparing to unpack .../17-dbus-user-session_1.12.20-0+deb10u1_amd64.deb ...\n\u001b7\u001b[24;0f\u001b[42m\u001b[30mProgress: [ 22%]\u001b[49m\u001b[39m [############..............................................] \u001b8Unpacking dbus-user-session (1.12.20-0+deb10u1) ...\nSelecting previously unselected package libdconf1:amd64.\nPreparing to unpack .../18-libdconf1_0.30.1-2_amd64.deb ...\nUnpacking libdconf1:amd64 (0.30.1-2) ...\nSelecting previously unselected package dconf-service.\nPreparing to unpack .../19-dconf-service_0.30.1-2_amd64.deb ...\n\u001b7\u001b[24;0f\u001b[42m\u001b[30mProgress: [ 23%]\u001b[49m\u001b[39m [#############.............................................] \u001b8Unpacking dconf-service (0.30.1-2) ...\nSelecting previously unselected package dconf-gsettings-backend:amd64.\nPreparing to unpack .../20-dconf-gsettings-backend_0.30.1-2_amd64.deb ...\nUnpacking dconf-gsettings-backend:amd64 (0.30.1-2) ...\nSelecting previously unselected package libglvnd0:amd64.\nPreparing to unpack .../21-libglvnd0_1.1.0-1_amd64.deb ...\n\u001b7\u001b[24;0f\u001b[42m\u001b[30mProgress: [ 24%]\u001b[49m\u001b[39m [#############.............................................] \u001b8Unpacking libglvnd0:amd64 (1.1.0-1) ...\nSelecting previously unselected package libdrm-common.\nPreparing to unpack .../22-libdrm-common_2.4.97-1_all.deb ...\nUnpacking libdrm-common (2.4.97-1) ...\nSelecting previously unselected package libdrm2:amd64.\nPreparing to unpack .../23-libdrm2_2.4.97-1_amd64.deb ...\n\u001b7\u001b[24;0f\u001b[42m\u001b[30mProgress: [ 25%]\u001b[49m\u001b[39m [##############............................................] \u001b8Unpacking libdrm2:amd64 (2.4.97-1) ...\nSelecting previously unselected package libglapi-mesa:amd64.\nPreparing to unpack .../24-libglapi-mesa_18.3.6-2+deb10u1_amd64.deb ...\nUnpacking libglapi-mesa:amd64 (18.3.6-2+deb10u1) ...\n\u001b7\u001b[24;0f\u001b[42m\u001b[30mProgress: [ 26%]\u001b[49m\u001b[39m [###############...........................................] \u001b8Selecting previously unselected package libx11-xcb1:amd64.\nPreparing to unpack .../25-libx11-xcb1_2%3a1.6.7-1+deb10u2_amd64.deb ...\nUnpacking libx11-xcb1:amd64 (2:1.6.7-1+deb10u2) ...\nSelecting previously unselected package libxcb-dri2-0:amd64.\nPreparing to unpack .../26-libxcb-dri2-0_1.13.1-2_amd64.deb ...\nUnpacking libxcb-dri2-0:amd64 (1.13.1-2) ...\n\u001b7\u001b[24;0f\u001b[42m\u001b[30mProgress: [ 27%]\u001b[49m\u001b[39m [###############...........................................] \u001b8Selecting previously unselected package libxcb-dri3-0:amd64.\nPreparing to unpack .../27-libxcb-dri3-0_1.13.1-2_amd64.deb ...\nUnpacking libxcb-dri3-0:amd64 (1.13.1-2) ...\nSelecting previously unselected package libxcb-glx0:amd64.\nPreparing to unpack .../28-libxcb-glx0_1.13.1-2_amd64.deb ...\nUnpacking libxcb-glx0:amd64 (1.13.1-2) ...\n\u001b7\u001b[24;0f\u001b[42m\u001b[30mProgress: [ 28%]\u001b[49m\u001b[39m [################..........................................] \u001b8Selecting previously unselected package libxcb-present0:amd64.\nPreparing to unpack .../29-libxcb-present0_1.13.1-2_amd64.deb ...\nUnpacking libxcb-present0:amd64 (1.13.1-2) ...\nSelecting previously unselected package libxcb-sync1:amd64.\nPreparing to unpack .../30-libxcb-sync1_1.13.1-2_amd64.deb ...\n\u001b7\u001b[24;0f\u001b[42m\u001b[30mProgress: [ 29%]\u001b[49m\u001b[39m [################..........................................] \u001b8Unpacking libxcb-sync1:amd64 (1.13.1-2) ...\nSelecting previously unselected package libxshmfence1:amd64.\nPreparing to unpack .../31-libxshmfence1_1.3-1_amd64.deb ...\nUnpacking libxshmfence1:amd64 (1.3-1) ...\nSelecting previously unselected package libxxf86vm1:amd64.\nPreparing to unpack .../32-libxxf86vm1_1%3a1.1.4-1+b2_amd64.deb ...\n\u001b7\u001b[24;0f\u001b[42m\u001b[30mProgress: [ 30%]\u001b[49m\u001b[39m [#################.........................................] \u001b8Unpacking libxxf86vm1:amd64 (1:1.1.4-1+b2) ...\nSelecting previously unselected package libdrm-amdgpu1:amd64.\nPreparing to unpack .../33-libdrm-amdgpu1_2.4.97-1_amd64.deb ...\nUnpacking libdrm-amdgpu1:amd64 (2.4.97-1) ...\n\u001b7\u001b[24;0f\u001b[42m\u001b[30mProgress: [ 31%]\u001b[49m\u001b[39m [#################.........................................] \u001b8Selecting previously unselected package libpciaccess0:amd64.\nPreparing to unpack .../34-libpciaccess0_0.14-1_amd64.deb ...\nUnpacking libpciaccess0:amd64 (0.14-1) ...\nSelecting previously unselected package libdrm-intel1:amd64.\nPreparing to unpack .../35-libdrm-intel1_2.4.97-1_amd64.deb ...\nUnpacking libdrm-intel1:amd64 (2.4.97-1) ...\n\u001b7\u001b[24;0f\u001b[42m\u001b[30mProgress: [ 32%]\u001b[49m\u001b[39m [##################........................................] \u001b8Selecting previously unselected package libdrm-nouveau2:amd64.\nPreparing to unpack .../36-libdrm-nouveau2_2.4.97-1_amd64.deb ...\nUnpacking libdrm-nouveau2:amd64 (2.4.97-1) ...\nSelecting previously unselected package libdrm-radeon1:amd64.\nPreparing to unpack .../37-libdrm-radeon1_2.4.97-1_amd64.deb ...\nUnpacking libdrm-radeon1:amd64 (2.4.97-1) ...\n\u001b7\u001b[24;0f\u001b[42m\u001b[30mProgress: [ 33%]\u001b[49m\u001b[39m [###################.......................................] \u001b8Selecting previously unselected package libllvm7:amd64.\nPreparing to unpack .../38-libllvm7_1%3a7.0.1-8+deb10u2_amd64.deb ...\nUnpacking libllvm7:amd64 (1:7.0.1-8+deb10u2) ...\nSelecting previously unselected package libsensors-config.\nPreparing to unpack .../39-libsensors-config_1%3a3.5.0-3_all.deb ...\n\u001b7\u001b[24;0f\u001b[42m\u001b[30mProgress: [ 34%]\u001b[49m\u001b[39m [###################.......................................] \u001b8Unpacking libsensors-config (1:3.5.0-3) ...\nSelecting previously unselected package libsensors5:amd64.\nPreparing to unpack .../40-libsensors5_1%3a3.5.0-3_amd64.deb ...\nUnpacking libsensors5:amd64 (1:3.5.0-3) ...\nSelecting previously unselected package libgl1-mesa-dri:amd64.\nPreparing to unpack .../41-libgl1-mesa-dri_18.3.6-2+deb10u1_amd64.deb ...\n\u001b7\u001b[24;0f\u001b[42m\u001b[30mProgress: [ 35%]\u001b[49m\u001b[39m [####################......................................] \u001b8Unpacking libgl1-mesa-dri:amd64 (18.3.6-2+deb10u1) ...\nSelecting previously unselected package libglx-mesa0:amd64.\nPreparing to unpack .../42-libglx-mesa0_18.3.6-2+deb10u1_amd64.deb ...\nUnpacking libglx-mesa0:amd64 (18.3.6-2+deb10u1) ...\n\u001b7\u001b[24;0f\u001b[42m\u001b[30mProgress: [ 36%]\u001b[49m\u001b[39m [####################......................................] \u001b8Selecting previously unselected package libglx0:amd64.\nPreparing to unpack .../43-libglx0_1.1.0-1_amd64.deb ...\nUnpacking libglx0:amd64 (1.1.0-1) ...\nSelecting previously unselected package libgl1:amd64.\nPreparing to unpack .../44-libgl1_1.1.0-1_amd64.deb ...\nUnpacking libgl1:amd64 (1.1.0-1) ...\n\u001b7\u001b[24;0f\u001b[42m\u001b[30mProgress: [ 37%]\u001b[49m\u001b[39m [#####################.....................................] \u001b8Selecting previously unselected package libgif7:amd64.\nPreparing to unpack .../45-libgif7_5.1.4-3_amd64.deb ...\nUnpacking libgif7:amd64 (5.1.4-3) ...\nSelecting previously unselected package openjdk-11-jre:amd64.\nPreparing to unpack .../46-openjdk-11-jre_11.0.12+7-2~deb10u1_amd64.deb ...\nUnpacking openjdk-11-jre:amd64 (11.0.12+7-2~deb10u1) ...\n\u001b7\u001b[24;0f\u001b[42m\u001b[30mProgress: [ 38%]\u001b[49m\u001b[39m [######################....................................] \u001b8Selecting previously unselected package default-jre.\nPreparing to unpack .../47-default-jre_2%3a1.11-71_amd64.deb ...\nUnpacking default-jre (2:1.11-71) ...\nSelecting previously unselected package fonts-dejavu-extra.\nPreparing to unpack .../48-fonts-dejavu-extra_2.37-1_all.deb ...\n\u001b7\u001b[24;0f\u001b[42m\u001b[30mProgress: [ 39%]\u001b[49m\u001b[39m [######################....................................] \u001b8Unpacking fonts-dejavu-extra (2.37-1) ...\nSelecting previously unselected package libproxy1v5:amd64.\nPreparing to unpack .../49-libproxy1v5_0.4.15-5+deb10u1_amd64.deb ...\nUnpacking libproxy1v5:amd64 (0.4.15-5+deb10u1) ...\nSelecting previously unselected package glib-networking-common.\nPreparing to unpack .../50-glib-networking-common_2.58.0-2+deb10u2_all.deb ...\n\u001b7\u001b[24;0f\u001b[42m\u001b[30mProgress: [ 40%]\u001b[49m\u001b[39m [#######################...................................] \u001b8Unpacking glib-networking-common (2.58.0-2+deb10u2) ...\nSelecting previously unselected package glib-networking-services.\nPreparing to unpack .../51-glib-networking-services_2.58.0-2+deb10u2_amd64.deb ...\nUnpacking glib-networking-services (2.58.0-2+deb10u2) ...\nSelecting previously unselected package gsettings-desktop-schemas.\nPreparing to unpack .../52-gsettings-desktop-schemas_3.28.1-1_all.deb ...\n\u001b7\u001b[24;0f\u001b[42m\u001b[30mProgress: [ 41%]\u001b[49m\u001b[39m [#######################...................................] \u001b8Unpacking gsettings-desktop-schemas (3.28.1-1) ...\nSelecting previously unselected package glib-networking:amd64.\nPreparing to unpack .../53-glib-networking_2.58.0-2+deb10u2_amd64.deb ...\nUnpacking glib-networking:amd64 (2.58.0-2+deb10u2) ...\n\u001b7\u001b[24;0f\u001b[42m\u001b[30mProgress: [ 42%]\u001b[49m\u001b[39m [########################..................................] \u001b8Selecting previously unselected package libatk-bridge2.0-0:amd64.\nPreparing to unpack .../54-libatk-bridge2.0-0_2.30.0-5_amd64.deb ...\nUnpacking libatk-bridge2.0-0:amd64 (2.30.0-5) ...\nSelecting previously unselected package libfontenc1:amd64.\nPreparing to unpack .../55-libfontenc1_1%3a1.1.3-1+b2_amd64.deb ...\nUnpacking libfontenc1:amd64 (1:1.1.3-1+b2) ...\n\u001b7\u001b[24;0f\u001b[42m\u001b[30mProgress: [ 43%]\u001b[49m\u001b[39m [#########################.................................] \u001b8Selecting previously unselected package libxcb-shape0:amd64.\nPreparing to unpack .../56-libxcb-shape0_1.13.1-2_amd64.deb ...\nUnpacking libxcb-shape0:amd64 (1.13.1-2) ...\nSelecting previously unselected package libxmuu1:amd64.\nPreparing to unpack .../57-libxmuu1_2%3a1.1.2-2+b3_amd64.deb ...\n\u001b7\u001b[24;0f\u001b[42m\u001b[30mProgress: [ 44%]\u001b[49m\u001b[39m [#########################.................................] \u001b8Unpacking libxmuu1:amd64 (2:1.1.2-2+b3) ...\nSelecting previously unselected package libxv1:amd64.\nPreparing to unpack .../58-libxv1_2%3a1.0.11-1_amd64.deb ...\nUnpacking libxv1:amd64 (2:1.0.11-1) ...\nSelecting previously unselected package libxxf86dga1:amd64.\nPreparing to unpack .../59-libxxf86dga1_2%3a1.1.4-1+b3_amd64.deb ...\n\u001b7\u001b[24;0f\u001b[42m\u001b[30mProgress: [ 45%]\u001b[49m\u001b[39m [##########################................................] \u001b8Unpacking libxxf86dga1:amd64 (2:1.1.4-1+b3) ...\nSelecting previously unselected package x11-utils.\nPreparing to unpack .../60-x11-utils_7.7+4_amd64.deb ...\nUnpacking x11-utils (7.7+4) ...\nSelecting previously unselected package libatk-wrapper-java.\nPreparing to unpack .../61-libatk-wrapper-java_0.33.3-22+deb10u1_all.deb ...\n\u001b7\u001b[24;0f\u001b[42m\u001b[30mProgress: [ 46%]\u001b[49m\u001b[39m [##########################................................] \u001b8Unpacking libatk-wrapper-java (0.33.3-22+deb10u1) ...\nSelecting previously unselected package libcolord2:amd64.\nPreparing to unpack .../62-libcolord2_1.4.3-4_amd64.deb ...\nUnpacking libcolord2:amd64 (1.4.3-4) ...\n\u001b7\u001b[24;0f\u001b[42m\u001b[30mProgress: [ 47%]\u001b[49m\u001b[39m [###########################...............................] \u001b8Selecting previously unselected package libepoxy0:amd64.\nPreparing to unpack .../63-libepoxy0_1.5.3-0.1_amd64.deb ...\nUnpacking libepoxy0:amd64 (1.5.3-0.1) ...\nSelecting previously unselected package libjson-glib-1.0-common.\nPreparing to unpack .../64-libjson-glib-1.0-common_1.4.4-2_all.deb ...\nUnpacking libjson-glib-1.0-common (1.4.4-2) ...\n\u001b7\u001b[24;0f\u001b[42m\u001b[30mProgress: [ 48%]\u001b[49m\u001b[39m [###########################...............................] \u001b8Selecting previously unselected package libjson-glib-1.0-0:amd64.\nPreparing to unpack .../65-libjson-glib-1.0-0_1.4.4-2_amd64.deb ...\nUnpacking libjson-glib-1.0-0:amd64 (1.4.4-2) ...\nSelecting previously unselected package libsoup2.4-1:amd64.\nPreparing to unpack .../66-libsoup2.4-1_2.64.2-2_amd64.deb ...\nUnpacking libsoup2.4-1:amd64 (2.64.2-2) ...\n\u001b7\u001b[24;0f\u001b[42m\u001b[30mProgress: [ 49%]\u001b[49m\u001b[39m [############################..............................] \u001b8Selecting previously unselected package libsoup-gnome2.4-1:amd64.\nPreparing to unpack .../67-libsoup-gnome2.4-1_2.64.2-2_amd64.deb ...\nUnpacking libsoup-gnome2.4-1:amd64 (2.64.2-2) ...\nSelecting previously unselected package librest-0.7-0:amd64.\nPreparing to unpack .../68-librest-0.7-0_0.8.1-1_amd64.deb ...\n\u001b7\u001b[24;0f\u001b[42m\u001b[30mProgress: [ 50%]\u001b[49m\u001b[39m [#############################.............................] \u001b8Unpacking librest-0.7-0:amd64 (0.8.1-1) ...\nSelecting previously unselected package libwayland-client0:amd64.\nPreparing to unpack .../69-libwayland-client0_1.16.0-1_amd64.deb ...\nUnpacking libwayland-client0:amd64 (1.16.0-1) ...\nSelecting previously unselected package libwayland-cursor0:amd64.\nPreparing to unpack .../70-libwayland-cursor0_1.16.0-1_amd64.deb ...\n\u001b7\u001b[24;0f\u001b[42m\u001b[30mProgress: [ 51%]\u001b[49m\u001b[39m [#############################.............................] \u001b8Unpacking libwayland-cursor0:amd64 (1.16.0-1) ...\nSelecting previously unselected package libwayland-egl1:amd64.\nPreparing to unpack .../71-libwayland-egl1_1.16.0-1_amd64.deb ...\nUnpacking libwayland-egl1:amd64 (1.16.0-1) ...\n\u001b7\u001b[24;0f\u001b[42m\u001b[30mProgress: [ 52%]\u001b[49m\u001b[39m [##############################............................] \u001b8Selecting previously unselected package xkb-data.\nPreparing to unpack .../72-xkb-data_2.26-2_all.deb ...\nUnpacking xkb-data (2.26-2) ...\nSelecting previously unselected package libxkbcommon0:amd64.\nPreparing to unpack .../73-libxkbcommon0_0.8.2-1_amd64.deb ...\nUnpacking libxkbcommon0:amd64 (0.8.2-1) ...\n\u001b7\u001b[24;0f\u001b[42m\u001b[30mProgress: [ 53%]\u001b[49m\u001b[39m [##############################............................] \u001b8Selecting previously unselected package libgtk-3-common.\nPreparing to unpack .../74-libgtk-3-common_3.24.5-1_all.deb ...\nUnpacking libgtk-3-common (3.24.5-1) ...\nSelecting previously unselected package libgtk-3-0:amd64.\nPreparing to unpack .../75-libgtk-3-0_3.24.5-1_amd64.deb ...\n\u001b7\u001b[24;0f\u001b[42m\u001b[30mProgress: [ 54%]\u001b[49m\u001b[39m [###############################...........................] \u001b8Unpacking libgtk-3-0:amd64 (3.24.5-1) ...\nSelecting previously unselected package libatk-wrapper-java-jni:amd64.\nPreparing to unpack .../76-libatk-wrapper-java-jni_0.33.3-22+deb10u1_amd64.deb ...\nUnpacking libatk-wrapper-java-jni:amd64 (0.33.3-22+deb10u1) ...\nSelecting previously unselected package libgtk-3-bin.\nPreparing to unpack .../77-libgtk-3-bin_3.24.5-1_amd64.deb ...\n\u001b7\u001b[24;0f\u001b[42m\u001b[30mProgress: [ 55%]\u001b[49m\u001b[39m [###############################...........................] \u001b8Unpacking libgtk-3-bin (3.24.5-1) ...\nSetting up libxcb-dri3-0:amd64 (1.13.1-2) ...\nSetting up liblcms2-2:amd64 (2.9-3) ...\n\u001b7\u001b[24;0f\u001b[42m\u001b[30mProgress: [ 56%]\u001b[49m\u001b[39m [################################..........................] \u001b8Setting up libx11-xcb1:amd64 (2:1.6.7-1+deb10u2) ...\n\u001b7\u001b[24;0f\u001b[42m\u001b[30mProgress: [ 57%]\u001b[49m\u001b[39m [#################################.........................] \u001b8Setting up libpciaccess0:amd64 (0.14-1) ...\nSetting up systemd-sysv (241-7~deb10u8) ...\n\u001b7\u001b[24;0f\u001b[42m\u001b[30mProgress: [ 58%]\u001b[49m\u001b[39m [#################################.........................] \u001b8Setting up libproxy1v5:amd64 (0.4.15-5+deb10u1) ...\nSetting up java-common (0.71) ...\n\u001b7\u001b[24;0f\u001b[42m\u001b[30mProgress: [ 59%]\u001b[49m\u001b[39m [##################################........................] \u001b8Setting up libglvnd0:amd64 (1.1.0-1) ...\nSetting up libxtst6:amd64 (2:1.2.3-1) ...\n\u001b7\u001b[24;0f\u001b[42m\u001b[30mProgress: [ 60%]\u001b[49m\u001b[39m [##################################........................] \u001b8Setting up libxcb-glx0:amd64 (1.13.1-2) ...\nSetting up libxcb-shape0:amd64 (1.13.1-2) ...\n\u001b7\u001b[24;0f\u001b[42m\u001b[30mProgress: [ 61%]\u001b[49m\u001b[39m [###################################.......................] \u001b8Setting up libsensors-config (1:3.5.0-3) ...\n\u001b7\u001b[24;0f\u001b[42m\u001b[30mProgress: [ 62%]\u001b[49m\u001b[39m [###################################.......................] \u001b8Setting up libxxf86dga1:amd64 (2:1.1.4-1+b3) ...\nSetting up libnss-systemd:amd64 (241-7~deb10u8) ...\nFirst installation detected...\nChecking NSS setup...\n\u001b7\u001b[24;0f\u001b[42m\u001b[30mProgress: [ 63%]\u001b[49m\u001b[39m [####################################......................] \u001b8Setting up xkb-data (2.26-2) ...\nSetting up libatspi2.0-0:amd64 (2.30.0-7) ...\n\u001b7\u001b[24;0f\u001b[42m\u001b[30mProgress: [ 64%]\u001b[49m\u001b[39m [#####################################.....................] \u001b8Setting up libcolord2:amd64 (1.4.3-4) ...\nSetting up libxxf86vm1:amd64 (1:1.1.4-1+b2) ...\n\u001b7\u001b[24;0f\u001b[42m\u001b[30mProgress: [ 65%]\u001b[49m\u001b[39m [#####################################.....................] \u001b8Setting up libxcb-present0:amd64 (1.13.1-2) ...\nSetting up libdconf1:amd64 (0.30.1-2) ...\n\u001b7\u001b[24;0f\u001b[42m\u001b[30mProgress: [ 66%]\u001b[49m\u001b[39m [######################################....................] \u001b8Setting up libasound2-data (1.1.8-1) ...\n\u001b7\u001b[24;0f\u001b[42m\u001b[30mProgress: [ 67%]\u001b[49m\u001b[39m [######################################....................] \u001b8Setting up libatk-bridge2.0-0:amd64 (2.30.0-5) ...\nSetting up libfontenc1:amd64 (1:1.1.3-1+b2) ...\n\u001b7\u001b[24;0f\u001b[42m\u001b[30mProgress: [ 68%]\u001b[49m\u001b[39m [#######################################...................] \u001b8Setting up libepoxy0:amd64 (1.5.3-0.1) ...\nSetting up libnspr4:amd64 (2:4.20-1) ...\n\u001b7\u001b[24;0f\u001b[42m\u001b[30mProgress: [ 69%]\u001b[49m\u001b[39m [########################################..................] \u001b8Setting up libxcb-sync1:amd64 (1.13.1-2) ...\nSetting up dbus (1.12.20-0+deb10u1) ...\n\u001b7\u001b[24;0f\u001b[42m\u001b[30mProgress: [ 70%]\u001b[49m\u001b[39m [########################################..................] \u001b8invoke-rc.d: could not determine current runlevel\ninvoke-rc.d: policy-rc.d denied execution of start.\nSetting up libxv1:amd64 (2:1.0.11-1) ...\nSetting up libpcsclite1:amd64 (1.8.24-1) ...\n\u001b7\u001b[24;0f\u001b[42m\u001b[30mProgress: [ 71%]\u001b[49m\u001b[39m [#########################################.................] \u001b8Setting up libsensors5:amd64 (1:3.5.0-3) ...\nSetting up libglapi-mesa:amd64 (18.3.6-2+deb10u1) ...\n\u001b7\u001b[24;0f\u001b[42m\u001b[30mProgress: [ 72%]\u001b[49m\u001b[39m [#########################################.................] \u001b8Setting up libxcb-dri2-0:amd64 (1.13.1-2) ...\n\u001b7\u001b[24;0f\u001b[42m\u001b[30mProgress: [ 73%]\u001b[49m\u001b[39m [##########################################................] \u001b8Setting up libgif7:amd64 (5.1.4-3) ...\nSetting up fonts-dejavu-extra (2.37-1) ...\n\u001b7\u001b[24;0f\u001b[42m\u001b[30mProgress: [ 74%]\u001b[49m\u001b[39m [###########################################...............] \u001b8Setting up at-spi2-core (2.30.0-7) ...\nSetting up libxshmfence1:amd64 (1.3-1) ...\n\u001b7\u001b[24;0f\u001b[42m\u001b[30mProgress: [ 75%]\u001b[49m\u001b[39m [###########################################...............] \u001b8Setting up libasound2:amd64 (1.1.8-1) ...\nSetting up libpam-systemd:amd64 (241-7~deb10u8) ...\n\u001b7\u001b[24;0f\u001b[42m\u001b[30mProgress: [ 76%]\u001b[49m\u001b[39m [############################################..............] \u001b8debconf: unable to initialize frontend: Dialog\ndebconf: (No usable dialog-like program is installed, so the dialog based frontend cannot be used. at /usr/share/perl5/Debconf/FrontEnd/Dialog.pm line 78.)\ndebconf: falling back to frontend: Readline\nSetting up libllvm7:amd64 (1:7.0.1-8+deb10u2) ...\n\u001b7\u001b[24;0f\u001b[42m\u001b[30mProgress: [ 77%]\u001b[49m\u001b[39m [############################################..............] \u001b8Setting up libjson-glib-1.0-common (1.4.4-2) ...\nSetting up libwayland-egl1:amd64 (1.16.0-1) ...\n\u001b7\u001b[24;0f\u001b[42m\u001b[30mProgress: [ 78%]\u001b[49m\u001b[39m [#############################################.............] \u001b8Setting up glib-networking-common (2.58.0-2+deb10u2) ...\nSetting up libdrm-common (2.4.97-1) ...\n\u001b7\u001b[24;0f\u001b[42m\u001b[30mProgress: [ 79%]\u001b[49m\u001b[39m [#############################################.............] \u001b8Setting up libxmuu1:amd64 (2:1.1.2-2+b3) ...\nSetting up libxkbcommon0:amd64 (0.8.2-1) ...\n\u001b7\u001b[24;0f\u001b[42m\u001b[30mProgress: [ 80%]\u001b[49m\u001b[39m [##############################################............] \u001b8Setting up libwayland-client0:amd64 (1.16.0-1) ...\nSetting up glib-networking-services (2.58.0-2+deb10u2) ...\n\u001b7\u001b[24;0f\u001b[42m\u001b[30mProgress: [ 81%]\u001b[49m\u001b[39m [###############################################...........] \u001b8Setting up libnss3:amd64 (2:3.42.1-1+deb10u3) ...\nSetting up libjson-glib-1.0-0:amd64 (1.4.4-2) ...\n\u001b7\u001b[24;0f\u001b[42m\u001b[30mProgress: [ 82%]\u001b[49m\u001b[39m [###############################################...........] \u001b8Setting up dbus-user-session (1.12.20-0+deb10u1) ...\n\u001b7\u001b[24;0f\u001b[42m\u001b[30mProgress: [ 83%]\u001b[49m\u001b[39m [################################################..........] \u001b8Setting up libdrm2:amd64 (2.4.97-1) ...\nSetting up libwayland-cursor0:amd64 (1.16.0-1) ...\n\u001b7\u001b[24;0f\u001b[42m\u001b[30mProgress: [ 84%]\u001b[49m\u001b[39m [################################################..........] \u001b8Setting up libdrm-amdgpu1:amd64 (2.4.97-1) ...\nSetting up libdrm-nouveau2:amd64 (2.4.97-1) ...\n\u001b7\u001b[24;0f\u001b[42m\u001b[30mProgress: [ 85%]\u001b[49m\u001b[39m [#################################################.........] \u001b8Setting up libdrm-radeon1:amd64 (2.4.97-1) ...\nSetting up libdrm-intel1:amd64 (2.4.97-1) ...\n\u001b7\u001b[24;0f\u001b[42m\u001b[30mProgress: [ 86%]\u001b[49m\u001b[39m [#################################################.........] \u001b8Setting up libgl1-mesa-dri:amd64 (18.3.6-2+deb10u1) ...\nSetting up dconf-service (0.30.1-2) ...\n\u001b7\u001b[24;0f\u001b[42m\u001b[30mProgress: [ 87%]\u001b[49m\u001b[39m [##################################################........] \u001b8Setting up libglx-mesa0:amd64 (18.3.6-2+deb10u1) ...\n\u001b7\u001b[24;0f\u001b[42m\u001b[30mProgress: [ 88%]\u001b[49m\u001b[39m [###################################################.......] \u001b8Setting up libglx0:amd64 (1.1.0-1) ...\nSetting up dconf-gsettings-backend:amd64 (0.30.1-2) ...\n\u001b7\u001b[24;0f\u001b[42m\u001b[30mProgress: [ 89%]\u001b[49m\u001b[39m [###################################################.......] \u001b8Setting up libgl1:amd64 (1.1.0-1) ...\nSetting up x11-utils (7.7+4) ...\n\u001b7\u001b[24;0f\u001b[42m\u001b[30mProgress: [ 90%]\u001b[49m\u001b[39m [####################################################......] \u001b8Setting up libatk-wrapper-java (0.33.3-22+deb10u1) ...\nSetting up libgtk-3-common (3.24.5-1) ...\n\u001b7\u001b[24;0f\u001b[42m\u001b[30mProgress: [ 91%]\u001b[49m\u001b[39m [####################################################......] \u001b8Setting up gsettings-desktop-schemas (3.28.1-1) ...\nSetting up default-jre-headless (2:1.11-71) ...\nSetting up openjdk-11-jre-headless:amd64 (11.0.12+7-2~deb10u1) ...\n\u001b7\u001b[24;0f\u001b[42m\u001b[30mProgress: [ 92%]\u001b[49m\u001b[39m [#####################################################.....] \u001b8update-alternatives: using /usr/lib/jvm/java-11-openjdk-amd64/bin/java to provide /usr/bin/java (java) in auto mode\nupdate-alternatives: using /usr/lib/jvm/java-11-openjdk-amd64/bin/jjs to provide /usr/bin/jjs (jjs) in auto mode\nupdate-alternatives: using /usr/lib/jvm/java-11-openjdk-amd64/bin/keytool to provide /usr/bin/keytool (keytool) in auto mode\nupdate-alternatives: using /usr/lib/jvm/java-11-openjdk-amd64/bin/rmid to provide /usr/bin/rmid (rmid) in auto mode\nupdate-alternatives: using /usr/lib/jvm/java-11-openjdk-amd64/bin/rmiregistry to provide /usr/bin/rmiregistry (rmiregistry) in auto mode\nupdate-alternatives: using /usr/lib/jvm/java-11-openjdk-amd64/bin/pack200 to provide /usr/bin/pack200 (pack200) in auto mode\nupdate-alternatives: using /usr/lib/jvm/java-11-openjdk-amd64/bin/unpack200 to provide /usr/bin/unpack200 (unpack200) in auto mode\nupdate-alternatives: using /usr/lib/jvm/java-11-openjdk-amd64/lib/jexec to provide /usr/bin/jexec (jexec) in auto mode\nSetting up openjdk-11-jre:amd64 (11.0.12+7-2~deb10u1) ...\n\u001b7\u001b[24;0f\u001b[42m\u001b[30mProgress: [ 93%]\u001b[49m\u001b[39m [#####################################################.....] \u001b8Setting up default-jre (2:1.11-71) ...\nSetting up ca-certificates-java (20190405) ...\nhead: cannot open '/etc/ssl/certs/java/cacerts' for reading: No such file or directory\nAdding debian:ACCVRAIZ1.pem\nAdding debian:AC_RAIZ_FNMT-RCM.pem\nAdding debian:Actalis_Authentication_Root_CA.pem\nAdding debian:AffirmTrust_Commercial.pem\nAdding debian:AffirmTrust_Networking.pem\nAdding debian:AffirmTrust_Premium.pem\nAdding debian:AffirmTrust_Premium_ECC.pem\nAdding debian:Amazon_Root_CA_1.pem\nAdding debian:Amazon_Root_CA_2.pem\nAdding debian:Amazon_Root_CA_3.pem\nAdding debian:Amazon_Root_CA_4.pem\nAdding debian:Atos_TrustedRoot_2011.pem\nAdding debian:Autoridad_de_Certificacion_Firmaprofesional_CIF_A62634068.pem\nAdding debian:Baltimore_CyberTrust_Root.pem\nAdding debian:Buypass_Class_2_Root_CA.pem\nAdding debian:Buypass_Class_3_Root_CA.pem\nAdding debian:CA_Disig_Root_R2.pem\nAdding debian:CFCA_EV_ROOT.pem\nAdding debian:COMODO_Certification_Authority.pem\nAdding debian:COMODO_ECC_Certification_Authority.pem\nAdding debian:COMODO_RSA_Certification_Authority.pem\nAdding debian:Certigna.pem\nAdding debian:Certigna_Root_CA.pem\nAdding debian:Certum_Trusted_Network_CA.pem\nAdding debian:Certum_Trusted_Network_CA_2.pem\nAdding debian:Chambers_of_Commerce_Root_-_2008.pem\nAdding debian:Comodo_AAA_Services_root.pem\nAdding debian:Cybertrust_Global_Root.pem\nAdding debian:D-TRUST_Root_Class_3_CA_2_2009.pem\nAdding debian:D-TRUST_Root_Class_3_CA_2_EV_2009.pem\nAdding debian:DST_Root_CA_X3.pem\nAdding debian:DigiCert_Assured_ID_Root_CA.pem\nAdding debian:DigiCert_Assured_ID_Root_G2.pem\nAdding debian:DigiCert_Assured_ID_Root_G3.pem\nAdding debian:DigiCert_Global_Root_CA.pem\nAdding debian:DigiCert_Global_Root_G2.pem\nAdding debian:DigiCert_Global_Root_G3.pem\nAdding debian:DigiCert_High_Assurance_EV_Root_CA.pem\nAdding debian:DigiCert_Trusted_Root_G4.pem\nAdding debian:E-Tugra_Certification_Authority.pem\nAdding debian:EC-ACC.pem\nAdding debian:EE_Certification_Centre_Root_CA.pem\nAdding debian:Entrust.net_Premium_2048_Secure_Server_CA.pem\nAdding debian:Entrust_Root_Certification_Authority.pem\nAdding debian:GDCA_TrustAUTH_R5_ROOT.pem\nAdding debian:Entrust_Root_Certification_Authority_-_EC1.pem\nAdding debian:Entrust_Root_Certification_Authority_-_G2.pem\nAdding debian:Entrust_Root_Certification_Authority_-_G4.pem\nAdding debian:GTS_Root_R1.pem\nAdding debian:GTS_Root_R2.pem\nAdding debian:GTS_Root_R3.pem\nAdding debian:GTS_Root_R4.pem\nAdding debian:GeoTrust_Global_CA.pem\nAdding debian:GeoTrust_Primary_Certification_Authority.pem\nAdding debian:GeoTrust_Primary_Certification_Authority_-_G2.pem\nAdding debian:GeoTrust_Primary_Certification_Authority_-_G3.pem\nAdding debian:GeoTrust_Universal_CA.pem\nAdding debian:GeoTrust_Universal_CA_2.pem\nAdding debian:GlobalSign_ECC_Root_CA_-_R4.pem\nAdding debian:GlobalSign_ECC_Root_CA_-_R5.pem\nAdding debian:GlobalSign_Root_CA.pem\nAdding debian:GlobalSign_Root_CA_-_R2.pem\nAdding debian:GlobalSign_Root_CA_-_R3.pem\nAdding debian:GlobalSign_Root_CA_-_R6.pem\nAdding debian:Global_Chambersign_Root_-_2008.pem\nAdding debian:Go_Daddy_Class_2_CA.pem\nAdding debian:Go_Daddy_Root_Certificate_Authority_-_G2.pem\nAdding debian:Hellenic_Academic_and_Research_Institutions_ECC_RootCA_2015.pem\nAdding debian:Hellenic_Academic_and_Research_Institutions_RootCA_2011.pem\nAdding debian:Hellenic_Academic_and_Research_Institutions_RootCA_2015.pem\nAdding debian:Hongkong_Post_Root_CA_1.pem\nAdding debian:Hongkong_Post_Root_CA_3.pem\nAdding debian:ISRG_Root_X1.pem\nAdding debian:IdenTrust_Commercial_Root_CA_1.pem\nAdding debian:IdenTrust_Public_Sector_Root_CA_1.pem\nAdding debian:Izenpe.com.pem\nAdding debian:LuxTrust_Global_Root_2.pem\nAdding debian:Microsec_e-Szigno_Root_CA_2009.pem\nAdding debian:NetLock_Arany_=Class_Gold=_Főtanúsítvány.pem\nAdding debian:Network_Solutions_Certificate_Authority.pem\nAdding debian:OISTE_WISeKey_Global_Root_GA_CA.pem\nAdding debian:OISTE_WISeKey_Global_Root_GB_CA.pem\nAdding debian:OISTE_WISeKey_Global_Root_GC_CA.pem\nAdding debian:QuoVadis_Root_CA.pem\nAdding debian:QuoVadis_Root_CA_1_G3.pem\nAdding debian:QuoVadis_Root_CA_2.pem\nAdding debian:QuoVadis_Root_CA_2_G3.pem\nAdding debian:QuoVadis_Root_CA_3.pem\nAdding debian:QuoVadis_Root_CA_3_G3.pem\nAdding debian:SSL.com_EV_Root_Certification_Authority_ECC.pem\nAdding debian:SSL.com_EV_Root_Certification_Authority_RSA_R2.pem\nAdding debian:SSL.com_Root_Certification_Authority_ECC.pem\nAdding debian:SSL.com_Root_Certification_Authority_RSA.pem\nAdding debian:SZAFIR_ROOT_CA2.pem\nAdding debian:SecureSign_RootCA11.pem\nAdding debian:SecureTrust_CA.pem\nAdding debian:Secure_Global_CA.pem\nAdding debian:Security_Communication_RootCA2.pem\nAdding debian:Security_Communication_Root_CA.pem\nAdding debian:Sonera_Class_2_Root_CA.pem\nAdding debian:Staat_der_Nederlanden_EV_Root_CA.pem\nAdding debian:Staat_der_Nederlanden_Root_CA_-_G2.pem\nAdding debian:Staat_der_Nederlanden_Root_CA_-_G3.pem\nAdding debian:Starfield_Class_2_CA.pem\nAdding debian:Starfield_Root_Certificate_Authority_-_G2.pem\nAdding debian:Starfield_Services_Root_Certificate_Authority_-_G2.pem\nAdding debian:SwissSign_Gold_CA_-_G2.pem\nAdding debian:SwissSign_Silver_CA_-_G2.pem\nAdding debian:T-TeleSec_GlobalRoot_Class_2.pem\nAdding debian:T-TeleSec_GlobalRoot_Class_3.pem\nAdding debian:TUBITAK_Kamu_SM_SSL_Kok_Sertifikasi_-_Surum_1.pem\nAdding debian:TWCA_Global_Root_CA.pem\nAdding debian:TWCA_Root_Certification_Authority.pem\nAdding debian:Taiwan_GRCA.pem\nAdding debian:TeliaSonera_Root_CA_v1.pem\nAdding debian:TrustCor_ECA-1.pem\nAdding debian:TrustCor_RootCert_CA-1.pem\nAdding debian:TrustCor_RootCert_CA-2.pem\nAdding debian:Trustis_FPS_Root_CA.pem\nAdding debian:UCA_Extended_Validation_Root.pem\nAdding debian:UCA_Global_G2_Root.pem\nAdding debian:USERTrust_ECC_Certification_Authority.pem\nAdding debian:USERTrust_RSA_Certification_Authority.pem\nAdding debian:VeriSign_Class_3_Public_Primary_Certification_Authority_-_G4.pem\nAdding debian:VeriSign_Class_3_Public_Primary_Certification_Authority_-_G5.pem\nAdding debian:VeriSign_Universal_Root_Certification_Authority.pem\nAdding debian:Verisign_Class_3_Public_Primary_Certification_Authority_-_G3.pem\nAdding debian:XRamp_Global_CA_Root.pem\nAdding debian:certSIGN_ROOT_CA.pem\nAdding debian:ePKI_Root_Certification_Authority.pem\nAdding debian:emSign_ECC_Root_CA_-_C3.pem\nAdding debian:emSign_ECC_Root_CA_-_G3.pem\nAdding debian:emSign_Root_CA_-_C1.pem\nAdding debian:emSign_Root_CA_-_G1.pem\nAdding debian:thawte_Primary_Root_CA.pem\nAdding debian:thawte_Primary_Root_CA_-_G2.pem\nAdding debian:thawte_Primary_Root_CA_-_G3.pem\ndone.\nProcessing triggers for fontconfig (2.13.1-2) ...\nProcessing triggers for mime-support (3.62) ...\nProcessing triggers for hicolor-icon-theme (0.17-2) ...\nProcessing triggers for libglib2.0-0:amd64 (2.58.3-2+deb10u3) ...\n\u001b7\u001b[24;0f\u001b[42m\u001b[30mProgress: [ 94%]\u001b[49m\u001b[39m [######################################################....] \u001b8\u001b7\u001b[24;0f\u001b[42m\u001b[30mProgress: [ 95%]\u001b[49m\u001b[39m [#######################################################...] \u001b8Processing triggers for libc-bin (2.28-10) ...\nProcessing triggers for systemd (241-7~deb10u8) ...\nProcessing triggers for ca-certificates (20200601~deb10u2) ...\nUpdating certificates in /etc/ssl/certs...\n0 added, 0 removed; done.\nRunning hooks in /etc/ca-certificates/update.d...\n\ndone.\ndone.\nSetting up glib-networking:amd64 (2.58.0-2+deb10u2) ...\n\u001b7\u001b[24;0f\u001b[42m\u001b[30mProgress: [ 96%]\u001b[49m\u001b[39m [#######################################################...] \u001b8Setting up libsoup2.4-1:amd64 (2.64.2-2) ...\nSetting up libsoup-gnome2.4-1:amd64 (2.64.2-2) ...\n\u001b7\u001b[24;0f\u001b[42m\u001b[30mProgress: [ 97%]\u001b[49m\u001b[39m [########################################################..] \u001b8Setting up librest-0.7-0:amd64 (0.8.1-1) ...\n\u001b7\u001b[24;0f\u001b[42m\u001b[30mProgress: [ 98%]\u001b[49m\u001b[39m [########################################################..] \u001b8Setting up libgtk-3-0:amd64 (3.24.5-1) ...\nSetting up libgtk-3-bin (3.24.5-1) ...\n\u001b7\u001b[24;0f\u001b[42m\u001b[30mProgress: [ 99%]\u001b[49m\u001b[39m [#########################################################.] \u001b8Setting up libatk-wrapper-java-jni:amd64 (0.33.3-22+deb10u1) ...\nProcessing triggers for libc-bin (2.28-10) ...\n\n\u001b7\u001b[0;24r\u001b8\u001b[1A\u001b[J",
     "output_type": "stream"
    }
   ],
   "execution_count": null
  },
  {
   "cell_type": "markdown",
   "source": "## 11. PMML Deployment\nAfter we have created the PMML file, we can upload it to the Camunda Platform with the Camunda Modeler as shown in Fig 11.\n\n![](https://github.com/DigiBP/digibp-camunda-classroom/raw/master/modelling/pmml/order-approval-camunda-pmml-deploy.png)\n\n**Fig 11**: deployment of a PMML file with the Camunda Modeler\n\nFor the next step 11 (or alternative step 15), we need to investigate the `deployment-id` of the deployments within the Camunda Platform Cockpit.",
   "metadata": {
    "cell_id": "00042-ff77e942-df9c-486b-aa92-22874dfd450e",
    "deepnote_cell_type": "markdown"
   }
  },
  {
   "cell_type": "code",
   "metadata": {
    "tags": [],
    "cell_id": "00043-669232b2-cc87-470d-8e78-1490b7055993",
    "deepnote_to_be_reexecuted": false,
    "source_hash": "a78ea424",
    "execution_start": 1637526986690,
    "execution_millis": 348,
    "deepnote_output_heights": [
     21.199996948242188
    ],
    "output_cleared": true,
    "deepnote_cell_type": "code"
   },
   "source": "import requests\n\ncamunda_eninge_rest = \"https://digibp.herokuapp.com/engine-rest/deployment/create\"\n\nrequest_file = {\n    pmml_file_name: (pmml_file_name, open(pmml_file_name, \"rb\"))\n}\n\nrequest_data = {\n    \"tenant-id\": \"showcase\",\n}\n\nresponse = requests.post(camunda_eninge_rest, files=request_file, data=request_data)\ndeployment_id = response.json()[\"id\"]\n\nprint(deployment_id)",
   "outputs": [
    {
     "name": "stdout",
     "text": "b3303615-4b0a-11ec-89bf-263daf62be77\n",
     "output_type": "stream"
    }
   ],
   "execution_count": null
  },
  {
   "cell_type": "markdown",
   "source": "## 12. PMML Testing\nFor executing the PMML files together with a Camunda Workflow, we can use the provided classroom instantiation, which has been extended with `jpmml`, the [Java PMML API](https://github.com/jpmml). Now can use the obtained `deployment-id` to construct the `requests` url - **so please change the following** `deployment_id`.",
   "metadata": {
    "cell_id": "00043-40ffb424-3824-49db-81e3-34007cf06001",
    "tags": [],
    "deepnote_cell_type": "markdown"
   }
  },
  {
   "cell_type": "code",
   "metadata": {
    "cell_id": "00044-064fe01b-5636-4c42-9d7a-51941b39418f",
    "deepnote_to_be_reexecuted": false,
    "execution_millis": 18,
    "execution_start": 1637526987033,
    "output_cleared": true,
    "source_hash": "3dde8b75",
    "tags": [],
    "deepnote_cell_type": "code"
   },
   "source": "try: deployment_id\nexcept: deployment_id = \"f85423d8-47e1-11ec-834e-eea2248ab9a4\" # please change the deployment-id!\n\nevaluate_url = f\"https://digibp.herokuapp.com/pmml/{deployment_id}/{pmml_file_name}/evaluate\"\n\nprint(evaluate_url)",
   "outputs": [
    {
     "name": "stdout",
     "text": "https://digibp.herokuapp.com/pmml/b3303615-4b0a-11ec-89bf-263daf62be77/order-approval-sklearn.pmml/evaluate\n",
     "output_type": "stream"
    }
   ],
   "execution_count": null
  },
  {
   "cell_type": "markdown",
   "source": "Now we are ready to send a `GET` request to the DigiBP PMML API to retrieve our input variable structure of our deployed PMML file.",
   "metadata": {
    "cell_id": "00045-10c45c6c-74fc-483c-8bd3-192be786d3d5",
    "tags": [],
    "deepnote_cell_type": "markdown"
   }
  },
  {
   "cell_type": "code",
   "metadata": {
    "cell_id": "00044-b02ec0e7-086f-444a-ba6b-95f88f1ec626",
    "deepnote_to_be_reexecuted": false,
    "execution_millis": 332,
    "execution_start": 1637526987042,
    "source_hash": "60af51ae",
    "tags": [],
    "output_cleared": true,
    "deepnote_cell_type": "code"
   },
   "source": "import requests, json\n\nresponse = requests.get(f\"{evaluate_url}/generate-input\")\n\nprint(json.dumps(response.json(), indent=2))",
   "outputs": [
    {
     "name": "stdout",
     "text": "{\n  \"variables\": {\n    \"targetPrice\": null,\n    \"urgency\": null,\n    \"price\": null,\n    \"category\": null\n  }\n}\n",
     "output_type": "stream"
    }
   ],
   "execution_count": null
  },
  {
   "cell_type": "markdown",
   "source": "Finally, in this step, we can copy-and-paste the input variable structure from above as input to the `payload` variable and adjust the values.",
   "metadata": {
    "cell_id": "00047-ba16235c-7429-4d2c-b9fc-5cf2083e8851",
    "tags": [],
    "deepnote_cell_type": "markdown"
   }
  },
  {
   "cell_type": "code",
   "metadata": {
    "cell_id": "00045-316e8c36-41a3-4cb7-9d6b-b7194440d6fa",
    "deepnote_to_be_reexecuted": false,
    "execution_millis": 327,
    "execution_start": 1637526987374,
    "source_hash": "a6f1a75a",
    "tags": [],
    "output_cleared": true,
    "deepnote_cell_type": "code"
   },
   "source": "payload = {\n  \"variables\": {\n    \"targetPrice\": 520,\n    \"urgency\": 0,\n    \"price\": 480,\n    \"category\": 1\n  }\n}\n\nresponse = requests.post(evaluate_url, json=payload)\n\nprint(json.dumps(response.json(), indent=2))",
   "outputs": [
    {
     "name": "stdout",
     "text": "{\n  \"variables\": {\n    \"approved\": true,\n    \"probability(false)\": 0.017532270531009697,\n    \"probability(true)\": 0.9824677294689903\n  }\n}\n",
     "output_type": "stream"
    }
   ],
   "execution_count": null
  },
  {
   "cell_type": "markdown",
   "source": "We now should have received a possible output (prediction) of the PMML evaluation. In this use case, we should receive an `approved` variable, which is of type `Boolean`.",
   "metadata": {
    "cell_id": "00049-dfd6c73c-a79c-4832-a8fc-6b3dce16b222",
    "tags": [],
    "deepnote_cell_type": "markdown"
   }
  },
  {
   "cell_type": "markdown",
   "source": "## 13. Decision Task and PMML Connector\nWith the configuration insights from the PMML API, one can now configure the decision task within the BPMN model by using the Camunda Modeler. The classroom instantiation has been extended with a specific Camunda Connector for PMML, which can be used to execute a PMML model, provide input data from workflow variables and pass on output data (predictions) to workflow variables. Fig 13 shows the configurations required on the `order-approval-sklearn-init.bpmn` ([download BPMN model - here](https://ghcdn.rawgit.org/DigiBP/digibp-camunda-classroom/master/modelling/pmml/order-approval-sklearn-init.bpmn)) process.\n\n![](https://raw.githubusercontent.com/DigiBP/digibp-camunda-classroom/master/modelling/pmml/order-approval-camunda-pmml.png)\n\n**Fig 13**: PMML-connector configuration in Camunda Modeler",
   "metadata": {
    "cell_id": "00043-a4998860-b4a0-46fd-9c6f-1d626d6297dc",
    "deepnote_cell_type": "markdown"
   }
  },
  {
   "cell_type": "markdown",
   "source": "## 14. DMN Variable Mapping and Deployment\nIn step 2 we mapped the text values to numerical values. We now have to map these in the process as shown in Fig 14a, as we are working with strings in the workflow.\n\n![](https://github.com/DigiBP/digibp-camunda-classroom/raw/master/modelling/pmml/automatic-approval-mapping-urgency.png)\n\n**Fig 14a**: variable mapping in DMN\n\nThen download the `automatic-approval-mapping.dmn` ([download DMN model - here](https://ghcdn.rawgit.org/DigiBP/digibp-camunda-classroom/master/modelling/pmml/automatic-approval-mapping.dmn)).\n\nFinally, you can upload the entire package as shown in Fig 14b, consisting of the BPMN, the DMN and the PMML file to the server and start the process.\n\n![](https://github.com/DigiBP/digibp-camunda-classroom/raw/master/modelling/pmml/order-approval-camunda-pmml-deploy.png)\n\n**Fig 14b**: deployment of the a BPMN, DMN and PMML file with the Camunda Modeler",
   "metadata": {
    "cell_id": "00051-142cd904-ee5d-41d8-a44a-156bffbc8d16",
    "deepnote_cell_type": "markdown"
   }
  },
  {
   "cell_type": "code",
   "metadata": {
    "tags": [],
    "cell_id": "00052-6418901b-55ac-4c8a-bf6c-f97254bf1736",
    "deepnote_to_be_reexecuted": false,
    "source_hash": "142f43b",
    "execution_start": 1637526987702,
    "execution_millis": 870,
    "deepnote_output_heights": [
     611
    ],
    "output_cleared": true,
    "deepnote_cell_type": "code"
   },
   "source": "import requests\n\nbpmn_file_name = \"order-approval-sklearn.bpmn\"\nbpmn_file = requests.get(f\"{github_url}/{bpmn_file_name}\")\ndmn_file_name = \"automatic-approval-mapping.dmn\"\ndmn_file = requests.get(f\"{github_url}/{dmn_file_name}\")\n\nfiles = {pmml_file_name:open(pmml_file_name, \"rb\"), bpmn_file_name:bpmn_file.content, dmn_file_name:dmn_file.content}\n\nrequest_data = {\n     \"tenant-id\" : \"showcase\",\n}\n\nresponse = requests.post(camunda_eninge_rest, files=files, data=request_data)\ndeployment_id = response.json()[\"id\"]\n\nprint(deployment_id)",
   "outputs": [
    {
     "output_type": "error",
     "ename": "NameError",
     "evalue": "name 'camunda_url' is not defined",
     "traceback": [
      "\u001b[0;31m---------------------------------------------------------------------------\u001b[0m",
      "\u001b[0;31mNameError\u001b[0m                                 Traceback (most recent call last)",
      "\u001b[0;32m<ipython-input-22-3b40f5bcce93>\u001b[0m in \u001b[0;36m<module>\u001b[0;34m\u001b[0m\n\u001b[1;32m     12\u001b[0m }\n\u001b[1;32m     13\u001b[0m \u001b[0;34m\u001b[0m\u001b[0m\n\u001b[0;32m---> 14\u001b[0;31m \u001b[0mresponse\u001b[0m \u001b[0;34m=\u001b[0m \u001b[0mrequests\u001b[0m\u001b[0;34m.\u001b[0m\u001b[0mpost\u001b[0m\u001b[0;34m(\u001b[0m\u001b[0mcamunda_url\u001b[0m\u001b[0;34m,\u001b[0m \u001b[0mfiles\u001b[0m\u001b[0;34m=\u001b[0m\u001b[0mfiles\u001b[0m\u001b[0;34m,\u001b[0m \u001b[0mdata\u001b[0m\u001b[0;34m=\u001b[0m\u001b[0mrequest_data\u001b[0m\u001b[0;34m)\u001b[0m\u001b[0;34m\u001b[0m\u001b[0;34m\u001b[0m\u001b[0m\n\u001b[0m\u001b[1;32m     15\u001b[0m \u001b[0mdeployment_id\u001b[0m \u001b[0;34m=\u001b[0m \u001b[0mresponse\u001b[0m\u001b[0;34m.\u001b[0m\u001b[0mjson\u001b[0m\u001b[0;34m(\u001b[0m\u001b[0;34m)\u001b[0m\u001b[0;34m[\u001b[0m\u001b[0;34m\"id\"\u001b[0m\u001b[0;34m]\u001b[0m\u001b[0;34m\u001b[0m\u001b[0;34m\u001b[0m\u001b[0m\n\u001b[1;32m     16\u001b[0m \u001b[0;34m\u001b[0m\u001b[0m\n",
      "\u001b[0;31mNameError\u001b[0m: name 'camunda_url' is not defined"
     ]
    }
   ],
   "execution_count": null
  },
  {
   "cell_type": "markdown",
   "source": "## 15. PMML Testing with Swagger UI (alternative)\n> This step is an alternative substitution of step 12 above.\n\nThe provided classroom instantiation provides an own basic testing Swagger UI. This [PMML API Swagger UI](https://digibp.herokuapp.com/swagger-ui/#/pmmlapi) gives us the possibility, to `generate-input` fields and `evaluate` our PMML model as depicted in Fig 15.\n\n![](https://github.com/DigiBP/digibp-camunda-classroom/raw/master/modelling/pmml/camunda-pmml-api.png)\n\n**Fig 15**: PMML API Swagger UI\n",
   "metadata": {
    "cell_id": "00047-a280c2e3-f9ab-41fd-b6c5-e7c8fc9190ec",
    "tags": [],
    "deepnote_cell_type": "markdown"
   }
  },
  {
   "cell_type": "markdown",
   "source": "<a style='text-decoration:none;line-height:16px;display:flex;color:#5B5B62;padding:10px;justify-content:end;' href='https://deepnote.com?utm_source=created-in-deepnote-cell&projectId=38b28dd6-a8eb-4b0b-9128-6b0e23d40c21' target=\"_blank\">\n<img alt='Created in deepnote.com' style='display:inline;max-height:16px;margin:0px;margin-right:7.5px;' src='data:image/svg+xml;base64,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' > </img>\nCreated in <span style='font-weight:600;margin-left:4px;'>Deepnote</span></a>",
   "metadata": {
    "tags": [],
    "created_in_deepnote_cell": true,
    "deepnote_cell_type": "markdown"
   }
  }
 ],
 "nbformat": 4,
 "nbformat_minor": 0,
 "metadata": {
  "colab": {
   "collapsed_sections": [],
   "name": "ML Getting Started.ipynb",
   "provenance": []
  },
  "deepnote": {},
  "deepnote_execution_queue": [],
  "deepnote_notebook_id": "66b9f8a3-822e-4650-8c6c-9c876c3e0061",
  "kernelspec": {
   "display_name": "Python 3",
   "name": "python3"
  },
  "language_info": {
   "name": "python"
  }
 }
}