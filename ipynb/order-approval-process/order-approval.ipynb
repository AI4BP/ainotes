{
 "cells": [
  {
   "cell_type": "markdown",
   "source": "# ML-BPMN Getting Started with scikit-learn, PMML and Camunda\n\n*... a tutorial for students in the FHNW MSc module Digitalisation of Business Processes (DigiBP), written by [Andreas Martin, PhD](https://andreasmartin.ch).*\n\n[![deepnote](https://deepnote.com/buttons/launch-in-deepnote-small.svg)](https://deepnote.com/launch?url=https%3A%2F%2Fgithub.com%2FDigiBP%2Fdigibp-camunda-classroom%2Fblob%2Fmaster%2Fmodelling%2Fpmml%2FML_Getting_Started.ipynb) [![Collab](https://colab.research.google.com/assets/colab-badge.svg)](https://colab.research.google.com/github/DigiBP/digibp-camunda-classroom/blob/master/modelling/pmml/ML_Getting_Started.ipynb) [![Gitpod](https://img.shields.io/badge/Gitpod-Run%20in%20VS%20Code-908a85?logo=gitpod)](https://gitpod.io/#https://github.com/.../...) [![GitHub.dev](https://img.shields.io/badge/github.dev-Open%20in%20VS%20Code-908a85?logo=github)](https://github.dev/DigiBP/digibp-camunda-classroom/blob/master/modelling/pmml/ML_Getting_Started.ipynb)\n\nThis short tutorial is intended to provide a straight forward introduction to machine learning using the widely used Python library **scikit-learn** (aka sklearn).\n\n> Trivia: The name *SciKit* is derived from its original intention being a SciPy Toolkit. SciPy is another Python library for scientific computing.\n\nSklearn enjoys huge popularity when it comes to classic machine learning methods; it is well documented, has a large developer community and besides the official documentation there are plenty of other good resources for the ML toolkit available on the web.\n\n> Sklearn is intended for **classical ML** and **not for Deep Learning**, although a Multi-layer Perceptron (MLP), for example, can be trained. Since Sklearn does **not support GPUs**, it is not suitable for large-scale applications.",
   "metadata": {
    "cell_id": "00000-8d6ee9ee-a834-4d43-97b0-290aae0d32e9",
    "id": "07pKC6QDXX0S",
    "deepnote_cell_type": "markdown"
   }
  },
  {
   "cell_type": "markdown",
   "source": "## Data and Use Case\nThis tutorial uses historical data from an expense reporting and audit process — the **order approval process** is depicted in the following Fig a:\n\n![](https://github.com/AI4BP/ainotes/raw/main/ipynb/order-approval-process/images/order-approval-sklearn.png)\n\n**Fig a**: approval process\n\nThis (possibly synthetic) data was collected by humans, which is approved or not based on the expense **category**, **urgency**, **target price** and actual **price** paid.\n\n> This use case has been inspired by an example/article of Donato Marrazzo (Red Hat, Inc.). He provided data, in a related GitHub repository [[1]](https://github.com/dmarrazzo/rhdm-dmn-pmml-order), of an **expense approval process**, which is used here in this tutorial, along with a series of articles ([[2]](https://developers.redhat.com/blog/2021/01/14/knowledge-meets-machine-learning-for-smarter-decisions-part-1#conclusion) and [[3]](https://developers.redhat.com/blog/2021/01/22/knowledge-meets-machine-learning-for-smarter-decisions-part-2#conclusion)).",
   "metadata": {
    "cell_id": "00001-a237bda6-59e5-4250-a376-11777d2160b6",
    "id": "_YJcShEfbLuq",
    "deepnote_cell_type": "markdown"
   }
  },
  {
   "cell_type": "markdown",
   "source": "### 🚧 Main Task\nThe task in this tutorial is to train an ML model step by step and then generate a PMML file, which then implements the `Approve expense order (PMML)` activity depicted in Fig a.",
   "metadata": {
    "cell_id": "00002-6ab0b364-0beb-405b-89ee-026f04e35f23",
    "id": "bzarPqtIlaii",
    "deepnote_cell_type": "markdown"
   }
  },
  {
   "cell_type": "markdown",
   "source": "## 0. Initialization\nIn the following there is some code for initialization. For example, the URL to the data `url_data` and the BPMN/DMN models `url_modelling` is set.\n\nFurther on, if necessary, the `sklearn2pmml` must be organised in advance via pip. Since `sklearn2pmml` requires the JRE (Java Runtime Environment), JRE may have to be installed beforehand, depending on the Jupyter environment.",
   "metadata": {
    "tags": [],
    "cell_id": "00003-93320677-efa1-440f-be0a-e1bba653fe19",
    "deepnote_cell_type": "markdown"
   }
  },
  {
   "cell_type": "code",
   "source": "url_github = \"https://raw.githubusercontent.com/AI4BP/ainotes/main\"\nproject_name = \"order-approval-process\"\nurl_data = f\"{url_github}/data/{project_name}\"\nurl_modelling = f\"{url_github}/modelling/{project_name}\"\n\ntry:\n    import sklearn2pmml\nexcept:\n    !pip -qq install sklearn2pmml\n\nfrom sklearn2pmml import _java_version\n\nif _java_version(\"UTF-8\") is None:\n    !sudo apt -qq update > /dev/null\n    !sudo apt -qq install -y default-jre > /dev/null\n\nprint(_java_version(\"UTF-8\"))",
   "metadata": {
    "tags": [],
    "cell_id": "00003-bd6394c3-8415-4b75-a31e-91e5914be33e",
    "deepnote_to_be_reexecuted": false,
    "source_hash": "350a5df3",
    "execution_start": 1637594034000,
    "execution_millis": 2130,
    "output_cleared": true,
    "deepnote_cell_type": "code"
   },
   "outputs": [],
   "execution_count": 1
  },
  {
   "cell_type": "markdown",
   "source": "## 1. Load the CSV File\nLoad the CSV file from GitHub and feed the data into the *data* variable by using [pandas](https://pandas.pydata.org/pandas-docs/stable/reference/api/pandas.read_csv.html). Pandas is intended to be a data analysis and manipulation tool, which is used here and the following steps until dataset separation.",
   "metadata": {
    "cell_id": "00003-0624d79b-6fea-4881-b7ba-dbceee4c79db",
    "id": "ETuIabj8I47A",
    "deepnote_cell_type": "markdown"
   }
  },
  {
   "cell_type": "code",
   "metadata": {
    "cell_id": "00004-0986ee09-6817-4c5e-bc28-4e610710d45c",
    "deepnote_to_be_reexecuted": false,
    "execution_millis": 250,
    "execution_start": 1637594036131,
    "id": "rVcppWD74FP4",
    "source_hash": "5a94d6a2",
    "output_cleared": true,
    "deepnote_cell_type": "code"
   },
   "source": "import pandas\n\ndata = pandas.read_csv(f\"{url_data}/order-approval.csv\", sep = \",\")\n\ndata",
   "execution_count": 2,
   "outputs": []
  },
  {
   "cell_type": "markdown",
   "source": "## 2. Map Categories to Numbers\nIf we investigate the output of the loaded data in the previous step, we see, that **category** and **urgency** are some categorical strings. To feed that data into our ML model, we need to convert and map the categorical strings to numbers. So we map...: \n- category *optional* to 0\n- category *basic* to 1\n- urgency *low* to 0\n- urgency *medium* to 1\n- urgency *high* to 2",
   "metadata": {
    "cell_id": "00005-38715fd4-f6d2-46bc-8070-334953f39c6f",
    "id": "wLYOC5z0KVTW",
    "deepnote_cell_type": "markdown"
   }
  },
  {
   "cell_type": "code",
   "metadata": {
    "cell_id": "00006-d4ad62ab-b1a4-4ba1-a684-31ad1ab15009",
    "deepnote_to_be_reexecuted": false,
    "execution_millis": 25,
    "execution_start": 1637594036379,
    "id": "5n3_Vp9tGrqR",
    "output_cleared": true,
    "source_hash": "2dfb20c8",
    "deepnote_cell_type": "code"
   },
   "source": "category = {'optional': 0,'basic': 1}\ndata.category = [category[item] for item in data.category]\nurgency = {'low': 0,'medium': 1,'high': 2}\ndata.urgency = [urgency[item] for item in data.urgency]\n\ndata",
   "execution_count": 3,
   "outputs": []
  },
  {
   "cell_type": "markdown",
   "source": "## 3. Data Segregation and Feature Selection\nIf we investigate the output of the mapped data in the previous step, we see, that we have **category**, **urgency**, **target price** and actual **price** features with \"input\" data, or in ML terminology **samples/design matrix** usually denoted as **X**.\n\nThe **approved** column is the \"output or decision\" data, or in ML terminology the **target values** denoted as **y**.\n\nFor further processing, we need to segregate **X** and **y** as follows.",
   "metadata": {
    "cell_id": "00007-33cbe1f5-ad27-47d6-b921-9280dda507f1",
    "id": "AXzXRqOQtU-5",
    "deepnote_cell_type": "markdown"
   }
  },
  {
   "cell_type": "code",
   "metadata": {
    "cell_id": "00008-8e379154-b4d4-4e42-bda0-1c3965448363",
    "deepnote_to_be_reexecuted": false,
    "execution_millis": 7,
    "execution_start": 1637594036408,
    "id": "UHCtfFvAss1d",
    "output_cleared": true,
    "source_hash": "5a26a46d",
    "deepnote_cell_type": "code"
   },
   "source": "X_data = data.drop('approved',axis=1)\ny_data = data.approved\n\nprint(\"X Data:\\n\", X_data)\nprint(\"y Data:\\n\", y_data)",
   "execution_count": 4,
   "outputs": []
  },
  {
   "cell_type": "markdown",
   "source": "## 4. Data Partitioning\nTraining or, in ML terminology, fitting a model to data, does not mean that it will produce acceptable predictions on new data. Therefore, we split / partition the data set into a training and a testing set to be able to evaluate the performance. To accomplish this, the function [`train_test_split`](https://scikit-learn.org/stable/modules/generated/sklearn.model_selection.train_test_split.html) of scikit-learn can be used.\n- In the following, we slit the X and y data sets by 60% training and 40% testing sets defined by the `test_size=0.40` parameter.\n- The `random_state=` parameter can be adjusted from `none` to an *int* value for a reproducible output across multiple executions.",
   "metadata": {
    "cell_id": "00009-7b5f407a-7422-4a22-87a9-41ed4da08e1b",
    "id": "trBM0nGkKhsn",
    "deepnote_cell_type": "markdown"
   }
  },
  {
   "cell_type": "code",
   "metadata": {
    "cell_id": "00010-21793625-af33-43e5-ad73-8e45552df563",
    "deepnote_to_be_reexecuted": false,
    "execution_millis": 9,
    "execution_start": 1637594036419,
    "id": "4XvJsAxZGu2y",
    "output_cleared": true,
    "source_hash": "1a30b79",
    "deepnote_cell_type": "code"
   },
   "source": "from sklearn.model_selection import train_test_split\n\nX_train, X_test, y_train, y_test = train_test_split(X_data, y_data, test_size=0.40, random_state=None)\n\nprint(\"X_train:\\n\", X_train)\nprint(\"y_train:\\n\", y_train)\nprint(\"X_test:\\n\", X_test)\nprint(\"y_test:\\n\", y_test)",
   "execution_count": 5,
   "outputs": []
  },
  {
   "cell_type": "markdown",
   "source": "### 🚧 Supplementary Tasks\n1. Try to adjust the split parameter `test_size=`, e.g., 80/20, 70/30, 75/25 or even 50/50.\n2. Investigate what happens when the `random_state=` parameter is, e.g., `0`.",
   "metadata": {
    "cell_id": "00011-ae75f184-bf37-4bf7-b58a-b6ecc31bfb24",
    "id": "egxy546KQMCA",
    "deepnote_cell_type": "markdown"
   }
  },
  {
   "cell_type": "markdown",
   "source": "## 5. Initialize Learner\nNow we are going to initialize the learner for our classification problem. Sklearn provides a vide range of models for supervised and unsupervised learning. Andre Ye (2021) has provided on [Medium, towards data science,](https://towardsdatascience.com/your-ultimate-data-mining-machine-learning-cheat-sheet-9fce3fa16) a nice cheat-sheet for sklearn which can be recommended for further reading. From him, the following Fig 5a has been taken, showcasing a subset of the most important classifiers in sklearn.\n\n![](https://github.com/AI4BP/ainotes/raw/main/ipynb/order-approval-process/images/sklearn%20classifier%20models%20Ye%2C%202021.png)\n\n**Fig 5a**: sklearn classifier models ([Ye, 2021](https://towardsdatascience.com/your-ultimate-data-mining-machine-learning-cheat-sheet-9fce3fa16))",
   "metadata": {
    "cell_id": "00012-ccf7f719-f703-4d94-9639-0fa06b1d0f19",
    "id": "3MisMN8DPARA",
    "deepnote_cell_type": "markdown"
   }
  },
  {
   "cell_type": "markdown",
   "source": "### Logistic Regression\n\nOur default model in this tutorial will be a linear model called `LogisticRegression`. Even if the name suggests otherwise, this is a linear model for classification rather than regression.\n\n> Classification vs. regression: **classification** is about predicting an assignment to a **class**, whereas **regression** is about predicting a certain **score**. \n\nSo we are going to initialize a logistic regression (logit) model from scikit-learn by importing and using [`LogisticRegression`](https://scikit-learn.org/stable/modules/generated/sklearn.linear_model.LogisticRegression.html) with the following parameters:\n- `max_iter=1000` defines the maximum number of iterations taken for the solvers to converge.\n- `multi_class='auto'` is automatically selecting an appropriate approach; in binary situations, it uses the one-vs-rest (OvR) approach.\n",
   "metadata": {
    "cell_id": "00013-cf2aa635-ba5b-44fb-bebc-ecc4ed954d03",
    "id": "WDwdMVOFLKXC",
    "deepnote_cell_type": "markdown"
   }
  },
  {
   "cell_type": "code",
   "metadata": {
    "cell_id": "00014-12e31467-d22d-4c17-83b3-9ae3f028979b",
    "deepnote_to_be_reexecuted": false,
    "execution_millis": 4,
    "execution_start": 1637594036453,
    "id": "h8pt4Rk5G1Bq",
    "output_cleared": true,
    "source_hash": "51684b9b",
    "deepnote_cell_type": "code"
   },
   "source": "from sklearn.linear_model import LogisticRegression\n\nmodel = LogisticRegression(max_iter=1000, multi_class='auto')\n\nprint(\"Model: \", model)",
   "execution_count": 6,
   "outputs": []
  },
  {
   "cell_type": "markdown",
   "source": "### 🚧 Supplementary Tasks\nTry to experiment with other classification models from sklearn as well (you have to uncomment it):",
   "metadata": {
    "cell_id": "00015-cb50809d-b115-44e7-ab3f-592f4eb18875",
    "id": "xGw7HiJwQtB4",
    "deepnote_cell_type": "markdown"
   }
  },
  {
   "cell_type": "code",
   "metadata": {
    "cell_id": "00016-8e681d7e-12be-408c-a494-5d747e084c9a",
    "id": "U9c5Mx57G9Ph",
    "deepnote_to_be_reexecuted": false,
    "source_hash": "32eb425d",
    "execution_start": 1637594036454,
    "execution_millis": 0,
    "output_cleared": true,
    "deepnote_cell_type": "code"
   },
   "source": "# from sklearn.tree import DecisionTreeClassifier\n# model = DecisionTreeClassifier()",
   "execution_count": 7,
   "outputs": []
  },
  {
   "cell_type": "code",
   "metadata": {
    "cell_id": "00017-adeb3c02-6dd2-4009-826f-3c6a10fcd794",
    "id": "CBVxmGdajsw-",
    "deepnote_to_be_reexecuted": false,
    "source_hash": "5dffd04",
    "execution_start": 1637594036454,
    "execution_millis": 1,
    "output_cleared": true,
    "deepnote_cell_type": "code"
   },
   "source": "# from sklearn.svm import SVC\n# model = SVC()",
   "execution_count": 8,
   "outputs": []
  },
  {
   "cell_type": "code",
   "metadata": {
    "cell_id": "00018-7a6c6e96-f8d0-47e3-8d47-ddb89b26e761",
    "id": "BKHwN0nsjwPi",
    "deepnote_to_be_reexecuted": false,
    "source_hash": "56171fdd",
    "execution_start": 1637594036456,
    "execution_millis": 3,
    "output_cleared": true,
    "deepnote_cell_type": "code"
   },
   "source": "# from sklearn.naive_bayes import GaussianNB\n# model = GaussianNB()",
   "execution_count": 9,
   "outputs": []
  },
  {
   "cell_type": "code",
   "metadata": {
    "cell_id": "00019-243c5d48-7e03-42bf-b80d-2c7bbb2836de",
    "id": "qCIPSciUjyGQ",
    "deepnote_to_be_reexecuted": false,
    "source_hash": "84c0426c",
    "execution_start": 1637594036460,
    "execution_millis": 1,
    "output_cleared": true,
    "deepnote_cell_type": "code"
   },
   "source": "# from sklearn.neighbors import KNeighborsClassifier\n# model = KNeighborsClassifier()",
   "execution_count": 10,
   "outputs": []
  },
  {
   "cell_type": "markdown",
   "source": "> ‼️ You can only initialize one model per run of the pipeline.",
   "metadata": {
    "cell_id": "00020-c34906d6-fb79-435a-8f27-9b9b6de33fdc",
    "id": "M1WtEuqWkU0Z",
    "deepnote_cell_type": "markdown"
   }
  },
  {
   "cell_type": "markdown",
   "source": "## 6. Tune Class Weights\nThe author, Donato Marrazzo (Red Hat, Inc.), of the article ([[2]](https://developers.redhat.com/blog/2021/01/14/knowledge-meets-machine-learning-for-smarter-decisions-part-1#conclusion)) from which this dataset is from had an interesting idea. It maybe would be better to reject a correct expense claim than to accept an incorrect one, as rejected expense claims can be re-verified by humans. Therefore, one could try to reduce the weight of accepted expense claims.\n\nTherefore, it might be worth considering setting the weight of rejected (`False`) claims to 1 (`False : 1`) and that of accepted (`True`) cases to about 0.6 (`True : 0.6`).\n",
   "metadata": {
    "cell_id": "00021-1a1ed712-d448-40ed-990a-847c4d3997c4",
    "id": "Qz6qiXWAj8wY",
    "deepnote_cell_type": "markdown"
   }
  },
  {
   "cell_type": "code",
   "metadata": {
    "cell_id": "00022-ef03212e-e2fe-4e6c-b22f-ba6465d34b79",
    "deepnote_to_be_reexecuted": false,
    "execution_millis": 8,
    "execution_start": 1637594036507,
    "id": "3AdUg58NHN2J",
    "output_cleared": true,
    "source_hash": "1cb62d1",
    "deepnote_cell_type": "code"
   },
   "source": "model.class_weight ={\n    False : 1,\n    True : 0.6\n}\n\nprint(\"Model: \", model)",
   "execution_count": 11,
   "outputs": []
  },
  {
   "cell_type": "markdown",
   "source": "### 🚧 Supplementary Tasks\n\nTry experimenting with other weight values as well.",
   "metadata": {
    "cell_id": "00023-cd3b3f64-6645-4985-a722-04dc96afa679",
    "id": "_nlWoofZ1Sxi",
    "deepnote_cell_type": "markdown"
   }
  },
  {
   "cell_type": "markdown",
   "source": "## 7. Train Model\nNow we can train the configured model on the training set by using the sklearn `fit` method.",
   "metadata": {
    "cell_id": "00024-a1adc119-dacf-4b03-b384-5e8b0bd3b2d6",
    "id": "dfQUl4mx1ggh",
    "deepnote_cell_type": "markdown"
   }
  },
  {
   "cell_type": "code",
   "metadata": {
    "cell_id": "00025-bd91a2de-2fcb-44f1-a887-3d813548567f",
    "deepnote_to_be_reexecuted": false,
    "execution_millis": 91,
    "execution_start": 1637594036508,
    "id": "rjDLhNHsHVlz",
    "output_cleared": true,
    "source_hash": "69d3b53d",
    "deepnote_output_heights": [
     21.199996948242188
    ],
    "deepnote_cell_type": "code"
   },
   "source": "model.fit(X_train, y_train)",
   "execution_count": 12,
   "outputs": []
  },
  {
   "cell_type": "markdown",
   "source": "## 8. Make Predictions\n\nAfter training, we can use our testing set to make predictions by using the `predict` method sklearn. With the prediction, we can now retrieve and calculate performance metrics.",
   "metadata": {
    "cell_id": "00026-6e8a25fa-bb30-4cff-bfa4-f02cc2ff28ce",
    "id": "DSWa4xZU17qN",
    "deepnote_cell_type": "markdown"
   }
  },
  {
   "cell_type": "code",
   "metadata": {
    "cell_id": "00027-3bace296-17fc-4a98-a65d-9711edacc715",
    "deepnote_to_be_reexecuted": false,
    "execution_millis": 10,
    "execution_start": 1637594036601,
    "id": "rcu9urPpHYRz",
    "output_cleared": true,
    "source_hash": "f7bd19fe",
    "deepnote_cell_type": "code"
   },
   "source": "y_pred = model.predict(X_test)\n\nprint(\"Predictions (y): \", y_pred)",
   "execution_count": 13,
   "outputs": []
  },
  {
   "cell_type": "markdown",
   "source": "## 9. Scoring\nUsing various scoring metrics, we can examine how well the trained model performs on the test set.",
   "metadata": {
    "cell_id": "00028-73d4325a-0f2b-44bc-a811-458b975ff80a",
    "id": "4gWLPieRliOL",
    "deepnote_cell_type": "markdown"
   }
  },
  {
   "cell_type": "markdown",
   "source": "### 9.1 Precision, Recall, F1 and Accuracy\nIn the following, multiple methods of sklearn are used to get overall precision, recall, F1 and overall accuracy.\n\n\n> In a binary classification, the precision indicates the ratio of correctly predicted positive results (TP) in relation to the total of all results predicted as positive (TP + FP). The recall indicates the ratio of results correctly classified as positive (TP) in relation to the total of actually positive results (TP + FN).\n\n\n> In general, the F1 score is the mean of precision and recall. The accuracy score assesses the accuracy of the correct predictions.",
   "metadata": {
    "cell_id": "00029-97357db6-74cb-473b-a8e3-9bdd6ce1d518",
    "id": "vf8hL2NoMiqT",
    "deepnote_cell_type": "markdown"
   }
  },
  {
   "cell_type": "code",
   "metadata": {
    "cell_id": "00030-0537b439-a5f5-49ac-afca-cfdc20cf1619",
    "deepnote_to_be_reexecuted": false,
    "execution_millis": 23,
    "execution_start": 1637594036678,
    "id": "XwoHVCa4HbMy",
    "output_cleared": true,
    "source_hash": "cc84366",
    "deepnote_cell_type": "code"
   },
   "source": "from sklearn.metrics import recall_score, precision_score, f1_score, accuracy_score\n\nRS = recall_score(y_test, y_pred)\nprint(f\"Recall Score (RS): {100 * RS:.2f}%\")\n\nPS = precision_score(y_test, y_pred)\nprint(f\"Precision Score (PS): {100 * PS:.2f}%\")\n\nF1 = f1_score(y_test, y_pred)\nprint(f\"F1: {100 * F1:.2f}%\")\n\nAS = accuracy_score(y_test, y_pred)\nprint(f\"Accuracy Score (AS): {100 * AS:.2f}%\")",
   "execution_count": 14,
   "outputs": []
  },
  {
   "cell_type": "markdown",
   "source": "In the following, a classification report can be generated by using the `classification_report` method of sklearn to get precision, recall and F1 on each class or label.",
   "metadata": {
    "cell_id": "00031-e37ea229-bae0-468b-871e-c285cfd15d1c",
    "id": "ksM79E-Tzfco",
    "deepnote_cell_type": "markdown"
   }
  },
  {
   "cell_type": "code",
   "metadata": {
    "cell_id": "00032-cfb58762-ca7a-4636-865d-f3720e8e8a1e",
    "deepnote_to_be_reexecuted": false,
    "execution_millis": 1597878,
    "execution_start": 1637594036737,
    "id": "gJmYhVCFK7fe",
    "output_cleared": true,
    "source_hash": "276f56dd",
    "deepnote_cell_type": "code"
   },
   "source": "from sklearn.metrics import classification_report\n\nCR = classification_report(y_test, y_pred)\n\nprint(\"Classification Report (CR):\\n\", CR)",
   "execution_count": 15,
   "outputs": []
  },
  {
   "cell_type": "markdown",
   "source": "### 9.2 Confusion Matrix\nIn the following, a confusion matrix can be generated by using the `confusion_matrix` method of sklearn.\n\n> In binary classification problems, the confusion matrix consists of the number of true positive (TP), true negative (TN), false positive (FP) and false negative (FN) predictions.",
   "metadata": {
    "cell_id": "00033-9fa32cd9-7c26-4d34-b575-777337be5fca",
    "id": "GCHNmuuo6HaU",
    "deepnote_cell_type": "markdown"
   }
  },
  {
   "cell_type": "code",
   "metadata": {
    "cell_id": "00034-911a841e-c1ed-473a-81a9-fc012086c113",
    "deepnote_to_be_reexecuted": false,
    "execution_millis": 2,
    "execution_start": 1637594036738,
    "id": "KhfWmimb6N3V",
    "output_cleared": true,
    "source_hash": "dc46b947",
    "deepnote_cell_type": "code"
   },
   "source": "from sklearn.metrics import confusion_matrix\n\nCM = confusion_matrix(y_test, y_pred)\n\nprint(\"Confusion Matrix (CM):\\n\", CM)",
   "execution_count": 16,
   "outputs": []
  },
  {
   "cell_type": "markdown",
   "source": "The generated confusion matrix can be plotted with `ConfusionMatrixDisplay` of sklearn.",
   "metadata": {
    "cell_id": "00035-03838af6-ab9e-413d-bf41-298e5a110ead",
    "id": "DJyoUg3xRg0O",
    "deepnote_cell_type": "markdown"
   }
  },
  {
   "cell_type": "code",
   "metadata": {
    "cell_id": "00036-1f25031c-e661-43ae-ad8d-c3ed71236c7a",
    "colab": {
     "base_uri": "https://localhost:8080/",
     "height": 297
    },
    "deepnote_to_be_reexecuted": false,
    "execution_millis": 773,
    "execution_start": 1637594036739,
    "id": "F4KieqbA6dCX",
    "outputId": "906af494-f8bb-4e9c-a08e-35b9deb56856",
    "source_hash": "b5d274d",
    "deepnote_output_heights": [
     21.199996948242188,
     264
    ],
    "output_cleared": true,
    "deepnote_cell_type": "code"
   },
   "source": "from sklearn.metrics import ConfusionMatrixDisplay\n\ndisp = ConfusionMatrixDisplay(confusion_matrix=CM, display_labels=model.classes_)\ndisp.plot(values_format='')",
   "execution_count": 17,
   "outputs": []
  },
  {
   "cell_type": "markdown",
   "source": "#### Interpreting the Confusion Matrix\nIn a binary classification problem (as it is the case in this application scenario), one can interpret the plot as follows:\n- Top-right: Number of cases where they actually not have a true label and the true label was predicted. So it is (**FP**) **F**alse that it is true (**P**ositive). In our case, we must minimize this!\n- Bottom-left: Number of cases where they actually have a true label and the true label was not predicted. So it is (**FN**) **F**alse that it is false (**N**egative). In our case, we maybe can minimize this.\n- Top-left: Number of cases where they actually not have a true label and the true label was not predicted. So it is (**TN**) **T**rue that it is false (**N**egative).\n- Bottom-right: Number of cases where they actually have the true label and the true label was predicted. So it is (**TP**) **T**rue that it is true (**P**ositive).",
   "metadata": {
    "cell_id": "00037-8839a812-b4b6-4a8a-905b-6f84ced8cb4d",
    "id": "-E3zQl_zAGkF",
    "deepnote_cell_type": "markdown"
   }
  },
  {
   "cell_type": "markdown",
   "source": "## 10. PMML Export\nFinally, the trained model can now be exported with the library [sklearn2pmml](https://github.com/jpmml/sklearn2pmml) to PMML.\n\n",
   "metadata": {
    "cell_id": "00038-b06af6be-6908-4839-9225-d7e9d03e7afd",
    "id": "87LVknNFM_kt",
    "deepnote_cell_type": "markdown"
   }
  },
  {
   "cell_type": "code",
   "metadata": {
    "cell_id": "00041-1a03cd9a-bede-443e-867e-f97c37908f47",
    "deepnote_to_be_reexecuted": false,
    "execution_millis": 2300,
    "execution_start": 1637594037512,
    "id": "DKrwTdECHurK",
    "source_hash": "ae778c69",
    "output_cleared": true,
    "deepnote_cell_type": "code"
   },
   "source": "import sklearn2pmml\n\npmml_file_name = \"order-approval-sklearn.pmml\"\n\nfrom sklearn2pmml import make_pmml_pipeline, sklearn2pmml\n\npipeline = make_pmml_pipeline(\n    model,\n    active_fields= [\"category\", \"urgency\", \"targetPrice\", \"price\"],\n    target_fields= [\"approved\"]\n)\nsklearn2pmml(pipeline, pmml_file_name)",
   "execution_count": 18,
   "outputs": []
  },
  {
   "cell_type": "markdown",
   "source": "## 11. PMML Deployment\nAfter we have created the PMML file, we can upload it with the follwing code:",
   "metadata": {
    "tags": [],
    "cell_id": "00043-d03ecf70-88d2-47a3-b335-e031fa071dbd",
    "deepnote_cell_type": "markdown"
   }
  },
  {
   "cell_type": "code",
   "metadata": {
    "tags": [],
    "cell_id": "00043-669232b2-cc87-470d-8e78-1490b7055993",
    "deepnote_to_be_reexecuted": false,
    "source_hash": "a78ea424",
    "execution_start": 1637594039817,
    "execution_millis": 391,
    "deepnote_output_heights": [
     21.199996948242188
    ],
    "output_cleared": true,
    "deepnote_cell_type": "code"
   },
   "source": "import requests\n\ncamunda_eninge_rest = \"https://digibp.herokuapp.com/engine-rest/deployment/create\"\n\nrequest_file = {\n    pmml_file_name: (pmml_file_name, open(pmml_file_name, \"rb\"))\n}\n\nrequest_data = {\n    \"tenant-id\": \"showcase\",\n}\n\nresponse = requests.post(camunda_eninge_rest, files=request_file, data=request_data)\ndeployment_id = response.json()[\"id\"]\n\nprint(deployment_id)",
   "execution_count": 19,
   "outputs": []
  },
  {
   "cell_type": "markdown",
   "source": "### 🔀 Alternative Way\nAs an alternative approach, we can upload the PMML file to the Camunda Platform with the Camunda Modeler as shown in Fig 11.\n\n![](https://github.com/AI4BP/ainotes/raw/main/ipynb/order-approval-process/images/order-approval-camunda-pmml-deploy.png)\n\n**Fig 11**: deployment of a PMML file with the Camunda Modeler\n\nFor the next step 11, we may need to investigate the `deployment-id` of the deployments within the Camunda Platform Cockpit.",
   "metadata": {
    "cell_id": "00042-ff77e942-df9c-486b-aa92-22874dfd450e",
    "deepnote_cell_type": "markdown"
   }
  },
  {
   "cell_type": "markdown",
   "source": "## 12. PMML Testing\nFor executing the PMML files together with a Camunda Workflow, we can use the provided classroom instantiation, which has been extended with `jpmml`, the [Java PMML API](https://github.com/jpmml). Now can use the obtained `deployment-id` to construct the `requests` url - **so please change the following** `deployment_id`.",
   "metadata": {
    "cell_id": "00043-40ffb424-3824-49db-81e3-34007cf06001",
    "tags": [],
    "deepnote_cell_type": "markdown"
   }
  },
  {
   "cell_type": "code",
   "metadata": {
    "cell_id": "00044-064fe01b-5636-4c42-9d7a-51941b39418f",
    "deepnote_to_be_reexecuted": false,
    "execution_millis": 3,
    "execution_start": 1637594040253,
    "output_cleared": true,
    "source_hash": "3dde8b75",
    "tags": [],
    "deepnote_cell_type": "code"
   },
   "source": "try: deployment_id\nexcept: deployment_id = \"f85423d8-47e1-11ec-834e-eea2248ab9a4\" # please change the deployment-id!\n\nevaluate_url = f\"https://digibp.herokuapp.com/pmml/{deployment_id}/{pmml_file_name}/evaluate\"\n\nprint(evaluate_url)",
   "execution_count": 20,
   "outputs": []
  },
  {
   "cell_type": "markdown",
   "source": "Now we are ready to send a `GET` request to the DigiBP PMML API to retrieve our input variable structure of our deployed PMML file.",
   "metadata": {
    "cell_id": "00045-10c45c6c-74fc-483c-8bd3-192be786d3d5",
    "tags": [],
    "deepnote_cell_type": "markdown"
   }
  },
  {
   "cell_type": "code",
   "metadata": {
    "cell_id": "00044-b02ec0e7-086f-444a-ba6b-95f88f1ec626",
    "deepnote_to_be_reexecuted": false,
    "execution_millis": 278,
    "execution_start": 1637594040254,
    "source_hash": "60af51ae",
    "tags": [],
    "output_cleared": true,
    "deepnote_cell_type": "code"
   },
   "source": "import requests, json\n\nresponse = requests.get(f\"{evaluate_url}/generate-input\")\n\nprint(json.dumps(response.json(), indent=2))",
   "execution_count": 21,
   "outputs": []
  },
  {
   "cell_type": "markdown",
   "source": "Finally, in this step, we can copy-and-paste the input variable structure from above as input to the `payload` variable and adjust the values.",
   "metadata": {
    "cell_id": "00047-ba16235c-7429-4d2c-b9fc-5cf2083e8851",
    "tags": [],
    "deepnote_cell_type": "markdown"
   }
  },
  {
   "cell_type": "code",
   "metadata": {
    "cell_id": "00045-316e8c36-41a3-4cb7-9d6b-b7194440d6fa",
    "deepnote_to_be_reexecuted": false,
    "execution_millis": 316,
    "execution_start": 1637594040538,
    "source_hash": "a6f1a75a",
    "tags": [],
    "output_cleared": true,
    "deepnote_cell_type": "code"
   },
   "source": "payload = {\n  \"variables\": {\n    \"targetPrice\": 520,\n    \"urgency\": 0,\n    \"price\": 480,\n    \"category\": 1\n  }\n}\n\nresponse = requests.post(evaluate_url, json=payload)\n\nprint(json.dumps(response.json(), indent=2))",
   "execution_count": 22,
   "outputs": []
  },
  {
   "cell_type": "markdown",
   "source": "We now should have received a possible output (prediction) of the PMML evaluation. In this use case, we should receive an `approved` variable, which is of type `Boolean`.",
   "metadata": {
    "cell_id": "00049-dfd6c73c-a79c-4832-a8fc-6b3dce16b222",
    "tags": [],
    "deepnote_cell_type": "markdown"
   }
  },
  {
   "cell_type": "markdown",
   "source": "### 🔀 Alternative Way\nThis step is an alternative approach by using a Swagger UI. The provided classroom instantiation provides an own basic testing Swagger UI. This [PMML API Swagger UI](https://digibp.herokuapp.com/swagger-ui/#/pmmlapi) gives us the possibility, to `generate-input` fields and `evaluate` our PMML model as depicted in Fig 12.\n\n![](https://github.com/AI4BP/ainotes/raw/main/ipynb/order-approval-process/images/camunda-pmml-api.png)\n\n**Fig 12**: PMML API Swagger UI",
   "metadata": {
    "tags": [],
    "cell_id": "00052-ceb9f95e-6927-4946-90d9-06c0821bf8d3",
    "deepnote_cell_type": "markdown"
   }
  },
  {
   "cell_type": "markdown",
   "source": "## 13. Decision Task and PMML Connector\nWith the configuration insights from the PMML API, one can now configure the decision task within the BPMN model by using the Camunda Modeler. The classroom instantiation has been extended with a specific Camunda Connector for PMML, which can be used to execute a PMML model, provide input data from workflow variables and pass on output data (predictions) to workflow variables. Fig 13 shows the configurations required on the `order-approval-sklearn-init.bpmn` ([download BPMN model - here](https://ghcdn.rawgit.org/AI4BP/ainotes/main/ipynb/order-approval-process/modelling/order-approval-sklearn-init.bpmn)) process.\n\n![](https://github.com/AI4BP/ainotes/raw/main/ipynb/order-approval-process/images/order-approval-camunda-pmml.png)\n\n**Fig 13**: PMML-connector configuration in Camunda Modeler",
   "metadata": {
    "cell_id": "00043-a4998860-b4a0-46fd-9c6f-1d626d6297dc",
    "deepnote_cell_type": "markdown"
   }
  },
  {
   "cell_type": "markdown",
   "source": "## 14. DMN Variable Mapping and Deployment\nIn step 2 we mapped the text values to numerical values. We now have to map these in the process as shown in Fig 14a, as we are working with strings in the workflow.\n\n![](https://github.com/AI4BP/ainotes/raw/main/ipynb/order-approval-process/images/automatic-approval-mapping-urgency.png)\n\n**Fig 14a**: variable mapping in DMN\n\nThen download the `automatic-approval-mapping.dmn` ([download DMN model - here](https://ghcdn.rawgit.org/AI4BP/ainotes/main/ipynb/order-approval-process/modelling/automatic-approval-mapping.dmn)).\n\nFinally, you can upload the entire package as shown in Fig 14b, consisting of the BPMN, the DMN and the PMML file to the server and start the process.\n\n![](https://raw.githubusercontent.com/AI4BP/ainotes/main/ipynb/order-approval-process/images/order-approval-camunda-pmml-deploy.png)\n\n**Fig 14b**: deployment of the a BPMN, DMN and PMML file with the Camunda Modeler",
   "metadata": {
    "cell_id": "00051-142cd904-ee5d-41d8-a44a-156bffbc8d16",
    "deepnote_cell_type": "markdown"
   }
  },
  {
   "cell_type": "markdown",
   "source": "### 🔀 Alternative Way\nInstead of using the Camunda Modeler to configure the rule task in the BPMN model, we can deploy the entire package including the pre-configured BPMN file by executing the following code.",
   "metadata": {
    "tags": [],
    "cell_id": "00054-b3260534-5ba0-4303-a2a7-f8af641c23ec",
    "deepnote_cell_type": "markdown"
   }
  },
  {
   "cell_type": "code",
   "metadata": {
    "tags": [],
    "cell_id": "00052-6418901b-55ac-4c8a-bf6c-f97254bf1736",
    "deepnote_to_be_reexecuted": false,
    "source_hash": "1d7b60d4",
    "execution_start": 1637594040855,
    "execution_millis": 811,
    "deepnote_output_heights": [
     611
    ],
    "output_cleared": true,
    "deepnote_cell_type": "code"
   },
   "source": "import requests\n\nbpmn_file_name = \"order-approval-sklearn.bpmn\"\nbpmn_file = requests.get(f\"{url_modelling}/{bpmn_file_name}\")\ndmn_file_name = \"automatic-approval-mapping.dmn\"\ndmn_file = requests.get(f\"{url_modelling}/{dmn_file_name}\")\n\nfiles = {pmml_file_name:open(pmml_file_name, \"rb\"), bpmn_file_name:bpmn_file.content, dmn_file_name:dmn_file.content}\n\nrequest_data = {\n     \"tenant-id\" : \"showcase\",\n}\n\nresponse = requests.post(camunda_eninge_rest, files=files, data=request_data)\ndeployment_id = response.json()[\"id\"]\n\nprint(deployment_id)",
   "execution_count": 23,
   "outputs": []
  },
  {
   "cell_type": "markdown",
   "source": "## 15. Conclusion\n🎉 Now, finally, we can instantiate and run the process from the Camunda Platform task list.",
   "metadata": {
    "tags": [],
    "cell_id": "00057-fa5a6730-ead2-4bd6-89a2-3ca4f5e14243",
    "deepnote_cell_type": "markdown"
   }
  },
  {
   "cell_type": "markdown",
   "source": "<a style='text-decoration:none;line-height:16px;display:flex;color:#5B5B62;padding:10px;justify-content:end;' href='https://deepnote.com?utm_source=created-in-deepnote-cell&projectId=3cfa0341-d9ff-404f-9c44-bcc446a7617d' target=\"_blank\">\n<img alt='Created in deepnote.com' style='display:inline;max-height:16px;margin:0px;margin-right:7.5px;' src='data:image/svg+xml;base64,PD94bWwgdmVyc2lvbj0iMS4wIiBlbmNvZGluZz0iVVRGLTgiPz4KPHN2ZyB3aWR0aD0iODBweCIgaGVpZ2h0PSI4MHB4IiB2aWV3Qm94PSIwIDAgODAgODAiIHZlcnNpb249IjEuMSIgeG1sbnM9Imh0dHA6Ly93d3cudzMub3JnLzIwMDAvc3ZnIiB4bWxuczp4bGluaz0iaHR0cDovL3d3dy53My5vcmcvMTk5OS94bGluayI+CiAgICA8IS0tIEdlbmVyYXRvcjogU2tldGNoIDU0LjEgKDc2NDkwKSAtIGh0dHBzOi8vc2tldGNoYXBwLmNvbSAtLT4KICAgIDx0aXRsZT5Hcm91cCAzPC90aXRsZT4KICAgIDxkZXNjPkNyZWF0ZWQgd2l0aCBTa2V0Y2guPC9kZXNjPgogICAgPGcgaWQ9IkxhbmRpbmciIHN0cm9rZT0ibm9uZSIgc3Ryb2tlLXdpZHRoPSIxIiBmaWxsPSJub25lIiBmaWxsLXJ1bGU9ImV2ZW5vZGQiPgogICAgICAgIDxnIGlkPSJBcnRib2FyZCIgdHJhbnNmb3JtPSJ0cmFuc2xhdGUoLTEyMzUuMDAwMDAwLCAtNzkuMDAwMDAwKSI+CiAgICAgICAgICAgIDxnIGlkPSJHcm91cC0zIiB0cmFuc2Zvcm09InRyYW5zbGF0ZSgxMjM1LjAwMDAwMCwgNzkuMDAwMDAwKSI+CiAgICAgICAgICAgICAgICA8cG9seWdvbiBpZD0iUGF0aC0yMCIgZmlsbD0iIzAyNjVCNCIgcG9pbnRzPSIyLjM3NjIzNzYyIDgwIDM4LjA0NzY2NjcgODAgNTcuODIxNzgyMiA3My44MDU3NTkyIDU3LjgyMTc4MjIgMzIuNzU5MjczOSAzOS4xNDAyMjc4IDMxLjY4MzE2ODMiPjwvcG9seWdvbj4KICAgICAgICAgICAgICAgIDxwYXRoIGQ9Ik0zNS4wMDc3MTgsODAgQzQyLjkwNjIwMDcsNzYuNDU0OTM1OCA0Ny41NjQ5MTY3LDcxLjU0MjI2NzEgNDguOTgzODY2LDY1LjI2MTk5MzkgQzUxLjExMjI4OTksNTUuODQxNTg0MiA0MS42NzcxNzk1LDQ5LjIxMjIyODQgMjUuNjIzOTg0Niw0OS4yMTIyMjg0IEMyNS40ODQ5Mjg5LDQ5LjEyNjg0NDggMjkuODI2MTI5Niw0My4yODM4MjQ4IDM4LjY0NzU4NjksMzEuNjgzMTY4MyBMNzIuODcxMjg3MSwzMi41NTQ0MjUgTDY1LjI4MDk3Myw2Ny42NzYzNDIxIEw1MS4xMTIyODk5LDc3LjM3NjE0NCBMMzUuMDA3NzE4LDgwIFoiIGlkPSJQYXRoLTIyIiBmaWxsPSIjMDAyODY4Ij48L3BhdGg+CiAgICAgICAgICAgICAgICA8cGF0aCBkPSJNMCwzNy43MzA0NDA1IEwyNy4xMTQ1MzcsMC4yNTcxMTE0MzYgQzYyLjM3MTUxMjMsLTEuOTkwNzE3MDEgODAsMTAuNTAwMzkyNyA4MCwzNy43MzA0NDA1IEM4MCw2NC45NjA0ODgyIDY0Ljc3NjUwMzgsNzkuMDUwMzQxNCAzNC4zMjk1MTEzLDgwIEM0Ny4wNTUzNDg5LDc3LjU2NzA4MDggNTMuNDE4MjY3Nyw3MC4zMTM2MTAzIDUzLjQxODI2NzcsNTguMjM5NTg4NSBDNTMuNDE4MjY3Nyw0MC4xMjg1NTU3IDM2LjMwMzk1NDQsMzcuNzMwNDQwNSAyNS4yMjc0MTcsMzcuNzMwNDQwNSBDMTcuODQzMDU4NiwzNy43MzA0NDA1IDkuNDMzOTE5NjYsMzcuNzMwNDQwNSAwLDM3LjczMDQ0MDUgWiIgaWQ9IlBhdGgtMTkiIGZpbGw9IiMzNzkzRUYiPjwvcGF0aD4KICAgICAgICAgICAgPC9nPgogICAgICAgIDwvZz4KICAgIDwvZz4KPC9zdmc+' > </img>\nCreated in <span style='font-weight:600;margin-left:4px;'>Deepnote</span></a>",
   "metadata": {
    "tags": [],
    "created_in_deepnote_cell": true,
    "deepnote_cell_type": "markdown"
   }
  }
 ],
 "nbformat": 4,
 "nbformat_minor": 0,
 "metadata": {
  "colab": {
   "collapsed_sections": [],
   "name": "ML Getting Started.ipynb",
   "provenance": []
  },
  "deepnote": {},
  "deepnote_execution_queue": [],
  "deepnote_notebook_id": "66b9f8a3-822e-4650-8c6c-9c876c3e0061",
  "kernelspec": {
   "display_name": "Python 3",
   "name": "python3"
  },
  "language_info": {
   "name": "python"
  }
 }
}