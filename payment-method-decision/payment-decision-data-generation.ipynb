{
 "cells": [
  {
   "cell_type": "code",
   "source": "import numpy as np\nimport pandas as pd\n\nsize = 5000\ndf = pd.DataFrame(columns=['Amount', 'Means', 'Business'])\ndf['Amount'] = np.random.choice(np.arange(1,10001), size=size, p=np.append(np.append(np.repeat(0.5/2000, 2000), np.repeat(0.4/5000, 5000)), np.repeat(0.1/3000, 3000)))\ndf['Means'] = np.random.choice([\"Invoice\", \"Cash\", \"Card\"], size=size, p=[0.50, 0.40, 0.10])\ndf['Business'] = np.random.choice([True, False], size=size, p=[0.70, 0.30])\n\ndf",
   "metadata": {
    "cell_id": "424f2b03a0bc4852bd2c317429c49462",
    "tags": [],
    "deepnote_to_be_reexecuted": false,
    "source_hash": "7e23d96e",
    "execution_start": 1663171708252,
    "execution_millis": 42,
    "deepnote_table_state": {
     "pageSize": 10,
     "pageIndex": 499,
     "filters": [],
     "sortBy": []
    },
    "deepnote_table_loading": false,
    "deepnote_cell_type": "code",
    "deepnote_cell_height": 762,
    "deepnote_output_heights": [
     20
    ]
   },
   "outputs": [
    {
     "output_type": "execute_result",
     "execution_count": 1,
     "data": {
      "application/vnd.deepnote.dataframe.v3+json": {
       "column_count": 3,
       "row_count": 5000,
       "columns": [
        {
         "name": "Amount",
         "dtype": "int64",
         "stats": {
          "unique_count": 3595,
          "nan_count": 0,
          "min": "1",
          "max": "9997",
          "histogram": [
           {
            "bin_start": 1,
            "bin_end": 1000.6,
            "count": 1260
           },
           {
            "bin_start": 1000.6,
            "bin_end": 2000.2,
            "count": 1223
           },
           {
            "bin_start": 2000.2,
            "bin_end": 2999.8,
            "count": 391
           },
           {
            "bin_start": 2999.8,
            "bin_end": 3999.4,
            "count": 433
           },
           {
            "bin_start": 3999.4,
            "bin_end": 4999,
            "count": 432
           },
           {
            "bin_start": 4999,
            "bin_end": 5998.6,
            "count": 403
           },
           {
            "bin_start": 5998.6,
            "bin_end": 6998.2,
            "count": 381
           },
           {
            "bin_start": 6998.2,
            "bin_end": 7997.8,
            "count": 160
           },
           {
            "bin_start": 7997.8,
            "bin_end": 8997.4,
            "count": 157
           },
           {
            "bin_start": 8997.4,
            "bin_end": 9997,
            "count": 160
           }
          ]
         }
        },
        {
         "name": "Means",
         "dtype": "object",
         "stats": {
          "unique_count": 3,
          "nan_count": 0,
          "categories": [
           {
            "name": "Invoice",
            "count": 2537
           },
           {
            "name": "Cash",
            "count": 1947
           },
           {
            "name": "Card",
            "count": 516
           }
          ]
         }
        },
        {
         "name": "Business",
         "dtype": "bool",
         "stats": {
          "unique_count": 2,
          "nan_count": 0,
          "categories": [
           {
            "name": "True",
            "count": 3499
           },
           {
            "name": "False",
            "count": 1501
           }
          ]
         }
        },
        {
         "name": "_deepnote_index_column",
         "dtype": "int64"
        }
       ],
       "rows": [
        {
         "Amount": "5430",
         "Means": "Invoice",
         "Business": "True",
         "_deepnote_index_column": "4990"
        },
        {
         "Amount": "4984",
         "Means": "Card",
         "Business": "False",
         "_deepnote_index_column": "4991"
        },
        {
         "Amount": "1197",
         "Means": "Cash",
         "Business": "False",
         "_deepnote_index_column": "4992"
        },
        {
         "Amount": "27",
         "Means": "Invoice",
         "Business": "True",
         "_deepnote_index_column": "4993"
        },
        {
         "Amount": "2523",
         "Means": "Invoice",
         "Business": "True",
         "_deepnote_index_column": "4994"
        },
        {
         "Amount": "325",
         "Means": "Invoice",
         "Business": "True",
         "_deepnote_index_column": "4995"
        },
        {
         "Amount": "1804",
         "Means": "Invoice",
         "Business": "False",
         "_deepnote_index_column": "4996"
        },
        {
         "Amount": "1937",
         "Means": "Cash",
         "Business": "True",
         "_deepnote_index_column": "4997"
        },
        {
         "Amount": "1165",
         "Means": "Invoice",
         "Business": "True",
         "_deepnote_index_column": "4998"
        },
        {
         "Amount": "5495",
         "Means": "Invoice",
         "Business": "True",
         "_deepnote_index_column": "4999"
        }
       ]
      },
      "text/plain": "      Amount    Means  Business\n0       8436     Card      True\n1        110     Cash     False\n2       1771  Invoice      True\n3       4716  Invoice     False\n4        507     Cash     False\n...      ...      ...       ...\n4995     325  Invoice      True\n4996    1804  Invoice     False\n4997    1937     Cash      True\n4998    1165  Invoice      True\n4999    5495  Invoice      True\n\n[5000 rows x 3 columns]",
      "text/html": "<div>\n<style scoped>\n    .dataframe tbody tr th:only-of-type {\n        vertical-align: middle;\n    }\n\n    .dataframe tbody tr th {\n        vertical-align: top;\n    }\n\n    .dataframe thead th {\n        text-align: right;\n    }\n</style>\n<table border=\"1\" class=\"dataframe\">\n  <thead>\n    <tr style=\"text-align: right;\">\n      <th></th>\n      <th>Amount</th>\n      <th>Means</th>\n      <th>Business</th>\n    </tr>\n  </thead>\n  <tbody>\n    <tr>\n      <th>0</th>\n      <td>8436</td>\n      <td>Card</td>\n      <td>True</td>\n    </tr>\n    <tr>\n      <th>1</th>\n      <td>110</td>\n      <td>Cash</td>\n      <td>False</td>\n    </tr>\n    <tr>\n      <th>2</th>\n      <td>1771</td>\n      <td>Invoice</td>\n      <td>True</td>\n    </tr>\n    <tr>\n      <th>3</th>\n      <td>4716</td>\n      <td>Invoice</td>\n      <td>False</td>\n    </tr>\n    <tr>\n      <th>4</th>\n      <td>507</td>\n      <td>Cash</td>\n      <td>False</td>\n    </tr>\n    <tr>\n      <th>...</th>\n      <td>...</td>\n      <td>...</td>\n      <td>...</td>\n    </tr>\n    <tr>\n      <th>4995</th>\n      <td>325</td>\n      <td>Invoice</td>\n      <td>True</td>\n    </tr>\n    <tr>\n      <th>4996</th>\n      <td>1804</td>\n      <td>Invoice</td>\n      <td>False</td>\n    </tr>\n    <tr>\n      <th>4997</th>\n      <td>1937</td>\n      <td>Cash</td>\n      <td>True</td>\n    </tr>\n    <tr>\n      <th>4998</th>\n      <td>1165</td>\n      <td>Invoice</td>\n      <td>True</td>\n    </tr>\n    <tr>\n      <th>4999</th>\n      <td>5495</td>\n      <td>Invoice</td>\n      <td>True</td>\n    </tr>\n  </tbody>\n</table>\n<p>5000 rows × 3 columns</p>\n</div>"
     },
     "metadata": {}
    }
   ],
   "execution_count": null
  },
  {
   "cell_type": "code",
   "source": "import requests\nimport json\n\nurl = \"https://digibp.herokuapp.com/engine-rest/process-definition/key/Synthetic_Data_Gen/tenant-id/showcase/start\"\n\ncollection = \"\"\n\nfor index, row in df.iterrows():\n\n    if collection:\n        collection = collection + \",\"\n\n    collection = collection + json.dumps({\n        \"amount\": row['Amount'],\n        \"means\": row['Means'],\n        \"business\": row['Business']\n    })\n\npayload = json.dumps({\n  \"variables\": {\n    \"collection\": {\n      \"value\": \"{\\\"collection\\\":[\"+collection+\"]}\",\n      \"type\": \"json\"\n    },\n    \"decision\": {\n      \"value\": \"payment_decision\",\n      \"type\": \"String\"\n    }\n  }\n})\nheaders = {\n  'Content-Type': 'application/json',\n  'Accept': 'application/json'\n}\n\nresponse = requests.request(\"POST\", url, headers=headers, data=payload)\n\nprint(response.text)",
   "metadata": {
    "cell_id": "cb899798268c41788eafd65ecda42a81",
    "tags": [],
    "deepnote_to_be_reexecuted": false,
    "source_hash": "9d0a32c0",
    "execution_start": 1663160305618,
    "execution_millis": 1547,
    "deepnote_cell_type": "code",
    "deepnote_cell_height": 778.2000122070312,
    "deepnote_output_heights": [
     610
    ]
   },
   "outputs": [
    {
     "name": "stdout",
     "text": "{\"links\":[{\"method\":\"GET\",\"href\":\"https://digibp.herokuapp.com/engine-rest/process-instance/ec28ded8-342c-11ed-a639-ee4a36124437\",\"rel\":\"self\"}],\"id\":\"ec28ded8-342c-11ed-a639-ee4a36124437\",\"definitionId\":\"Synthetic_Data_Gen:2:373852d4-341c-11ed-a639-ee4a36124437\",\"businessKey\":null,\"caseInstanceId\":null,\"ended\":false,\"suspended\":false,\"tenantId\":\"showcase\"}\n",
     "output_type": "stream"
    }
   ],
   "execution_count": null
  },
  {
   "cell_type": "code",
   "source": "import httpimport\nwith httpimport.github_repo('DigiBP', 'digibp-camunda-external-python-task', 'cam'): import cam\n\nworker = cam.Client(\"https://digibp.herokuapp.com/engine-rest\")\n\nresponse = worker.subscribe(\"synthetic_data_gen_done\", None, \"showcase\")\n\ntaskid = str(response[0]['id'])\n\ndata  = json.loads(response[0]['variables']['combinedResult']['value'])['values']\n\ndf = df.assign(decision=data)\n\ndf.to_csv('payment_decision_file.csv', index=False)\n\nworker.complete(taskid)\n\ndf",
   "metadata": {
    "cell_id": "2ff4e94c3f9e4b37a8af65777697089c",
    "tags": [],
    "deepnote_to_be_reexecuted": false,
    "source_hash": "70d5e2d8",
    "execution_start": 1663160306520,
    "execution_millis": 214794,
    "deepnote_table_state": {
     "pageSize": 10,
     "pageIndex": 495,
     "filters": [],
     "sortBy": []
    },
    "deepnote_table_loading": false,
    "deepnote_cell_type": "code",
    "deepnote_cell_height": 1290.5999755859375
   },
   "outputs": [
    {
     "name": "stdout",
     "text": "polling subscription: synthetic_data_gen_done\n200\npolling subscription: synthetic_data_gen_done\n200\npolling subscription: synthetic_data_gen_done\n200\npolling subscription: synthetic_data_gen_done\n200\npolling subscription: synthetic_data_gen_done\n200\npolling subscription: synthetic_data_gen_done\n200\npolling subscription: synthetic_data_gen_done\n200\npolling subscription: synthetic_data_gen_done\n200\n\n204\n",
     "output_type": "stream"
    },
    {
     "output_type": "execute_result",
     "execution_count": 3,
     "data": {
      "application/vnd.deepnote.dataframe.v3+json": {
       "column_count": 4,
       "row_count": 5000,
       "columns": [
        {
         "name": "Amount",
         "dtype": "int64",
         "stats": {
          "unique_count": 3530,
          "nan_count": 0,
          "min": "1",
          "max": "9991",
          "histogram": [
           {
            "bin_start": 1,
            "bin_end": 1000,
            "count": 1236
           },
           {
            "bin_start": 1000,
            "bin_end": 1999,
            "count": 1261
           },
           {
            "bin_start": 1999,
            "bin_end": 2998,
            "count": 416
           },
           {
            "bin_start": 2998,
            "bin_end": 3997,
            "count": 397
           },
           {
            "bin_start": 3997,
            "bin_end": 4996,
            "count": 382
           },
           {
            "bin_start": 4996,
            "bin_end": 5995,
            "count": 406
           },
           {
            "bin_start": 5995,
            "bin_end": 6994,
            "count": 392
           },
           {
            "bin_start": 6994,
            "bin_end": 7993,
            "count": 175
           },
           {
            "bin_start": 7993,
            "bin_end": 8992,
            "count": 166
           },
           {
            "bin_start": 8992,
            "bin_end": 9991,
            "count": 169
           }
          ]
         }
        },
        {
         "name": "Means",
         "dtype": "object",
         "stats": {
          "unique_count": 3,
          "nan_count": 0,
          "categories": [
           {
            "name": "Invoice",
            "count": 2596
           },
           {
            "name": "Cash",
            "count": 1954
           },
           {
            "name": "Card",
            "count": 450
           }
          ]
         }
        },
        {
         "name": "Business",
         "dtype": "bool",
         "stats": {
          "unique_count": 2,
          "nan_count": 0,
          "categories": [
           {
            "name": "True",
            "count": 3508
           },
           {
            "name": "False",
            "count": 1492
           }
          ]
         }
        },
        {
         "name": "decision",
         "dtype": "object",
         "stats": {
          "unique_count": 3,
          "nan_count": 0,
          "categories": [
           {
            "name": "verify",
            "count": 2469
           },
           {
            "name": "reject",
            "count": 1458
           },
           {
            "name": "approve",
            "count": 1073
           }
          ]
         }
        },
        {
         "name": "_deepnote_index_column",
         "dtype": "int64"
        }
       ],
       "rows": [
        {
         "Amount": "1522",
         "Means": "Invoice",
         "Business": "True",
         "decision": "verify",
         "_deepnote_index_column": "4950"
        },
        {
         "Amount": "986",
         "Means": "Cash",
         "Business": "True",
         "decision": "verify",
         "_deepnote_index_column": "4951"
        },
        {
         "Amount": "4261",
         "Means": "Cash",
         "Business": "True",
         "decision": "reject",
         "_deepnote_index_column": "4952"
        },
        {
         "Amount": "5105",
         "Means": "Invoice",
         "Business": "True",
         "decision": "verify",
         "_deepnote_index_column": "4953"
        },
        {
         "Amount": "6023",
         "Means": "Invoice",
         "Business": "True",
         "decision": "verify",
         "_deepnote_index_column": "4954"
        },
        {
         "Amount": "4383",
         "Means": "Invoice",
         "Business": "False",
         "decision": "verify",
         "_deepnote_index_column": "4955"
        },
        {
         "Amount": "1680",
         "Means": "Card",
         "Business": "True",
         "decision": "approve",
         "_deepnote_index_column": "4956"
        },
        {
         "Amount": "9779",
         "Means": "Invoice",
         "Business": "False",
         "decision": "verify",
         "_deepnote_index_column": "4957"
        },
        {
         "Amount": "3335",
         "Means": "Cash",
         "Business": "False",
         "decision": "reject",
         "_deepnote_index_column": "4958"
        },
        {
         "Amount": "2987",
         "Means": "Invoice",
         "Business": "True",
         "decision": "verify",
         "_deepnote_index_column": "4959"
        }
       ]
      },
      "text/plain": "      Amount    Means  Business decision\n0       6470  Invoice     False   verify\n1       6816     Card      True   verify\n2       1913     Cash     False   reject\n3        948  Invoice      True  approve\n4       1858  Invoice     False   verify\n...      ...      ...       ...      ...\n4995    2787  Invoice     False   verify\n4996    4239     Cash     False   reject\n4997    6422     Card      True   verify\n4998    1452     Cash      True   reject\n4999    4362     Cash     False   reject\n\n[5000 rows x 4 columns]",
      "text/html": "<div>\n<style scoped>\n    .dataframe tbody tr th:only-of-type {\n        vertical-align: middle;\n    }\n\n    .dataframe tbody tr th {\n        vertical-align: top;\n    }\n\n    .dataframe thead th {\n        text-align: right;\n    }\n</style>\n<table border=\"1\" class=\"dataframe\">\n  <thead>\n    <tr style=\"text-align: right;\">\n      <th></th>\n      <th>Amount</th>\n      <th>Means</th>\n      <th>Business</th>\n      <th>decision</th>\n    </tr>\n  </thead>\n  <tbody>\n    <tr>\n      <th>0</th>\n      <td>6470</td>\n      <td>Invoice</td>\n      <td>False</td>\n      <td>verify</td>\n    </tr>\n    <tr>\n      <th>1</th>\n      <td>6816</td>\n      <td>Card</td>\n      <td>True</td>\n      <td>verify</td>\n    </tr>\n    <tr>\n      <th>2</th>\n      <td>1913</td>\n      <td>Cash</td>\n      <td>False</td>\n      <td>reject</td>\n    </tr>\n    <tr>\n      <th>3</th>\n      <td>948</td>\n      <td>Invoice</td>\n      <td>True</td>\n      <td>approve</td>\n    </tr>\n    <tr>\n      <th>4</th>\n      <td>1858</td>\n      <td>Invoice</td>\n      <td>False</td>\n      <td>verify</td>\n    </tr>\n    <tr>\n      <th>...</th>\n      <td>...</td>\n      <td>...</td>\n      <td>...</td>\n      <td>...</td>\n    </tr>\n    <tr>\n      <th>4995</th>\n      <td>2787</td>\n      <td>Invoice</td>\n      <td>False</td>\n      <td>verify</td>\n    </tr>\n    <tr>\n      <th>4996</th>\n      <td>4239</td>\n      <td>Cash</td>\n      <td>False</td>\n      <td>reject</td>\n    </tr>\n    <tr>\n      <th>4997</th>\n      <td>6422</td>\n      <td>Card</td>\n      <td>True</td>\n      <td>verify</td>\n    </tr>\n    <tr>\n      <th>4998</th>\n      <td>1452</td>\n      <td>Cash</td>\n      <td>True</td>\n      <td>reject</td>\n    </tr>\n    <tr>\n      <th>4999</th>\n      <td>4362</td>\n      <td>Cash</td>\n      <td>False</td>\n      <td>reject</td>\n    </tr>\n  </tbody>\n</table>\n<p>5000 rows × 4 columns</p>\n</div>"
     },
     "metadata": {}
    }
   ],
   "execution_count": null
  },
  {
   "cell_type": "code",
   "source": "import numpy as np\nimport pandas as pd\n\nnoise_size = int(size*0.01)\ndf_noise = pd.DataFrame()\ndf_noise['index'] = np.random.choice(noise_size, size=noise_size)\ndf_noise['decision'] = np.random.choice([\"approve\", \"verify\", \"reject\"], size=noise_size, p=[0.50, 0.40, 0.10])\n\nfor index, row in df_noise.iterrows():\n    df.loc[row['index'],'decision'] = row['decision']\n\ndf",
   "metadata": {
    "cell_id": "01b9447ee34b4ec39e001a2329b2482b",
    "tags": [],
    "deepnote_to_be_reexecuted": false,
    "source_hash": "8e2a4239",
    "execution_start": 1663160520718,
    "execution_millis": 597,
    "deepnote_table_state": {
     "pageSize": 10,
     "pageIndex": 1,
     "filters": [],
     "sortBy": []
    },
    "deepnote_table_loading": false,
    "deepnote_cell_type": "code",
    "deepnote_cell_height": 798
   },
   "outputs": [
    {
     "output_type": "execute_result",
     "execution_count": 4,
     "data": {
      "application/vnd.deepnote.dataframe.v3+json": {
       "column_count": 4,
       "row_count": 5000,
       "columns": [
        {
         "name": "Amount",
         "dtype": "int64",
         "stats": {
          "unique_count": 3530,
          "nan_count": 0,
          "min": "1",
          "max": "9991",
          "histogram": [
           {
            "bin_start": 1,
            "bin_end": 1000,
            "count": 1236
           },
           {
            "bin_start": 1000,
            "bin_end": 1999,
            "count": 1261
           },
           {
            "bin_start": 1999,
            "bin_end": 2998,
            "count": 416
           },
           {
            "bin_start": 2998,
            "bin_end": 3997,
            "count": 397
           },
           {
            "bin_start": 3997,
            "bin_end": 4996,
            "count": 382
           },
           {
            "bin_start": 4996,
            "bin_end": 5995,
            "count": 406
           },
           {
            "bin_start": 5995,
            "bin_end": 6994,
            "count": 392
           },
           {
            "bin_start": 6994,
            "bin_end": 7993,
            "count": 175
           },
           {
            "bin_start": 7993,
            "bin_end": 8992,
            "count": 166
           },
           {
            "bin_start": 8992,
            "bin_end": 9991,
            "count": 169
           }
          ]
         }
        },
        {
         "name": "Means",
         "dtype": "object",
         "stats": {
          "unique_count": 3,
          "nan_count": 0,
          "categories": [
           {
            "name": "Invoice",
            "count": 2596
           },
           {
            "name": "Cash",
            "count": 1954
           },
           {
            "name": "Card",
            "count": 450
           }
          ]
         }
        },
        {
         "name": "Business",
         "dtype": "bool",
         "stats": {
          "unique_count": 2,
          "nan_count": 0,
          "categories": [
           {
            "name": "True",
            "count": 3508
           },
           {
            "name": "False",
            "count": 1492
           }
          ]
         }
        },
        {
         "name": "decision",
         "dtype": "object",
         "stats": {
          "unique_count": 3,
          "nan_count": 0,
          "categories": [
           {
            "name": "verify",
            "count": 2472
           },
           {
            "name": "reject",
            "count": 1450
           },
           {
            "name": "approve",
            "count": 1078
           }
          ]
         }
        },
        {
         "name": "_deepnote_index_column",
         "dtype": "int64"
        }
       ],
       "rows": [
        {
         "Amount": "375",
         "Means": "Invoice",
         "Business": "True",
         "decision": "approve",
         "_deepnote_index_column": "10"
        },
        {
         "Amount": "1120",
         "Means": "Invoice",
         "Business": "True",
         "decision": "reject",
         "_deepnote_index_column": "11"
        },
        {
         "Amount": "3907",
         "Means": "Invoice",
         "Business": "True",
         "decision": "verify",
         "_deepnote_index_column": "12"
        },
        {
         "Amount": "1150",
         "Means": "Cash",
         "Business": "True",
         "decision": "approve",
         "_deepnote_index_column": "13"
        },
        {
         "Amount": "1082",
         "Means": "Cash",
         "Business": "True",
         "decision": "reject",
         "_deepnote_index_column": "14"
        },
        {
         "Amount": "465",
         "Means": "Cash",
         "Business": "True",
         "decision": "approve",
         "_deepnote_index_column": "15"
        },
        {
         "Amount": "652",
         "Means": "Cash",
         "Business": "True",
         "decision": "verify",
         "_deepnote_index_column": "16"
        },
        {
         "Amount": "1803",
         "Means": "Card",
         "Business": "False",
         "decision": "approve",
         "_deepnote_index_column": "17"
        },
        {
         "Amount": "2899",
         "Means": "Cash",
         "Business": "False",
         "decision": "reject",
         "_deepnote_index_column": "18"
        },
        {
         "Amount": "7082",
         "Means": "Invoice",
         "Business": "True",
         "decision": "approve",
         "_deepnote_index_column": "19"
        }
       ]
      },
      "text/plain": "      Amount    Means  Business decision\n0       6470  Invoice     False   verify\n1       6816     Card      True   verify\n2       1913     Cash     False  approve\n3        948  Invoice      True   verify\n4       1858  Invoice     False   verify\n...      ...      ...       ...      ...\n4995    2787  Invoice     False   verify\n4996    4239     Cash     False   reject\n4997    6422     Card      True   verify\n4998    1452     Cash      True   reject\n4999    4362     Cash     False   reject\n\n[5000 rows x 4 columns]",
      "text/html": "<div>\n<style scoped>\n    .dataframe tbody tr th:only-of-type {\n        vertical-align: middle;\n    }\n\n    .dataframe tbody tr th {\n        vertical-align: top;\n    }\n\n    .dataframe thead th {\n        text-align: right;\n    }\n</style>\n<table border=\"1\" class=\"dataframe\">\n  <thead>\n    <tr style=\"text-align: right;\">\n      <th></th>\n      <th>Amount</th>\n      <th>Means</th>\n      <th>Business</th>\n      <th>decision</th>\n    </tr>\n  </thead>\n  <tbody>\n    <tr>\n      <th>0</th>\n      <td>6470</td>\n      <td>Invoice</td>\n      <td>False</td>\n      <td>verify</td>\n    </tr>\n    <tr>\n      <th>1</th>\n      <td>6816</td>\n      <td>Card</td>\n      <td>True</td>\n      <td>verify</td>\n    </tr>\n    <tr>\n      <th>2</th>\n      <td>1913</td>\n      <td>Cash</td>\n      <td>False</td>\n      <td>approve</td>\n    </tr>\n    <tr>\n      <th>3</th>\n      <td>948</td>\n      <td>Invoice</td>\n      <td>True</td>\n      <td>verify</td>\n    </tr>\n    <tr>\n      <th>4</th>\n      <td>1858</td>\n      <td>Invoice</td>\n      <td>False</td>\n      <td>verify</td>\n    </tr>\n    <tr>\n      <th>...</th>\n      <td>...</td>\n      <td>...</td>\n      <td>...</td>\n      <td>...</td>\n    </tr>\n    <tr>\n      <th>4995</th>\n      <td>2787</td>\n      <td>Invoice</td>\n      <td>False</td>\n      <td>verify</td>\n    </tr>\n    <tr>\n      <th>4996</th>\n      <td>4239</td>\n      <td>Cash</td>\n      <td>False</td>\n      <td>reject</td>\n    </tr>\n    <tr>\n      <th>4997</th>\n      <td>6422</td>\n      <td>Card</td>\n      <td>True</td>\n      <td>verify</td>\n    </tr>\n    <tr>\n      <th>4998</th>\n      <td>1452</td>\n      <td>Cash</td>\n      <td>True</td>\n      <td>reject</td>\n    </tr>\n    <tr>\n      <th>4999</th>\n      <td>4362</td>\n      <td>Cash</td>\n      <td>False</td>\n      <td>reject</td>\n    </tr>\n  </tbody>\n</table>\n<p>5000 rows × 4 columns</p>\n</div>"
     },
     "metadata": {}
    }
   ],
   "execution_count": null
  },
  {
   "cell_type": "markdown",
   "source": "<a style='text-decoration:none;line-height:16px;display:flex;color:#5B5B62;padding:10px;justify-content:end;' href='https://deepnote.com?utm_source=created-in-deepnote-cell&projectId=3cfa0341-d9ff-404f-9c44-bcc446a7617d' target=\"_blank\">\n<img alt='Created in deepnote.com' style='display:inline;max-height:16px;margin:0px;margin-right:7.5px;' src='data:image/svg+xml;base64,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' > </img>\nCreated in <span style='font-weight:600;margin-left:4px;'>Deepnote</span></a>",
   "metadata": {
    "tags": [],
    "created_in_deepnote_cell": true,
    "deepnote_cell_type": "markdown"
   }
  }
 ],
 "nbformat": 4,
 "nbformat_minor": 2,
 "metadata": {
  "orig_nbformat": 2,
  "deepnote": {},
  "deepnote_notebook_id": "d4a0965b-3ca7-4cb2-b6e5-3bbbee5f42ad",
  "deepnote_execution_queue": [],
  "deepnote_persisted_session": {
   "createdAt": "2022-09-14T16:31:45.310Z"
  }
 }
}