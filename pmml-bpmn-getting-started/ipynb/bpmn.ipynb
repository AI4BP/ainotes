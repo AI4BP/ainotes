{
 "cells": [
  {
   "cell_type": "markdown",
   "source": "# Getting Started with PMML and Camunda\n\n*... a tutorial for students at FHNW, written by [Andreas Martin, PhD](https://andreasmartin.ch).*\n\n|[![deepnote](https://deepnote.com/buttons/launch-in-deepnote-small.svg)](https://deepnote.com/launch?url=https%3A%2F%2Fgithub.com%2FAI4BP%2Fainotes%2Fblob%2Fmain%2Fpmml-bpmn-getting-started%2Fipynb%2Fbpmn.ipynb)|[![Collab](https://colab.research.google.com/assets/colab-badge.svg)](https://colab.research.google.com/github/AI4BP/ainotes/blob/main/pmml-bpmn-getting-started/ipynb/bpmn.ipynb)|[![Gitpod](https://img.shields.io/badge/Gitpod-Run%20in%20VS%20Code-908a85?logo=gitpod)](https://gitpod.io/#https://github.com/AI4BP/ainotes/)|[![GitHub.dev](https://img.shields.io/badge/github.dev-Open%20in%20VS%20Code-908a85?logo=github)](https://github.dev/AI4BP/ainotes/blob/main/pmml-bpmn-getting-started/ipynb/bpmn.ipynb)|\n|-|-|-|-|\n\nThis short tutorial aims to complement a BPMN workflow with a PMML task and is the conclusion of a series of tutorials.",
   "metadata": {
    "id": "07pKC6QDXX0S",
    "cell_id": "848b275cdc624fa6906278f139212121",
    "deepnote_cell_type": "markdown"
   }
  },
  {
   "cell_type": "markdown",
   "source": "### 🛑 Prerequisite and Use Case\nThis tutorial uses the PMML model generated in the [Getting Started with PMML](https://github.com/AI4BP/ainotes/blob/main/pmml-bpmn-getting-started/ipynb/pmml.ipynb) tutorial, which is about an **expense authorization process** use case as depicted in the Fig a. It is therefore recommended that you run this notebook first.\n\n![](https://github.com/AI4BP/ainotes/raw/main/sklearn-getting-started/ipynb/images/expense-authorization-sklearn.png)\n\n**Fig a**: expense authorization process",
   "metadata": {
    "id": "_YJcShEfbLuq",
    "cell_id": "5e3c402bcbaa4f2a9daa73ba9cfe59d2",
    "deepnote_cell_type": "markdown"
   }
  },
  {
   "cell_type": "markdown",
   "source": "### 🚧 Main Task\nThe task in this tutorial is to enrich a BPMN model, depicted in Fig a, with a PMML file and configure a dedicated task by using a PMML connector.",
   "metadata": {
    "id": "bzarPqtIlaii",
    "cell_id": "70f7020b649e48dca81521f46cffaa37",
    "deepnote_cell_type": "markdown"
   }
  },
  {
   "cell_type": "markdown",
   "source": "## 1. Decision Task and PMML Connector\nFirst, we can configure the decision task within the BPMN model by using the Camunda Modeler. The classroom instantiation has been extended with a specific Camunda Connector for PMML, which can be used to execute a PMML model, provide input data from workflow variables and pass on output data (predictions) to workflow variables. Fig 1 shows the configurations required on the `expense-authorization-sklearn.bpmn` ([download BPMN model - here](https://cdn.jsdelivr.net/gh/AI4BP/ainotes/pmml-bpmn-getting-started/modelling/expense-authorization-sklearn.bpmn)) process.\n\n![](https://github.com/AI4BP/ainotes/raw/main/pmml-bpmn-getting-started/ipynb/images/expense-authorization-camunda-pmml.png)\n\n**Fig 1**: PMML-connector configuration in Camunda Modeler",
   "metadata": {
    "cell_id": "23f2d7d0da9f477e9d94da4dd0d240ee",
    "deepnote_cell_type": "markdown"
   }
  },
  {
   "cell_type": "markdown",
   "source": "## 2. DMN Variable Mapping and Deployment\nIn step 2 we mapped the text values to numerical values. We now have to map these in the process as shown in Fig 2a, as we are working with strings in the workflow.\n\n![](https://github.com/AI4BP/ainotes/raw/main/pmml-bpmn-getting-started/ipynb/images/automatic-approval-mapping-urgency.png)\n\n**Fig 2a**: variable mapping in DMN\n\nThen download the `automatic-approval-mapping.dmn` ([download DMN model - here](https://cdn.jsdelivr.net/gh/AI4BP/ainotes/pmml-bpmn-getting-started/modelling/automatic-approval-mapping.dmn)).\n\nFinally, you can upload the entire package as shown in Fig 2b, consisting of the BPMN, the DMN and the PMML file to the server and start the process.\n\n![](https://raw.githubusercontent.com/AI4BP/ainotes/main/pmml-bpmn-getting-started/ipynb/images/expense-authorization-camunda-pmml-deploy.png)\n\n**Fig 2b**: deployment of the a BPMN, DMN and PMML file with the Camunda Modeler",
   "metadata": {
    "cell_id": "9bc7f9a946344d94b42b24087998fc2a",
    "deepnote_cell_type": "markdown"
   }
  },
  {
   "cell_type": "markdown",
   "source": "## 3. Conclusion\n🎉 Now, finally, we can instantiate and run the process from the Camunda Platform task list.",
   "metadata": {
    "tags": [],
    "cell_id": "22325918d1574a7aa5485372746c06aa",
    "deepnote_cell_type": "markdown"
   }
  },
  {
   "cell_type": "markdown",
   "source": "<a style='text-decoration:none;line-height:16px;display:flex;color:#5B5B62;padding:10px;justify-content:end;' href='https://deepnote.com?utm_source=created-in-deepnote-cell&projectId=c750cc8c-2787-4dff-a694-c3d436167a57' target=\"_blank\">\n<img alt='Created in deepnote.com' style='display:inline;max-height:16px;margin:0px;margin-right:7.5px;' src='data:image/svg+xml;base64,PD94bWwgdmVyc2lvbj0iMS4wIiBlbmNvZGluZz0iVVRGLTgiPz4KPHN2ZyB3aWR0aD0iODBweCIgaGVpZ2h0PSI4MHB4IiB2aWV3Qm94PSIwIDAgODAgODAiIHZlcnNpb249IjEuMSIgeG1sbnM9Imh0dHA6Ly93d3cudzMub3JnLzIwMDAvc3ZnIiB4bWxuczp4bGluaz0iaHR0cDovL3d3dy53My5vcmcvMTk5OS94bGluayI+CiAgICA8IS0tIEdlbmVyYXRvcjogU2tldGNoIDU0LjEgKDc2NDkwKSAtIGh0dHBzOi8vc2tldGNoYXBwLmNvbSAtLT4KICAgIDx0aXRsZT5Hcm91cCAzPC90aXRsZT4KICAgIDxkZXNjPkNyZWF0ZWQgd2l0aCBTa2V0Y2guPC9kZXNjPgogICAgPGcgaWQ9IkxhbmRpbmciIHN0cm9rZT0ibm9uZSIgc3Ryb2tlLXdpZHRoPSIxIiBmaWxsPSJub25lIiBmaWxsLXJ1bGU9ImV2ZW5vZGQiPgogICAgICAgIDxnIGlkPSJBcnRib2FyZCIgdHJhbnNmb3JtPSJ0cmFuc2xhdGUoLTEyMzUuMDAwMDAwLCAtNzkuMDAwMDAwKSI+CiAgICAgICAgICAgIDxnIGlkPSJHcm91cC0zIiB0cmFuc2Zvcm09InRyYW5zbGF0ZSgxMjM1LjAwMDAwMCwgNzkuMDAwMDAwKSI+CiAgICAgICAgICAgICAgICA8cG9seWdvbiBpZD0iUGF0aC0yMCIgZmlsbD0iIzAyNjVCNCIgcG9pbnRzPSIyLjM3NjIzNzYyIDgwIDM4LjA0NzY2NjcgODAgNTcuODIxNzgyMiA3My44MDU3NTkyIDU3LjgyMTc4MjIgMzIuNzU5MjczOSAzOS4xNDAyMjc4IDMxLjY4MzE2ODMiPjwvcG9seWdvbj4KICAgICAgICAgICAgICAgIDxwYXRoIGQ9Ik0zNS4wMDc3MTgsODAgQzQyLjkwNjIwMDcsNzYuNDU0OTM1OCA0Ny41NjQ5MTY3LDcxLjU0MjI2NzEgNDguOTgzODY2LDY1LjI2MTk5MzkgQzUxLjExMjI4OTksNTUuODQxNTg0MiA0MS42NzcxNzk1LDQ5LjIxMjIyODQgMjUuNjIzOTg0Niw0OS4yMTIyMjg0IEMyNS40ODQ5Mjg5LDQ5LjEyNjg0NDggMjkuODI2MTI5Niw0My4yODM4MjQ4IDM4LjY0NzU4NjksMzEuNjgzMTY4MyBMNzIuODcxMjg3MSwzMi41NTQ0MjUgTDY1LjI4MDk3Myw2Ny42NzYzNDIxIEw1MS4xMTIyODk5LDc3LjM3NjE0NCBMMzUuMDA3NzE4LDgwIFoiIGlkPSJQYXRoLTIyIiBmaWxsPSIjMDAyODY4Ij48L3BhdGg+CiAgICAgICAgICAgICAgICA8cGF0aCBkPSJNMCwzNy43MzA0NDA1IEwyNy4xMTQ1MzcsMC4yNTcxMTE0MzYgQzYyLjM3MTUxMjMsLTEuOTkwNzE3MDEgODAsMTAuNTAwMzkyNyA4MCwzNy43MzA0NDA1IEM4MCw2NC45NjA0ODgyIDY0Ljc3NjUwMzgsNzkuMDUwMzQxNCAzNC4zMjk1MTEzLDgwIEM0Ny4wNTUzNDg5LDc3LjU2NzA4MDggNTMuNDE4MjY3Nyw3MC4zMTM2MTAzIDUzLjQxODI2NzcsNTguMjM5NTg4NSBDNTMuNDE4MjY3Nyw0MC4xMjg1NTU3IDM2LjMwMzk1NDQsMzcuNzMwNDQwNSAyNS4yMjc0MTcsMzcuNzMwNDQwNSBDMTcuODQzMDU4NiwzNy43MzA0NDA1IDkuNDMzOTE5NjYsMzcuNzMwNDQwNSAwLDM3LjczMDQ0MDUgWiIgaWQ9IlBhdGgtMTkiIGZpbGw9IiMzNzkzRUYiPjwvcGF0aD4KICAgICAgICAgICAgPC9nPgogICAgICAgIDwvZz4KICAgIDwvZz4KPC9zdmc+' > </img>\nCreated in <span style='font-weight:600;margin-left:4px;'>Deepnote</span></a>",
   "metadata": {
    "tags": [],
    "created_in_deepnote_cell": true,
    "deepnote_cell_type": "markdown"
   }
  }
 ],
 "nbformat": 4,
 "nbformat_minor": 0,
 "metadata": {
  "colab": {
   "name": "ML Getting Started.ipynb",
   "provenance": [],
   "collapsed_sections": []
  },
  "deepnote": {},
  "kernelspec": {
   "name": "python3",
   "display_name": "Python 3"
  },
  "language_info": {
   "name": "python"
  },
  "deepnote_notebook_id": "2a3df2dd77314abc9a4c374fa43dc043",
  "deepnote_execution_queue": []
 }
}