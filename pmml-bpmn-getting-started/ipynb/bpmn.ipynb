{
 "cells": [
  {
   "cell_type": "markdown",
   "source": "# ML-BPMN Getting Started with scikit-learn, PMML and Camunda\n\n*... a tutorial for students in the FHNW, written by [Andreas Martin, PhD](https://andreasmartin.ch).*\n\n|[![deepnote](https://deepnote.com/buttons/launch-in-deepnote-small.svg)](https://deepnote.com/launch?url=https%3A%2F%2Fgithub.com%2FAI4BP%2Fainotes%2Fblob%2Fmain%2Fipynb%2Fexpense-authorization-process%2Fexpense-authorization.ipynb)|[![Collab](https://colab.research.google.com/assets/colab-badge.svg)](https://colab.research.google.com/github/AI4BP/ainotes/blob/main/ipynb/expense-authorization-process/expense-authorization.ipynb)|[![Gitpod](https://img.shields.io/badge/Gitpod-Run%20in%20VS%20Code-908a85?logo=gitpod)](https://gitpod.io/#https://github.com/AI4BP/ainotes/)|[![GitHub.dev](https://img.shields.io/badge/github.dev-Open%20in%20VS%20Code-908a85?logo=github)](https://github.dev/AI4BP/ainotes/blob/main/ipynb/expense-authorization-process/expense-authorization.ipynb)|\n|-|-|-|-|\n\nThis short tutorial is intended to provide a straight forward introduction to machine learning using the widely used Python library **scikit-learn** (aka sklearn).\n\n> Trivia: The name *SciKit* is derived from its original intention being a SciPy Toolkit. SciPy is another Python library for scientific computing.\n\nSklearn enjoys huge popularity when it comes to classic machine learning methods; it is well documented, has a large developer community and besides the official documentation there are plenty of other good resources for the ML toolkit available on the web.\n\n> Sklearn is intended for **classical ML** and **not for Deep Learning**, although a Multi-layer Perceptron (MLP), for example, can be trained. Since Sklearn does **not support GPUs**, it is not suitable for large-scale applications.",
   "metadata": {
    "id": "07pKC6QDXX0S",
    "cell_id": "eabccb8e-3b4f-42c1-8b1a-8e2ce91c1ce1",
    "deepnote_cell_type": "markdown",
    "deepnote_cell_height": 506
   }
  },
  {
   "cell_type": "markdown",
   "source": "## Data and Use Case\nThis tutorial uses historical data from an expense reporting and audit process — the **expense authorization process** is depicted in the following Fig a:\n\n![](https://github.com/AI4BP/ainotes/raw/main/sklearn-getting-started/ipynb/images/expense-authorization-sklearn.png)\n\n**Fig a**: expense authorization process\n\nThis (possibly synthetic) data was collected by humans, which is approved or not based on the expense **category**, **urgency**, **target price** and actual **price** paid.\n\n> This use case has been inspired by an example/article of Donato Marrazzo (Red Hat, Inc.). He provided data, in a related GitHub repository [[1]](https://github.com/dmarrazzo/rhdm-dmn-pmml-order), of an **expense approval process**, which is used here in this tutorial, along with a series of articles ([[2]](https://developers.redhat.com/blog/2021/01/14/knowledge-meets-machine-learning-for-smarter-decisions-part-1#conclusion) and [[3]](https://developers.redhat.com/blog/2021/01/22/knowledge-meets-machine-learning-for-smarter-decisions-part-2#conclusion)).",
   "metadata": {
    "id": "_YJcShEfbLuq",
    "cell_id": "00001-2398edb4-efde-442a-956b-9ea35e1d0387",
    "deepnote_cell_type": "markdown",
    "deepnote_cell_height": 645.88330078125
   }
  },
  {
   "cell_type": "markdown",
   "source": "### 🚧 Main Task\nThe task in this tutorial is to train an ML model step by step and then generate a PMML file, which then implements the `Approve expense order (PMML)` activity depicted in Fig a.",
   "metadata": {
    "id": "bzarPqtIlaii",
    "cell_id": "00002-d83fb0ef-80b2-458d-8906-a2f91e82af07",
    "deepnote_cell_type": "markdown",
    "deepnote_cell_height": 122.80000305175781
   }
  },
  {
   "cell_type": "markdown",
   "source": "## 0. Initialization Configuration\nIn the following there is some code for initialization. For example, the URL to the data `url_data` and the BPMN/DMN models `url_modelling` is set.",
   "metadata": {
    "tags": [],
    "cell_id": "00003-43d89aa7-7b29-4d9e-9018-e37dad8deb04",
    "deepnote_cell_type": "markdown",
    "deepnote_cell_height": 130.8000030517578
   }
  },
  {
   "cell_type": "code",
   "metadata": {
    "deepnote_to_be_reexecuted": false,
    "execution_millis": 6,
    "execution_start": 1639653443311,
    "output_cleared": true,
    "source_hash": "9b1f6239",
    "tags": [],
    "cell_id": "00004-98587309-6304-4067-b332-6ab8922f28ec",
    "deepnote_cell_type": "code",
    "deepnote_cell_height": 261
   },
   "source": "import os\n\nurl_github = \"https://raw.githubusercontent.com/AI4BP/ainotes/main\"\nproject_folder = \"sklearn-getting-started\"\nworking_dir = os.path.normpath(os.getcwd()+\"/../\")\nurl_data = \"data\"\nurl_data = f\"{working_dir}/{url_data}\" if os.path.exists(f\"{working_dir}/{url_data}\") else f\"{url_github}/{project_folder}/{url_data}\"\nprint(url_data)\nurl_modelling = \"modelling\"\nurl_modelling = f\"{working_dir}/{url_modelling}\" if os.path.exists(f\"{working_dir}/{url_modelling}\") else f\"{url_github}/{project_folder}/{url_modelling}\"\nprint(url_modelling)",
   "execution_count": null,
   "outputs": []
  },
  {
   "cell_type": "markdown",
   "source": "## 13. Decision Task and PMML Connector\nWith the configuration insights from the PMML API, one can now configure the decision task within the BPMN model by using the Camunda Modeler. The classroom instantiation has been extended with a specific Camunda Connector for PMML, which can be used to execute a PMML model, provide input data from workflow variables and pass on output data (predictions) to workflow variables. Fig 13 shows the configurations required on the `expense-authorization-sklearn-init.bpmn` ([download BPMN model - here](https://ghcdn.rawgit.org/AI4BP/ainotes/main/ipynb/expense-authorization-process/modelling/expense-authorization-sklearn-init.bpmn)) process.\n\n![](https://github.com/AI4BP/ainotes/raw/main/sklearn-getting-started/ipynb/images/expense-authorization-camunda-pmml.png)\n\n**Fig 13**: PMML-connector configuration in Camunda Modeler",
   "metadata": {
    "cell_id": "00022-5867a34c-ab47-4ee1-b3a3-e3642a802471",
    "deepnote_cell_type": "markdown",
    "deepnote_cell_height": 1110.4000244140625
   }
  },
  {
   "cell_type": "markdown",
   "source": "## 14. DMN Variable Mapping and Deployment\nIn step 2 we mapped the text values to numerical values. We now have to map these in the process as shown in Fig 14a, as we are working with strings in the workflow.\n\n![](https://github.com/AI4BP/ainotes/raw/main/sklearn-getting-started/ipynb/images/automatic-approval-mapping-urgency.png)\n\n**Fig 14a**: variable mapping in DMN\n\nThen download the `automatic-approval-mapping.dmn` ([download DMN model - here](https://ghcdn.rawgit.org/AI4BP/ainotes/main/ipynb/expense-authorization-process/modelling/automatic-approval-mapping.dmn)).\n\nFinally, you can upload the entire package as shown in Fig 14b, consisting of the BPMN, the DMN and the PMML file to the server and start the process.\n\n![](https://raw.githubusercontent.com/AI4BP/ainotes/main/sklearn-getting-started/ipynb/images/expense-authorization-camunda-pmml-deploy.png)\n\n**Fig 14b**: deployment of the a BPMN, DMN and PMML file with the Camunda Modeler",
   "metadata": {
    "cell_id": "00023-ab3a4a30-101b-4731-8f1b-2d5e29cdf80e",
    "deepnote_cell_type": "markdown",
    "deepnote_cell_height": 975.7999877929688
   }
  },
  {
   "cell_type": "markdown",
   "source": "### 🔀 Alternative Way\nInstead of using the Camunda Modeler to configure the rule task in the BPMN model, we can deploy the entire package including the pre-configured BPMN file by executing the following code.\n\n> You may need to change the `tenant-id` first.",
   "metadata": {
    "tags": [],
    "cell_id": "00024-f688fe23-3a6f-4879-a065-3d99014c306c",
    "deepnote_cell_type": "markdown",
    "deepnote_cell_height": 173.1999969482422
   }
  },
  {
   "cell_type": "code",
   "metadata": {
    "deepnote_to_be_reexecuted": false,
    "execution_millis": 1308,
    "execution_start": 1637756777383,
    "output_cleared": true,
    "source_hash": "332a6df2",
    "tags": [],
    "cell_id": "00025-c402b0f1-a753-4ce2-bdad-460dca6b91dd",
    "deepnote_cell_type": "code",
    "deepnote_cell_height": 436
   },
   "source": "import requests\n\nbpmn_file_name = \"expense-authorization-sklearn.bpmn\"\nbpmn_file = requests.get(f\"{url_modelling}/{bpmn_file_name}\")\ndmn_file_name = \"automatic-approval-mapping.dmn\"\ndmn_file = requests.get(f\"{url_modelling}/{dmn_file_name}\")\n\nfiles = {\n    pmml_file_name: open(pmml_file_name, \"rb\"),\n    bpmn_file_name: bpmn_file.content,\n    dmn_file_name: dmn_file.content,\n}\n\nrequest_data = {\n    \"tenant-id\": \"showcase\",  # please change the tenant-id\n}\n\nresponse = requests.post(camunda_eninge_rest, files=files, data=request_data)\ndeployment_id = response.json()[\"id\"]\n\nprint(deployment_id)",
   "execution_count": null,
   "outputs": []
  },
  {
   "cell_type": "markdown",
   "source": "## 15. Conclusion\n🎉 Now, finally, we can instantiate and run the process from the Camunda Platform task list.",
   "metadata": {
    "tags": [],
    "cell_id": "00026-7962ef9c-3ebc-4919-b5aa-5db143bdfb4b",
    "deepnote_cell_type": "markdown",
    "deepnote_cell_height": 108.39999389648438
   }
  },
  {
   "cell_type": "markdown",
   "source": "<a style='text-decoration:none;line-height:16px;display:flex;color:#5B5B62;padding:10px;justify-content:end;' href='https://deepnote.com?utm_source=created-in-deepnote-cell&projectId=d0fd9439-c605-456d-a503-a84c619fa8f8' target=\"_blank\">\n<img alt='Created in deepnote.com' style='display:inline;max-height:16px;margin:0px;margin-right:7.5px;' src='data:image/svg+xml;base64,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' > </img>\nCreated in <span style='font-weight:600;margin-left:4px;'>Deepnote</span></a>",
   "metadata": {
    "tags": [],
    "created_in_deepnote_cell": true,
    "deepnote_cell_type": "markdown"
   }
  }
 ],
 "nbformat": 4,
 "nbformat_minor": 0,
 "metadata": {
  "colab": {
   "collapsed_sections": [],
   "name": "ML Getting Started.ipynb",
   "provenance": []
  },
  "deepnote": {},
  "deepnote_execution_queue": [],
  "deepnote_notebook_id": "a9c4f444-3863-4e14-82ea-30d53079c84b",
  "kernelspec": {
   "display_name": "Python 3",
   "name": "python3"
  },
  "language_info": {
   "name": "python"
  }
 }
}