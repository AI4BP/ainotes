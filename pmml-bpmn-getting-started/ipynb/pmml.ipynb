{
 "cells": [
  {
   "cell_type": "markdown",
   "source": "# ML-BPMN Getting Started with scikit-learn, PMML and Camunda\n\n*... a tutorial for students in the FHNW, written by [Andreas Martin, PhD](https://andreasmartin.ch).*\n\n|[![deepnote](https://deepnote.com/buttons/launch-in-deepnote-small.svg)](https://deepnote.com/launch?url=https%3A%2F%2Fgithub.com%2FAI4BP%2Fainotes%2Fblob%2Fmain%2Fipynb%2Fexpense-authorization-process%2Fexpense-authorization.ipynb)|[![Collab](https://colab.research.google.com/assets/colab-badge.svg)](https://colab.research.google.com/github/AI4BP/ainotes/blob/main/ipynb/expense-authorization-process/expense-authorization.ipynb)|[![Gitpod](https://img.shields.io/badge/Gitpod-Run%20in%20VS%20Code-908a85?logo=gitpod)](https://gitpod.io/#https://github.com/AI4BP/ainotes/)|[![GitHub.dev](https://img.shields.io/badge/github.dev-Open%20in%20VS%20Code-908a85?logo=github)](https://github.dev/AI4BP/ainotes/blob/main/ipynb/expense-authorization-process/expense-authorization.ipynb)|\n|-|-|-|-|\n\nThis short tutorial is intended to provide a straight forward introduction to machine learning using the widely used Python library **scikit-learn** (aka sklearn).\n\n> Trivia: The name *SciKit* is derived from its original intention being a SciPy Toolkit. SciPy is another Python library for scientific computing.\n\nSklearn enjoys huge popularity when it comes to classic machine learning methods; it is well documented, has a large developer community and besides the official documentation there are plenty of other good resources for the ML toolkit available on the web.\n\n> Sklearn is intended for **classical ML** and **not for Deep Learning**, although a Multi-layer Perceptron (MLP), for example, can be trained. Since Sklearn does **not support GPUs**, it is not suitable for large-scale applications.",
   "metadata": {
    "id": "07pKC6QDXX0S",
    "cell_id": "f9bbfadd-c49b-49be-8895-56d945ecd7c4",
    "deepnote_cell_type": "markdown",
    "deepnote_cell_height": 506
   }
  },
  {
   "cell_type": "markdown",
   "source": "## Data and Use Case\nThis tutorial uses historical data from an expense reporting and audit process — the **expense authorization process** is depicted in the following Fig a:\n\n![](https://github.com/AI4BP/ainotes/raw/main/sklearn-getting-started/ipynb/images/expense-authorization-sklearn.png)\n\n**Fig a**: expense authorization process\n\nThis (possibly synthetic) data was collected by humans, which is approved or not based on the expense **category**, **urgency**, **target price** and actual **price** paid.\n\n> This use case has been inspired by an example/article of Donato Marrazzo (Red Hat, Inc.). He provided data, in a related GitHub repository [[1]](https://github.com/dmarrazzo/rhdm-dmn-pmml-order), of an **expense approval process**, which is used here in this tutorial, along with a series of articles ([[2]](https://developers.redhat.com/blog/2021/01/14/knowledge-meets-machine-learning-for-smarter-decisions-part-1#conclusion) and [[3]](https://developers.redhat.com/blog/2021/01/22/knowledge-meets-machine-learning-for-smarter-decisions-part-2#conclusion)).",
   "metadata": {
    "id": "_YJcShEfbLuq",
    "cell_id": "00001-868dff2a-90b3-4a3d-946f-47be87c1ae1a",
    "deepnote_cell_type": "markdown",
    "deepnote_cell_height": 645.88330078125
   }
  },
  {
   "cell_type": "markdown",
   "source": "### 🚧 Main Task\nThe task in this tutorial is to train an ML model step by step and then generate a PMML file, which then implements the `Approve expense order (PMML)` activity depicted in Fig a.",
   "metadata": {
    "id": "bzarPqtIlaii",
    "cell_id": "00002-5e011e92-f723-4106-9dc1-4ff9c6741332",
    "deepnote_cell_type": "markdown",
    "deepnote_cell_height": 122.80000305175781
   }
  },
  {
   "cell_type": "markdown",
   "source": "## 0. Initialization Configuration\nIn the following there is some code for initialization. For example, the URL to the data `url_data` and the BPMN/DMN models `url_modelling` is set.",
   "metadata": {
    "tags": [],
    "cell_id": "00003-ce82d860-2046-496a-a79a-051de8de5096",
    "deepnote_cell_type": "markdown",
    "deepnote_cell_height": 130.8000030517578
   }
  },
  {
   "cell_type": "code",
   "metadata": {
    "deepnote_to_be_reexecuted": false,
    "execution_millis": 6,
    "execution_start": 1639653443311,
    "output_cleared": true,
    "source_hash": "9b1f6239",
    "tags": [],
    "cell_id": "00004-5a38925c-a5a7-4ccd-afcd-17253ddc40b0",
    "deepnote_cell_type": "code",
    "deepnote_cell_height": 261
   },
   "source": "import os\n\nurl_github = \"https://raw.githubusercontent.com/AI4BP/ainotes/main\"\nproject_folder = \"sklearn-getting-started\"\nworking_dir = os.path.normpath(os.getcwd()+\"/../\")\nurl_data = \"data\"\nurl_data = f\"{working_dir}/{url_data}\" if os.path.exists(f\"{working_dir}/{url_data}\") else f\"{url_github}/{project_folder}/{url_data}\"\nprint(url_data)\nurl_modelling = \"modelling\"\nurl_modelling = f\"{working_dir}/{url_modelling}\" if os.path.exists(f\"{working_dir}/{url_modelling}\") else f\"{url_github}/{project_folder}/{url_modelling}\"\nprint(url_modelling)",
   "execution_count": null,
   "outputs": []
  },
  {
   "cell_type": "markdown",
   "source": "## 1. Load the CSV File\nLoad the CSV file from GitHub and feed the data into the *data* variable by using [pandas](https://pandas.pydata.org/pandas-docs/stable/reference/api/pandas.read_csv.html). Pandas is intended to be a data analysis and manipulation tool, which is used here and the following steps until dataset separation.",
   "metadata": {
    "id": "ETuIabj8I47A",
    "cell_id": "00005-7af261de-9e42-49f8-af92-1faca19ee630",
    "deepnote_cell_type": "markdown",
    "deepnote_cell_height": 130.8000030517578
   }
  },
  {
   "cell_type": "code",
   "metadata": {
    "deepnote_to_be_reexecuted": false,
    "execution_millis": 96,
    "execution_start": 1639653443317,
    "id": "rVcppWD74FP4",
    "output_cleared": true,
    "source_hash": "f0cf657e",
    "cell_id": "00006-b4bc18e7-c329-41bf-bf63-94ca2f7c7243",
    "deepnote_cell_type": "code",
    "deepnote_cell_height": 148
   },
   "source": "import pandas\n\ndata = pandas.read_csv(f\"{url_data}/expense-authorization.csv\", sep=\",\")\n\ndata",
   "execution_count": null,
   "outputs": []
  },
  {
   "cell_type": "markdown",
   "source": "## 10. PMML Export\nIf necessary, the `sklearn2pmml` must be organised in advance via pip. Since `sklearn2pmml` requires the JRE (Java Runtime Environment), JRE may have to be installed beforehand, depending on the Jupyter environment.",
   "metadata": {
    "tags": [],
    "cell_id": "00042-86d8d9c8-149a-4b7e-b62b-673083090db2",
    "deepnote_cell_type": "markdown",
    "deepnote_cell_height": 130.8000030517578
   }
  },
  {
   "cell_type": "code",
   "metadata": {
    "allow_embed": false,
    "deepnote_to_be_reexecuted": false,
    "execution_millis": 36197,
    "execution_start": 1637756735699,
    "output_cleared": true,
    "source_hash": "b9ce2e2b",
    "tags": [],
    "cell_id": "00043-6ff6226e-b13e-4f37-8746-ca1742fc1f28",
    "deepnote_cell_type": "code",
    "deepnote_cell_height": 274
   },
   "source": "try:\n    import sklearn2pmml\nexcept:\n    !pip -qq install sklearn2pmml\n\nfrom sklearn2pmml import _java_version\n\nif _java_version(\"UTF-8\") is None:\n    !sudo apt -qq update > /dev/null\n    !sudo apt -qq install -y default-jre > /dev/null\n\nprint(_java_version(\"UTF-8\"))",
   "execution_count": null,
   "outputs": []
  },
  {
   "cell_type": "markdown",
   "source": "Finally, the trained model can now be exported with the library [sklearn2pmml](https://github.com/jpmml/sklearn2pmml) to PMML.\n\n",
   "metadata": {
    "id": "87LVknNFM_kt",
    "cell_id": "00044-f7e736e1-5a0d-42bd-808f-8e72ecb019a3",
    "deepnote_cell_type": "markdown",
    "deepnote_cell_height": 52.399993896484375
   }
  },
  {
   "cell_type": "code",
   "metadata": {
    "deepnote_to_be_reexecuted": false,
    "execution_millis": 3054,
    "execution_start": 1637756771904,
    "id": "DKrwTdECHurK",
    "output_cleared": true,
    "source_hash": "ae778c69",
    "cell_id": "00045-bf3b412f-622a-4c4d-97c8-975a033c55b2",
    "deepnote_cell_type": "code",
    "deepnote_cell_height": 274
   },
   "source": "import sklearn2pmml\n\npmml_file_name = \"expense-authorization-sklearn.pmml\"\n\nfrom sklearn2pmml import make_pmml_pipeline, sklearn2pmml\n\npipeline = make_pmml_pipeline(\n    model,\n    active_fields=[\"category\", \"urgency\", \"targetPrice\", \"price\"],\n    target_fields=[\"approved\"],\n)\nsklearn2pmml(pipeline, pmml_file_name)",
   "execution_count": null,
   "outputs": []
  },
  {
   "cell_type": "markdown",
   "source": "## 11. PMML Deployment\nAfter we have created the PMML file, we can upload it with the follwing code.\n\n> You may need to change the `tenant-id` first.",
   "metadata": {
    "tags": [],
    "cell_id": "00046-12bfb2eb-f8bf-4316-9c89-fdbfad4a0434",
    "deepnote_cell_type": "markdown",
    "deepnote_cell_height": 158.8000030517578
   }
  },
  {
   "cell_type": "code",
   "metadata": {
    "deepnote_to_be_reexecuted": false,
    "execution_millis": 570,
    "execution_start": 1637756774959,
    "output_cleared": true,
    "source_hash": "edd33f8d",
    "tags": [],
    "cell_id": "00047-85586d38-5b5e-4f83-a14c-19ae132bb697",
    "deepnote_cell_type": "code",
    "deepnote_cell_height": 310
   },
   "source": "import requests\n\ncamunda_eninge_rest = \"https://digibp.herokuapp.com/engine-rest/deployment/create\"\n\nrequest_file = {pmml_file_name: (pmml_file_name, open(pmml_file_name, \"rb\"))}\n\nrequest_data = {\n    \"tenant-id\": \"showcase\",  # please change the tenant-id\n}\n\nresponse = requests.post(camunda_eninge_rest, files=request_file, data=request_data)\ndeployment_id = response.json()[\"id\"]\n\nprint(deployment_id)",
   "execution_count": null,
   "outputs": []
  },
  {
   "cell_type": "markdown",
   "source": "## 12. PMML Testing\nFor executing the PMML files together with a Camunda Workflow, we can use the provided classroom instantiation, which has been extended with `jpmml`, the [Java PMML API](https://github.com/jpmml). Now can use the obtained `deployment-id` to construct the `requests` url - **so please change the following** `deployment_id`.",
   "metadata": {
    "tags": [],
    "cell_id": "00049-ded732a8-e6a9-48f1-9da5-49e786593e28",
    "deepnote_cell_type": "markdown",
    "deepnote_cell_height": 153.1999969482422
   }
  },
  {
   "cell_type": "code",
   "metadata": {
    "deepnote_to_be_reexecuted": false,
    "execution_millis": 15,
    "execution_start": 1637756775527,
    "output_cleared": true,
    "source_hash": "3dde8b75",
    "tags": [],
    "cell_id": "00050-da07db0b-09a4-4fa6-a710-9d6b51ad2d70",
    "deepnote_cell_type": "code",
    "deepnote_cell_height": 274
   },
   "source": "try:\n    deployment_id\nexcept:\n    deployment_id = (\n        \"f85423d8-47e1-11ec-834e-eea2248ab9a4\"  # please change the deployment-id!\n    )\n\nevaluate_url = (\n    f\"https://digibp.herokuapp.com/pmml/{deployment_id}/{pmml_file_name}/evaluate\"\n)\n\nprint(evaluate_url)",
   "execution_count": null,
   "outputs": []
  },
  {
   "cell_type": "markdown",
   "source": "Now we are ready to send a `GET` request to the DigiBP PMML API to retrieve our input variable structure of our deployed PMML file.",
   "metadata": {
    "tags": [],
    "cell_id": "00051-616f855c-a981-4ec4-8f5c-e85dce948672",
    "deepnote_cell_type": "markdown",
    "deepnote_cell_height": 74.80000305175781
   }
  },
  {
   "cell_type": "code",
   "metadata": {
    "deepnote_to_be_reexecuted": false,
    "execution_millis": 1323,
    "execution_start": 1637756775538,
    "output_cleared": true,
    "source_hash": "60af51ae",
    "tags": [],
    "cell_id": "00052-f885ee39-b857-4ccd-aeb1-13c8a84ea8c7",
    "deepnote_cell_type": "code",
    "deepnote_cell_height": 148
   },
   "source": "import requests, json\n\nresponse = requests.get(f\"{evaluate_url}/generate-input\")\n\nprint(json.dumps(response.json(), indent=2))",
   "execution_count": null,
   "outputs": []
  },
  {
   "cell_type": "markdown",
   "source": "Finally, in this step, we can copy-and-paste the input variable structure from above as input to the `payload` variable and adjust the values.",
   "metadata": {
    "tags": [],
    "cell_id": "00053-733b08f0-3799-44a2-b9be-8f0dae97bfd2",
    "deepnote_cell_type": "markdown",
    "deepnote_cell_height": 74.80000305175781
   }
  },
  {
   "cell_type": "code",
   "metadata": {
    "deepnote_to_be_reexecuted": false,
    "execution_millis": 509,
    "execution_start": 1637756776863,
    "output_cleared": true,
    "source_hash": "a6f1a75a",
    "tags": [],
    "cell_id": "00054-d1e3584b-ae53-49bf-aca5-067ed2253c70",
    "deepnote_cell_type": "code",
    "deepnote_cell_height": 148
   },
   "source": "payload = {\"variables\": {\"targetPrice\": 520, \"urgency\": 0, \"price\": 480, \"category\": 1}}\n\nresponse = requests.post(evaluate_url, json=payload)\n\nprint(json.dumps(response.json(), indent=2))",
   "execution_count": null,
   "outputs": []
  },
  {
   "cell_type": "markdown",
   "source": "We now should have received a possible output (prediction) of the PMML evaluation. In this use case, we should receive an `approved` variable, which is of type `Boolean`.",
   "metadata": {
    "tags": [],
    "cell_id": "00055-93daa388-cfe8-4398-8dfc-1b8ed1b02125",
    "deepnote_cell_type": "markdown",
    "deepnote_cell_height": 74.80000305175781
   }
  },
  {
   "cell_type": "markdown",
   "source": "### 🔀 Alternative Way\nThis step is an alternative approach by using a Swagger UI. The provided classroom instantiation provides an own basic testing Swagger UI. This [PMML API Swagger UI](https://digibp.herokuapp.com/swagger-ui/#/pmmlapi) gives us the possibility, to `generate-input` fields and `evaluate` our PMML model as depicted in Fig 12.\n\n![](https://github.com/AI4BP/ainotes/raw/main/sklearn-getting-started/ipynb/images/camunda-pmml-api.png)\n\n**Fig 12**: PMML API Swagger UI",
   "metadata": {
    "tags": [],
    "cell_id": "00056-9354279e-2a46-4f3a-95df-1a011508b3a1",
    "deepnote_cell_type": "markdown",
    "deepnote_cell_height": 1283.566650390625
   }
  },
  {
   "cell_type": "markdown",
   "source": "<a style='text-decoration:none;line-height:16px;display:flex;color:#5B5B62;padding:10px;justify-content:end;' href='https://deepnote.com?utm_source=created-in-deepnote-cell&projectId=d0fd9439-c605-456d-a503-a84c619fa8f8' target=\"_blank\">\n<img alt='Created in deepnote.com' style='display:inline;max-height:16px;margin:0px;margin-right:7.5px;' src='data:image/svg+xml;base64,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' > </img>\nCreated in <span style='font-weight:600;margin-left:4px;'>Deepnote</span></a>",
   "metadata": {
    "tags": [],
    "created_in_deepnote_cell": true,
    "deepnote_cell_type": "markdown"
   }
  }
 ],
 "nbformat": 4,
 "nbformat_minor": 0,
 "metadata": {
  "colab": {
   "collapsed_sections": [],
   "name": "ML Getting Started.ipynb",
   "provenance": []
  },
  "deepnote": {},
  "deepnote_execution_queue": [],
  "deepnote_notebook_id": "5cded1aa-2346-4704-8814-119982de42d9",
  "kernelspec": {
   "display_name": "Python 3",
   "name": "python3"
  },
  "language_info": {
   "name": "python"
  }
 }
}