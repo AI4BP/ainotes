{
 "cells": [
  {
   "cell_type": "markdown",
   "source": "# Payment Scoring\n\n*... a tutorial for students in the FHNW, written by [Andreas Martin, PhD](https://andreasmartin.ch).*\n\n|[![deepnote](https://deepnote.com/buttons/launch-in-deepnote-small.svg)](https://deepnote.com/launch?url=https%3A%2F%2Fgithub.com%2FAI4BP%2Fainotes%2Fblob%2Fmain%2Fipynb%2Forder-approval-process%2Forder-approval.ipynb)|[![Collab](https://colab.research.google.com/assets/colab-badge.svg)](https://colab.research.google.com/github/AI4BP/ainotes/blob/main/ipynb/order-approval-process/order-approval.ipynb)|[![Gitpod](https://img.shields.io/badge/Gitpod-Run%20in%20VS%20Code-908a85?logo=gitpod)](https://gitpod.io/#https://github.com/AI4BP/ainotes/)|[![GitHub.dev](https://img.shields.io/badge/github.dev-Open%20in%20VS%20Code-908a85?logo=github)](https://github.dev/AI4BP/ainotes/blob/main/ipynb/order-approval-process/order-approval.ipynb)|\n|-|-|-|-|",
   "metadata": {
    "id": "07pKC6QDXX0S",
    "cell_id": "c08a7df6-5362-41e4-b495-8d7b0c644ff8",
    "deepnote_cell_type": "markdown",
    "deepnote_cell_height": 196.39999389648438
   }
  },
  {
   "cell_type": "markdown",
   "source": "## 0. Initialization Configuration\nIn the following there is some code for initialization. For example, the URL to the data `url_data` and the BPMN/DMN models `url_modelling` is set.",
   "metadata": {
    "tags": [],
    "cell_id": "00003-1b2a4987-2fe7-4bbc-b75d-668337642880",
    "deepnote_cell_type": "markdown",
    "deepnote_cell_height": 130.8000030517578
   }
  },
  {
   "cell_type": "code",
   "metadata": {
    "deepnote_to_be_reexecuted": false,
    "execution_millis": 26533961925,
    "execution_start": 1666187405236,
    "output_cleared": true,
    "source_hash": "9b1f6239",
    "tags": [],
    "cell_id": "00004-a659616a-03b9-40a9-891c-bb5d5ef71609",
    "deepnote_cell_type": "code",
    "deepnote_cell_height": 130
   },
   "source": "url_github = \"https://raw.githubusercontent.com/AI4BP/ainotes/main\"\nproject_name = \"order-approval-process\"\nurl_data = f\"{url_github}/data/{project_name}\"\nurl_modelling = f\"{url_github}/modelling/{project_name}\"",
   "execution_count": null,
   "outputs": []
  },
  {
   "cell_type": "markdown",
   "source": "## 1. Load the CSV File\nLoad the CSV file from GitHub and feed the data into the *data* variable by using [pandas](https://pandas.pydata.org/pandas-docs/stable/reference/api/pandas.read_csv.html). Pandas is intended to be a data analysis and manipulation tool, which is used here and the following steps until dataset separation.",
   "metadata": {
    "id": "ETuIabj8I47A",
    "cell_id": "00005-7aabe5dc-b42e-4b31-b533-31a875618171",
    "deepnote_cell_type": "markdown",
    "deepnote_cell_height": 130.8000030517578
   }
  },
  {
   "cell_type": "code",
   "source": "import pandas\n\ndata = pandas.read_csv(f\"{url_data}/payment-scoring.csv\", sep=\",\")\n\ndata",
   "metadata": {
    "deepnote_to_be_reexecuted": false,
    "execution_millis": 208,
    "execution_start": 1666187405237,
    "id": "rVcppWD74FP4",
    "output_cleared": true,
    "source_hash": "820b2352",
    "cell_id": "00006-ea27f42b-8277-41fa-a8a8-0b95fb933aa9",
    "deepnote_cell_type": "code",
    "deepnote_cell_height": 148
   },
   "execution_count": null,
   "outputs": []
  },
  {
   "cell_type": "markdown",
   "source": "## 2. Map Categories to Numbers\nTo feed that data into our ML model, we need to convert and map the categorical strings to numbers.",
   "metadata": {
    "id": "wLYOC5z0KVTW",
    "cell_id": "00007-01d5c6bd-cfe0-4a6e-8465-0cf906011fcb",
    "deepnote_cell_type": "markdown",
    "deepnote_cell_height": 108.39999389648438
   }
  },
  {
   "cell_type": "code",
   "source": "legal_entity = {\"private\": 0, \"juristical\": 1}\ndata.legal_entity = [legal_entity[item] for item in data.legal_entity]\npayment_method = {\"invoice\": 0, \"cash\": 1, \"creditcard\": 2, \"prepayment\": 3, \"twint\": 4}\ndata.payment_method = [payment_method[item] for item in data.payment_method]\nscoring = {\"green\": 0, \"orange\": 1, \"red\": 2}\ndata.scoring = [scoring[item] for item in data.scoring]\n\ndata",
   "metadata": {
    "deepnote_to_be_reexecuted": false,
    "execution_millis": 166,
    "execution_start": 1666187405279,
    "id": "5n3_Vp9tGrqR",
    "output_cleared": true,
    "source_hash": "2f6a2b11",
    "cell_id": "00008-15d409ec-a987-4e37-a197-a7eae62195b1",
    "deepnote_cell_type": "code",
    "deepnote_cell_height": 202
   },
   "execution_count": null,
   "outputs": []
  },
  {
   "cell_type": "markdown",
   "source": "## 3. Data Segregation and Feature Selection\nFor further processing, we need to segregate **X** and **y** as follows.",
   "metadata": {
    "id": "AXzXRqOQtU-5",
    "cell_id": "00009-def2c176-83fc-407b-9561-d1157bc7bd90",
    "deepnote_cell_type": "markdown",
    "deepnote_cell_height": 108.39999389648438
   }
  },
  {
   "cell_type": "code",
   "source": "X_data = data.drop(\"scoring\", axis=1)\ny_data = data.scoring\n\nprint(\"X Data:\\n\", X_data)\nprint(\"y Data:\\n\", y_data)",
   "metadata": {
    "deepnote_to_be_reexecuted": false,
    "execution_millis": 141,
    "execution_start": 1666187405304,
    "id": "UHCtfFvAss1d",
    "output_cleared": true,
    "source_hash": "4b109ed9",
    "cell_id": "00010-57c972f1-498e-4dd1-862e-4078028cc7bb",
    "deepnote_cell_type": "code",
    "deepnote_cell_height": 148
   },
   "execution_count": null,
   "outputs": []
  },
  {
   "cell_type": "markdown",
   "source": "## 4. Data Partitioning\nWe split / partition the data set into a training and a testing set to be able to evaluate the performance. ",
   "metadata": {
    "id": "trBM0nGkKhsn",
    "cell_id": "00011-e0bd92bd-efa4-475d-8deb-300cd1fde0b6",
    "deepnote_cell_type": "markdown",
    "deepnote_cell_height": 108.39999389648438
   }
  },
  {
   "cell_type": "code",
   "source": "from sklearn.model_selection import train_test_split\n\nX_train, X_test, y_train, y_test = train_test_split(\n    X_data, y_data, test_size=0.40, random_state=None\n)\n\nprint(\"X_train:\\n\", X_train)\nprint(\"y_train:\\n\", y_train)\nprint(\"X_test:\\n\", X_test)\nprint(\"y_test:\\n\", y_test)",
   "metadata": {
    "deepnote_to_be_reexecuted": false,
    "execution_millis": 1137,
    "execution_start": 1666187405316,
    "id": "4XvJsAxZGu2y",
    "output_cleared": true,
    "source_hash": "5be5e197",
    "cell_id": "00012-f5ba2436-cf87-4fdb-a751-2e2b2a522831",
    "deepnote_cell_type": "code",
    "deepnote_cell_height": 238
   },
   "execution_count": null,
   "outputs": []
  },
  {
   "cell_type": "markdown",
   "source": "## 5. Initialize Learner\nNow we are going to initialize the learner for our classification problem.",
   "metadata": {
    "id": "3MisMN8DPARA",
    "cell_id": "00014-49b069b3-cf85-4104-ad7f-d309b93aee60",
    "deepnote_cell_type": "markdown",
    "deepnote_cell_height": 108.39999389648438
   }
  },
  {
   "cell_type": "code",
   "source": "from sklearn.linear_model import LogisticRegression\n\nmodel = LogisticRegression(max_iter=1000, multi_class=\"auto\")\n\nprint(\"Model: \", model)",
   "metadata": {
    "deepnote_to_be_reexecuted": false,
    "execution_millis": 235,
    "execution_start": 1666187406449,
    "id": "h8pt4Rk5G1Bq",
    "output_cleared": true,
    "source_hash": "f9e1cdcf",
    "cell_id": "00016-c8094de5-20ee-4869-bcd1-2de37a6f4208",
    "deepnote_cell_type": "code",
    "deepnote_cell_height": 148
   },
   "execution_count": null,
   "outputs": []
  },
  {
   "cell_type": "markdown",
   "source": "### 🚧 Other Classification Models",
   "metadata": {
    "id": "xGw7HiJwQtB4",
    "cell_id": "00017-697cfa4d-9aff-41d5-bb80-0f5817ed9fb6",
    "deepnote_cell_type": "markdown",
    "deepnote_cell_height": 62
   }
  },
  {
   "cell_type": "code",
   "metadata": {
    "deepnote_to_be_reexecuted": false,
    "execution_millis": 0,
    "execution_start": 1666187406696,
    "id": "U9c5Mx57G9Ph",
    "output_cleared": true,
    "source_hash": "32eb425d",
    "cell_id": "00018-3416c3a8-ce7c-4ade-8cbe-b036e895d194",
    "deepnote_cell_type": "code",
    "deepnote_cell_height": 94
   },
   "source": "# from sklearn.tree import DecisionTreeClassifier\n# model = DecisionTreeClassifier()",
   "execution_count": null,
   "outputs": []
  },
  {
   "cell_type": "code",
   "metadata": {
    "deepnote_to_be_reexecuted": false,
    "execution_millis": 1,
    "execution_start": 1666187406696,
    "id": "CBVxmGdajsw-",
    "output_cleared": true,
    "source_hash": "5dffd04",
    "cell_id": "00019-b93f45fc-0d80-49d3-8667-4601d424754c",
    "deepnote_cell_type": "code",
    "deepnote_cell_height": 94
   },
   "source": "# from sklearn.svm import SVC\n# model = SVC()",
   "execution_count": null,
   "outputs": []
  },
  {
   "cell_type": "code",
   "metadata": {
    "deepnote_to_be_reexecuted": false,
    "execution_millis": 0,
    "execution_start": 1666187406697,
    "id": "BKHwN0nsjwPi",
    "output_cleared": true,
    "source_hash": "56171fdd",
    "cell_id": "00020-b8ef1033-5e84-4ea3-bd15-dbf7fb832c1a",
    "deepnote_cell_type": "code",
    "deepnote_cell_height": 94
   },
   "source": "# from sklearn.naive_bayes import GaussianNB\n# model = GaussianNB()",
   "execution_count": null,
   "outputs": []
  },
  {
   "cell_type": "code",
   "metadata": {
    "deepnote_to_be_reexecuted": false,
    "execution_millis": 2,
    "execution_start": 1666187406697,
    "id": "qCIPSciUjyGQ",
    "output_cleared": true,
    "source_hash": "84c0426c",
    "cell_id": "00021-3763bc21-26a0-4f36-815d-78f654b62e37",
    "deepnote_cell_type": "code",
    "deepnote_cell_height": 94
   },
   "source": "# from sklearn.neighbors import KNeighborsClassifier\n# model = KNeighborsClassifier()",
   "execution_count": null,
   "outputs": []
  },
  {
   "cell_type": "markdown",
   "source": "> ‼️ You can only initialize one model per run of the pipeline.",
   "metadata": {
    "id": "M1WtEuqWkU0Z",
    "cell_id": "00022-e81cbf64-f267-41d4-86e9-9c2493a183d7",
    "deepnote_cell_type": "markdown",
    "deepnote_cell_height": 66.39999389648438
   }
  },
  {
   "cell_type": "markdown",
   "source": "## 6. Tune Class Weights\n",
   "metadata": {
    "id": "Qz6qiXWAj8wY",
    "cell_id": "00023-824d1217-9bdd-4daf-a137-651e1e74ac30",
    "deepnote_cell_type": "markdown",
    "deepnote_cell_height": 70
   }
  },
  {
   "cell_type": "code",
   "source": "model.class_weight = {0: 1.0, 1: 0.5, 2:0.25}\n\nprint(\"Model: \", model)",
   "metadata": {
    "deepnote_to_be_reexecuted": false,
    "execution_millis": 7,
    "execution_start": 1666187406700,
    "id": "3AdUg58NHN2J",
    "output_cleared": true,
    "source_hash": "54bcc16d",
    "cell_id": "00024-291137fa-4fbc-4103-a24c-8d7f641f6823",
    "deepnote_cell_type": "code",
    "deepnote_cell_height": 112
   },
   "execution_count": null,
   "outputs": []
  },
  {
   "cell_type": "markdown",
   "source": "### 🚧 Grid Search\n\nWe can do some cross-validation and grid search to find the best class weight in the following.",
   "metadata": {
    "id": "_nlWoofZ1Sxi",
    "cell_id": "00025-37bb4367-65a4-4177-b1ab-21861fbb74a2",
    "deepnote_cell_type": "markdown",
    "deepnote_cell_height": 100.39999389648438
   }
  },
  {
   "cell_type": "code",
   "source": "import numpy as np\nfrom sklearn.model_selection import GridSearchCV\nfrom sklearn.utils.multiclass import is_multilabel\n\nweights = np.linspace(0.0, 0.99, 100)\nclass_weight = {\n    \"class_weight\": [{len(np.unique(y_data)) - 1: 1.0 - x} for x in weights]\n}\n\ngrid = GridSearchCV(\n    estimator=model,\n    param_grid=class_weight, #accuracy #f1_micro roc_auc_ovr roc_auc_ovo roc_auc_ovo_weighted\n    scoring=\"roc_auc\" if is_multilabel(y_data) else \"f1_micro\", #average_precision #precision #roc_auc\n    n_jobs=-1,\n    cv=5,\n    verbose=2,\n)\n\ngrid.fit(X_train, y_train)\n\nprint(f\"Class weight: {grid.best_params_['class_weight']}\")\nprint(f\"ROC AUC score: {grid.best_score_}\")",
   "metadata": {
    "deepnote_to_be_reexecuted": false,
    "execution_millis": 8573,
    "execution_start": 1666187406703,
    "output_cleared": true,
    "source_hash": "d48fcb76",
    "tags": [],
    "cell_id": "00026-a5599ba5-234a-4b3e-a78e-93ddebac353b",
    "deepnote_cell_type": "code",
    "deepnote_cell_height": 454
   },
   "execution_count": null,
   "outputs": []
  },
  {
   "cell_type": "markdown",
   "source": "## 7. Train Model\nNow we can train the configured model on the training set by using the sklearn `fit` method.",
   "metadata": {
    "id": "dfQUl4mx1ggh",
    "cell_id": "00028-385de6b3-9e59-423a-a87e-fdf0f04a4d59",
    "deepnote_cell_type": "markdown",
    "deepnote_cell_height": 108.39999389648438
   }
  },
  {
   "cell_type": "code",
   "source": "model.fit(X_train, y_train)",
   "metadata": {
    "deepnote_to_be_reexecuted": false,
    "execution_millis": 13,
    "execution_start": 1666187415301,
    "id": "rjDLhNHsHVlz",
    "output_cleared": true,
    "source_hash": "69d3b53d",
    "cell_id": "00029-9432db92-5f56-4f39-b45c-20dc29739d37",
    "deepnote_cell_type": "code",
    "deepnote_cell_height": 76,
    "deepnote_output_heights": [
     59
    ]
   },
   "execution_count": null,
   "outputs": []
  },
  {
   "cell_type": "markdown",
   "source": "## 8. Make Predictions\n\nAfter training, we can use our testing set to make predictions by using the `predict` method sklearn. With the prediction, we can now retrieve and calculate performance metrics.",
   "metadata": {
    "id": "DSWa4xZU17qN",
    "cell_id": "00030-36d202b5-af37-4698-8276-9f21e6695300",
    "deepnote_cell_type": "markdown",
    "deepnote_cell_height": 130.8000030517578
   }
  },
  {
   "cell_type": "code",
   "source": "y_pred = model.predict(X_test)\n\nprint(\"Predictions (y): \", y_pred)",
   "metadata": {
    "deepnote_to_be_reexecuted": false,
    "execution_millis": 10,
    "execution_start": 1666187415304,
    "id": "rcu9urPpHYRz",
    "output_cleared": true,
    "source_hash": "f7bd19fe",
    "cell_id": "00031-f8a936c0-b0a7-4dc8-9803-f759ce1e1ce4",
    "deepnote_cell_type": "code",
    "deepnote_cell_height": 112
   },
   "execution_count": null,
   "outputs": []
  },
  {
   "cell_type": "markdown",
   "source": "## 9. Scoring\nUsing various scoring metrics, we can examine how well the trained model performs on the test set.",
   "metadata": {
    "id": "4gWLPieRliOL",
    "cell_id": "00032-1d3b4268-0222-4b19-936d-fceb19fa975d",
    "deepnote_cell_type": "markdown",
    "deepnote_cell_height": 108.39999389648438
   }
  },
  {
   "cell_type": "markdown",
   "source": "### 9.1 Precision, Recall, F1 and Accuracy\nIn the following, multiple methods of sklearn are used to get overall precision, recall, F1 and overall accuracy.",
   "metadata": {
    "id": "vf8hL2NoMiqT",
    "cell_id": "00033-8cc17acd-5e61-45e0-8f20-e280f3a54cf9",
    "deepnote_cell_type": "markdown",
    "deepnote_cell_height": 100.39999389648438
   }
  },
  {
   "cell_type": "code",
   "source": "from sklearn.metrics import recall_score, precision_score, f1_score, accuracy_score\n\nRS = recall_score(y_test, y_pred, average=\"micro\")\nprint(f\"Recall Score (RS): {100 * RS:.2f}%\")\n\nPS = precision_score(y_test, y_pred, average=\"micro\")\nprint(f\"Precision Score (PS): {100 * PS:.2f}%\")\n\nF1 = f1_score(y_test, y_pred, average=\"micro\")\nprint(f\"F1: {100 * F1:.2f}%\")\n\nAS = accuracy_score(y_test, y_pred)\nprint(f\"Accuracy Score (AS): {100 * AS:.2f}%\")",
   "metadata": {
    "deepnote_to_be_reexecuted": false,
    "execution_millis": 8,
    "execution_start": 1666187415308,
    "id": "XwoHVCa4HbMy",
    "output_cleared": true,
    "source_hash": "4bfdfaa6",
    "cell_id": "00034-abe0a6cc-afa7-4074-91dc-93deda9e5d49",
    "deepnote_cell_type": "code",
    "deepnote_cell_height": 292
   },
   "execution_count": null,
   "outputs": []
  },
  {
   "cell_type": "markdown",
   "source": "In the following, a classification report can be generated by using the `classification_report` method of sklearn to get precision, recall and F1 on each class or label.",
   "metadata": {
    "id": "ksM79E-Tzfco",
    "cell_id": "00035-dd53542d-52a2-43e6-9b05-ae9044d90875",
    "deepnote_cell_type": "markdown",
    "deepnote_cell_height": 74.80000305175781
   }
  },
  {
   "cell_type": "code",
   "source": "from sklearn.metrics import classification_report\n\nCR = classification_report(y_test, y_pred)\n\nprint(\"Classification Report (CR):\\n\", CR)",
   "metadata": {
    "deepnote_to_be_reexecuted": false,
    "execution_millis": 6,
    "execution_start": 1666187415377,
    "id": "gJmYhVCFK7fe",
    "output_cleared": true,
    "source_hash": "276f56dd",
    "cell_id": "00036-986d7671-b4bf-4490-bc3d-6eed2ebded40",
    "deepnote_cell_type": "code",
    "deepnote_cell_height": 148
   },
   "execution_count": null,
   "outputs": []
  },
  {
   "cell_type": "markdown",
   "source": "### 9.2 Confusion Matrix\nIn the following, a confusion matrix can be generated by using the `confusion_matrix` method of sklearn.\n\n> In binary classification problems, the confusion matrix consists of the number of true positive (TP), true negative (TN), false positive (FP) and false negative (FN) predictions.",
   "metadata": {
    "id": "GCHNmuuo6HaU",
    "owner_user_id": "b81d8aca-38ab-4463-9146-b4459821842a",
    "cell_id": "00037-ca958265-cbd5-4252-8427-0d241bf97595",
    "deepnote_cell_type": "markdown",
    "deepnote_cell_height": 173.1999969482422
   }
  },
  {
   "cell_type": "code",
   "source": "from sklearn.metrics import confusion_matrix\n\nCM = confusion_matrix(y_test, y_pred)\n\nprint(\"Confusion Matrix (CM):\\n\", CM)",
   "metadata": {
    "deepnote_to_be_reexecuted": false,
    "execution_millis": 5,
    "execution_start": 1666187415378,
    "id": "KhfWmimb6N3V",
    "output_cleared": true,
    "source_hash": "dc46b947",
    "cell_id": "00038-a1e01943-32bd-4b79-a683-9d2287639115",
    "deepnote_cell_type": "code",
    "deepnote_cell_height": 148
   },
   "execution_count": null,
   "outputs": []
  },
  {
   "cell_type": "markdown",
   "source": "The generated confusion matrix can be plotted with `ConfusionMatrixDisplay` of sklearn.",
   "metadata": {
    "id": "DJyoUg3xRg0O",
    "cell_id": "00039-b44e4d32-a311-49b4-bb5f-fac52ddec9c3",
    "deepnote_cell_type": "markdown",
    "deepnote_cell_height": 52.399993896484375
   }
  },
  {
   "cell_type": "code",
   "source": "from sklearn.metrics import ConfusionMatrixDisplay\nimport matplotlib.pyplot as plt\n\ndisp = ConfusionMatrixDisplay(confusion_matrix=CM, display_labels=model.classes_)\ndisp.plot(values_format=\"\")\nplt.show()",
   "metadata": {
    "deepnote_to_be_reexecuted": false,
    "execution_millis": 1929,
    "execution_start": 1666187415379,
    "is_output_hidden": false,
    "output_cleared": true,
    "source_hash": "d3e7a83c",
    "tags": [],
    "cell_id": "00040-ab186ded-b405-462c-8709-fb16bac3211e",
    "deepnote_cell_type": "code",
    "deepnote_cell_height": 166,
    "deepnote_output_heights": [
     433
    ]
   },
   "execution_count": null,
   "outputs": []
  },
  {
   "cell_type": "markdown",
   "source": "<a style='text-decoration:none;line-height:16px;display:flex;color:#5B5B62;padding:10px;justify-content:end;' href='https://deepnote.com?utm_source=created-in-deepnote-cell&projectId=3cfa0341-d9ff-404f-9c44-bcc446a7617d' target=\"_blank\">\n<img alt='Created in deepnote.com' style='display:inline;max-height:16px;margin:0px;margin-right:7.5px;' src='data:image/svg+xml;base64,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' > </img>\nCreated in <span style='font-weight:600;margin-left:4px;'>Deepnote</span></a>",
   "metadata": {
    "tags": [],
    "created_in_deepnote_cell": true,
    "deepnote_cell_type": "markdown"
   }
  }
 ],
 "nbformat": 4,
 "nbformat_minor": 0,
 "metadata": {
  "colab": {
   "collapsed_sections": [],
   "name": "ML Getting Started.ipynb",
   "provenance": []
  },
  "deepnote": {},
  "deepnote_execution_queue": [],
  "deepnote_notebook_id": "32a9b991-08e0-480b-a9e1-804ba4301f5a",
  "kernelspec": {
   "display_name": "Python 3",
   "name": "python3"
  },
  "language_info": {
   "name": "python"
  },
  "deepnote_persisted_session": {
   "createdAt": "2022-10-19T14:47:31.357Z"
  }
 }
}